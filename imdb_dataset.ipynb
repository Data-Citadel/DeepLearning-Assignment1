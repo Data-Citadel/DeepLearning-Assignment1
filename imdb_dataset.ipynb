{
  "nbformat": 4,
  "nbformat_minor": 0,
  "metadata": {
    "colab": {
      "name": "imdb_dataset_1.ipynb",
      "provenance": [],
      "collapsed_sections": []
    },
    "kernelspec": {
      "name": "python3",
      "display_name": "Python 3"
    },
    "accelerator": "GPU"
  },
  "cells": [
    {
      "cell_type": "markdown",
      "metadata": {
        "id": "iZgWUgU7eqIr"
      },
      "source": [
        "# 1. Import Libraries/Dataset"
      ]
    },
    {
      "cell_type": "markdown",
      "metadata": {
        "id": "2P2IiftxrM_c"
      },
      "source": [
        "## 1.a - Import required libraries"
      ]
    },
    {
      "cell_type": "markdown",
      "metadata": {
        "id": "s9Vnh-aTsq8f"
      },
      "source": [
        "### Pip Install"
      ]
    },
    {
      "cell_type": "code",
      "metadata": {
        "id": "yeCjjhAGI6eP",
        "outputId": "0ad2b68d-0a4c-4890-e15d-e7d0ef62522f",
        "colab": {
          "base_uri": "https://localhost:8080/",
          "height": 34
        }
      },
      "source": [
        "!pip install -q tensorflow-gpu kaggle bs4 tensorflow_hub"
      ],
      "execution_count": null,
      "outputs": [
        {
          "output_type": "stream",
          "text": [
            "\u001b[K     |████████████████████████████████| 320.4MB 54kB/s \n",
            "\u001b[?25h"
          ],
          "name": "stdout"
        }
      ]
    },
    {
      "cell_type": "markdown",
      "metadata": {
        "id": "l8g8AxykswX3"
      },
      "source": [
        "### Import of needed packages"
      ]
    },
    {
      "cell_type": "code",
      "metadata": {
        "id": "N-aVm7DuJRcE"
      },
      "source": [
        "import tensorflow as tf\n",
        "import tensorflow_hub as hub\n",
        "from sklearn.preprocessing import LabelEncoder\n",
        "from sklearn.model_selection import train_test_split\n",
        "from sklearn.metrics import confusion_matrix, classification_report\n",
        "from bs4 import BeautifulSoup\n",
        "import unicodedata\n",
        "import re\n",
        "import pandas as pd\n",
        "import numpy as np\n",
        "import warnings\n",
        "warnings.filterwarnings('ignore')\n"
      ],
      "execution_count": null,
      "outputs": []
    },
    {
      "cell_type": "markdown",
      "metadata": {
        "id": "7YckuoUfmkGH"
      },
      "source": [
        "## 1.b - Import the dataset"
      ]
    },
    {
      "cell_type": "markdown",
      "metadata": {
        "id": "ubMpmWybs_0I"
      },
      "source": [
        "### Download dataset from Kaggle URL to colab"
      ]
    },
    {
      "cell_type": "code",
      "metadata": {
        "id": "xsGZv0C_Qj8f",
        "outputId": "081b04d9-fef3-48c4-95e8-331dd4e7bc0e",
        "colab": {
          "base_uri": "https://localhost:8080/",
          "height": 170
        }
      },
      "source": [
        "kaggle_userid = \"balakavinpon\"\n",
        "kaggle_api_access_token = \"496afaa8becf1cc5f72cf2d1551d286c\"\n",
        "\n",
        "!mkdir .kaggle\n",
        "import json\n",
        "token = {\"username\" : kaggle_userid, \"key\" : kaggle_api_access_token}\n",
        "with open('/content/.kaggle/kaggle.json', 'w') as file:\n",
        "    json.dump(token, file)\n",
        "  \n",
        "!mkdir -p ~/.kaggle/\n",
        "!cp /content/.kaggle/kaggle.json ~/.kaggle/kaggle.json\n",
        "!kaggle config set -n path -v{/content}\n",
        "!chmod 600 /root/.kaggle/kaggle.json\n",
        "## Source as given in the problem statement - https://www.kaggle.com/lakshmi25npathi/imdb-dataset-of-50k-movie- reviews/notebooks\n",
        "!kaggle datasets download -p /content -d 'lakshmi25npathi/imdb-dataset-of-50k-movie-reviews'\n",
        "!ls -l"
      ],
      "execution_count": null,
      "outputs": [
        {
          "output_type": "stream",
          "text": [
            "Warning: Your Kaggle API key is readable by other users on this system! To fix this, you can run 'chmod 600 /root/.kaggle/kaggle.json'\n",
            "- path is now set to: {/content}\n",
            "Downloading imdb-dataset-of-50k-movie-reviews.zip to /content\n",
            " 74% 19.0M/25.7M [00:00<00:00, 85.7MB/s]\n",
            "100% 25.7M/25.7M [00:00<00:00, 85.8MB/s]\n",
            "total 26340\n",
            "drwx------ 4 root root     4096 Oct 18 18:29 drive\n",
            "-rw-r--r-- 1 root root 26962657 Oct 18 18:30 imdb-dataset-of-50k-movie-reviews.zip\n",
            "drwxr-xr-x 1 root root     4096 Oct 14 16:31 sample_data\n"
          ],
          "name": "stdout"
        }
      ]
    },
    {
      "cell_type": "markdown",
      "metadata": {
        "id": "oALh1yW1oW1i"
      },
      "source": [
        "### Import Dataset to Pandas"
      ]
    },
    {
      "cell_type": "code",
      "metadata": {
        "id": "v1LBzBACLX9h"
      },
      "source": [
        "import zipfile\n",
        "zf = zipfile.ZipFile('imdb-dataset-of-50k-movie-reviews.zip') \n",
        "df = pd.read_csv(zf.open('IMDB Dataset.csv'))"
      ],
      "execution_count": null,
      "outputs": []
    },
    {
      "cell_type": "markdown",
      "metadata": {
        "id": "ZYMUaImBlr_c"
      },
      "source": [
        "## 1.c - Check the GPU availablity & Version of TF"
      ]
    },
    {
      "cell_type": "code",
      "metadata": {
        "id": "ng7j_kfpQ2HU",
        "outputId": "2f6bdff3-4561-4d15-e6e5-b852e959c853",
        "colab": {
          "base_uri": "https://localhost:8080/",
          "height": 51
        }
      },
      "source": [
        "#Verify if tensorflow 2.x is being used\n",
        "try:\n",
        "  # %tensorflow_version only exists in Colab.\n",
        "  %tensorflow_version 2.x\n",
        "except Exception:\n",
        "  pass\n",
        "\n",
        "# Checking for GPU availability\n",
        "print(\"Is GPU enabled in this machine? \\n{}\".format(tf.config.list_physical_devices('GPU')))"
      ],
      "execution_count": null,
      "outputs": [
        {
          "output_type": "stream",
          "text": [
            "Is GPU enabled in this machine? \n",
            "[PhysicalDevice(name='/physical_device:GPU:0', device_type='GPU')]\n"
          ],
          "name": "stdout"
        }
      ]
    },
    {
      "cell_type": "markdown",
      "metadata": {
        "id": "HiHh2c2_cUOb"
      },
      "source": [
        "# 2. Data Visualization"
      ]
    },
    {
      "cell_type": "markdown",
      "metadata": {
        "id": "0GDLK4pFctso"
      },
      "source": [
        "### Explore the Data"
      ]
    },
    {
      "cell_type": "code",
      "metadata": {
        "id": "Jn-l8k5BYk51",
        "outputId": "fa5f6395-f275-4a96-e20c-d92d8a5f604f",
        "colab": {
          "base_uri": "https://localhost:8080/",
          "height": 221
        }
      },
      "source": [
        "print('Shape ->',df.shape)\n",
        "df.head()"
      ],
      "execution_count": null,
      "outputs": [
        {
          "output_type": "stream",
          "text": [
            "Shape -> (50000, 2)\n"
          ],
          "name": "stdout"
        },
        {
          "output_type": "execute_result",
          "data": {
            "text/html": [
              "<div>\n",
              "<style scoped>\n",
              "    .dataframe tbody tr th:only-of-type {\n",
              "        vertical-align: middle;\n",
              "    }\n",
              "\n",
              "    .dataframe tbody tr th {\n",
              "        vertical-align: top;\n",
              "    }\n",
              "\n",
              "    .dataframe thead th {\n",
              "        text-align: right;\n",
              "    }\n",
              "</style>\n",
              "<table border=\"1\" class=\"dataframe\">\n",
              "  <thead>\n",
              "    <tr style=\"text-align: right;\">\n",
              "      <th></th>\n",
              "      <th>review</th>\n",
              "      <th>sentiment</th>\n",
              "    </tr>\n",
              "  </thead>\n",
              "  <tbody>\n",
              "    <tr>\n",
              "      <th>0</th>\n",
              "      <td>One of the other reviewers has mentioned that ...</td>\n",
              "      <td>positive</td>\n",
              "    </tr>\n",
              "    <tr>\n",
              "      <th>1</th>\n",
              "      <td>A wonderful little production. &lt;br /&gt;&lt;br /&gt;The...</td>\n",
              "      <td>positive</td>\n",
              "    </tr>\n",
              "    <tr>\n",
              "      <th>2</th>\n",
              "      <td>I thought this was a wonderful way to spend ti...</td>\n",
              "      <td>positive</td>\n",
              "    </tr>\n",
              "    <tr>\n",
              "      <th>3</th>\n",
              "      <td>Basically there's a family where a little boy ...</td>\n",
              "      <td>negative</td>\n",
              "    </tr>\n",
              "    <tr>\n",
              "      <th>4</th>\n",
              "      <td>Petter Mattei's \"Love in the Time of Money\" is...</td>\n",
              "      <td>positive</td>\n",
              "    </tr>\n",
              "  </tbody>\n",
              "</table>\n",
              "</div>"
            ],
            "text/plain": [
              "                                              review sentiment\n",
              "0  One of the other reviewers has mentioned that ...  positive\n",
              "1  A wonderful little production. <br /><br />The...  positive\n",
              "2  I thought this was a wonderful way to spend ti...  positive\n",
              "3  Basically there's a family where a little boy ...  negative\n",
              "4  Petter Mattei's \"Love in the Time of Money\" is...  positive"
            ]
          },
          "metadata": {
            "tags": []
          },
          "execution_count": 6
        }
      ]
    },
    {
      "cell_type": "code",
      "metadata": {
        "id": "IcRqO7cnJTDh",
        "outputId": "0e570bcf-dede-457e-f582-86e4405e4a87",
        "colab": {
          "base_uri": "https://localhost:8080/",
          "height": 173
        }
      },
      "source": [
        "df.describe()\n"
      ],
      "execution_count": null,
      "outputs": [
        {
          "output_type": "execute_result",
          "data": {
            "text/html": [
              "<div>\n",
              "<style scoped>\n",
              "    .dataframe tbody tr th:only-of-type {\n",
              "        vertical-align: middle;\n",
              "    }\n",
              "\n",
              "    .dataframe tbody tr th {\n",
              "        vertical-align: top;\n",
              "    }\n",
              "\n",
              "    .dataframe thead th {\n",
              "        text-align: right;\n",
              "    }\n",
              "</style>\n",
              "<table border=\"1\" class=\"dataframe\">\n",
              "  <thead>\n",
              "    <tr style=\"text-align: right;\">\n",
              "      <th></th>\n",
              "      <th>review</th>\n",
              "      <th>sentiment</th>\n",
              "    </tr>\n",
              "  </thead>\n",
              "  <tbody>\n",
              "    <tr>\n",
              "      <th>count</th>\n",
              "      <td>50000</td>\n",
              "      <td>50000</td>\n",
              "    </tr>\n",
              "    <tr>\n",
              "      <th>unique</th>\n",
              "      <td>49582</td>\n",
              "      <td>2</td>\n",
              "    </tr>\n",
              "    <tr>\n",
              "      <th>top</th>\n",
              "      <td>Loved today's show!!! It was a variety and not...</td>\n",
              "      <td>positive</td>\n",
              "    </tr>\n",
              "    <tr>\n",
              "      <th>freq</th>\n",
              "      <td>5</td>\n",
              "      <td>25000</td>\n",
              "    </tr>\n",
              "  </tbody>\n",
              "</table>\n",
              "</div>"
            ],
            "text/plain": [
              "                                                   review sentiment\n",
              "count                                               50000     50000\n",
              "unique                                              49582         2\n",
              "top     Loved today's show!!! It was a variety and not...  positive\n",
              "freq                                                    5     25000"
            ]
          },
          "metadata": {
            "tags": []
          },
          "execution_count": 7
        }
      ]
    },
    {
      "cell_type": "markdown",
      "metadata": {
        "id": "0-cLQGAtvCq1"
      },
      "source": [
        "## 2.a Sample Reviews to Explore"
      ]
    },
    {
      "cell_type": "markdown",
      "metadata": {
        "id": "JcPNyBLzvL2K"
      },
      "source": [
        "### Positive Reviews"
      ]
    },
    {
      "cell_type": "code",
      "metadata": {
        "id": "2_HGGOxmhbdT",
        "outputId": "999723eb-1b77-4594-d902-8c7b9de9567a",
        "colab": {
          "base_uri": "https://localhost:8080/",
          "height": 349
        }
      },
      "source": [
        "with pd.option_context('display.max_colwidth', None):\n",
        "  display(df[df['sentiment']=='positive'].head(2))\n"
      ],
      "execution_count": null,
      "outputs": [
        {
          "output_type": "display_data",
          "data": {
            "text/html": [
              "<div>\n",
              "<style scoped>\n",
              "    .dataframe tbody tr th:only-of-type {\n",
              "        vertical-align: middle;\n",
              "    }\n",
              "\n",
              "    .dataframe tbody tr th {\n",
              "        vertical-align: top;\n",
              "    }\n",
              "\n",
              "    .dataframe thead th {\n",
              "        text-align: right;\n",
              "    }\n",
              "</style>\n",
              "<table border=\"1\" class=\"dataframe\">\n",
              "  <thead>\n",
              "    <tr style=\"text-align: right;\">\n",
              "      <th></th>\n",
              "      <th>review</th>\n",
              "      <th>sentiment</th>\n",
              "    </tr>\n",
              "  </thead>\n",
              "  <tbody>\n",
              "    <tr>\n",
              "      <th>0</th>\n",
              "      <td>One of the other reviewers has mentioned that after watching just 1 Oz episode you'll be hooked. They are right, as this is exactly what happened with me.&lt;br /&gt;&lt;br /&gt;The first thing that struck me about Oz was its brutality and unflinching scenes of violence, which set in right from the word GO. Trust me, this is not a show for the faint hearted or timid. This show pulls no punches with regards to drugs, sex or violence. Its is hardcore, in the classic use of the word.&lt;br /&gt;&lt;br /&gt;It is called OZ as that is the nickname given to the Oswald Maximum Security State Penitentary. It focuses mainly on Emerald City, an experimental section of the prison where all the cells have glass fronts and face inwards, so privacy is not high on the agenda. Em City is home to many..Aryans, Muslims, gangstas, Latinos, Christians, Italians, Irish and more....so scuffles, death stares, dodgy dealings and shady agreements are never far away.&lt;br /&gt;&lt;br /&gt;I would say the main appeal of the show is due to the fact that it goes where other shows wouldn't dare. Forget pretty pictures painted for mainstream audiences, forget charm, forget romance...OZ doesn't mess around. The first episode I ever saw struck me as so nasty it was surreal, I couldn't say I was ready for it, but as I watched more, I developed a taste for Oz, and got accustomed to the high levels of graphic violence. Not just violence, but injustice (crooked guards who'll be sold out for a nickel, inmates who'll kill on order and get away with it, well mannered, middle class inmates being turned into prison bitches due to their lack of street skills or prison experience) Watching Oz, you may become comfortable with what is uncomfortable viewing....thats if you can get in touch with your darker side.</td>\n",
              "      <td>positive</td>\n",
              "    </tr>\n",
              "    <tr>\n",
              "      <th>1</th>\n",
              "      <td>A wonderful little production. &lt;br /&gt;&lt;br /&gt;The filming technique is very unassuming- very old-time-BBC fashion and gives a comforting, and sometimes discomforting, sense of realism to the entire piece. &lt;br /&gt;&lt;br /&gt;The actors are extremely well chosen- Michael Sheen not only \"has got all the polari\" but he has all the voices down pat too! You can truly see the seamless editing guided by the references to Williams' diary entries, not only is it well worth the watching but it is a terrificly written and performed piece. A masterful production about one of the great master's of comedy and his life. &lt;br /&gt;&lt;br /&gt;The realism really comes home with the little things: the fantasy of the guard which, rather than use the traditional 'dream' techniques remains solid then disappears. It plays on our knowledge and our senses, particularly with the scenes concerning Orton and Halliwell and the sets (particularly of their flat with Halliwell's murals decorating every surface) are terribly well done.</td>\n",
              "      <td>positive</td>\n",
              "    </tr>\n",
              "  </tbody>\n",
              "</table>\n",
              "</div>"
            ],
            "text/plain": [
              "                                                                                                                                                                                                                                                                                                                                                                                                                                                                                                                                                                                                                                                                                                                                                                                                                                                                                                                                                                                                                                                                                                                                                                                                                                                                                                                                                                                                                                                                                                                                                                                                                                                                                                                                                                                                                              review sentiment\n",
              "0  One of the other reviewers has mentioned that after watching just 1 Oz episode you'll be hooked. They are right, as this is exactly what happened with me.<br /><br />The first thing that struck me about Oz was its brutality and unflinching scenes of violence, which set in right from the word GO. Trust me, this is not a show for the faint hearted or timid. This show pulls no punches with regards to drugs, sex or violence. Its is hardcore, in the classic use of the word.<br /><br />It is called OZ as that is the nickname given to the Oswald Maximum Security State Penitentary. It focuses mainly on Emerald City, an experimental section of the prison where all the cells have glass fronts and face inwards, so privacy is not high on the agenda. Em City is home to many..Aryans, Muslims, gangstas, Latinos, Christians, Italians, Irish and more....so scuffles, death stares, dodgy dealings and shady agreements are never far away.<br /><br />I would say the main appeal of the show is due to the fact that it goes where other shows wouldn't dare. Forget pretty pictures painted for mainstream audiences, forget charm, forget romance...OZ doesn't mess around. The first episode I ever saw struck me as so nasty it was surreal, I couldn't say I was ready for it, but as I watched more, I developed a taste for Oz, and got accustomed to the high levels of graphic violence. Not just violence, but injustice (crooked guards who'll be sold out for a nickel, inmates who'll kill on order and get away with it, well mannered, middle class inmates being turned into prison bitches due to their lack of street skills or prison experience) Watching Oz, you may become comfortable with what is uncomfortable viewing....thats if you can get in touch with your darker side.  positive\n",
              "1                                                                                                                                                                                                                                                                                                                                                                                                                                                                                                                                                                                                                                                                                                                                                                                             A wonderful little production. <br /><br />The filming technique is very unassuming- very old-time-BBC fashion and gives a comforting, and sometimes discomforting, sense of realism to the entire piece. <br /><br />The actors are extremely well chosen- Michael Sheen not only \"has got all the polari\" but he has all the voices down pat too! You can truly see the seamless editing guided by the references to Williams' diary entries, not only is it well worth the watching but it is a terrificly written and performed piece. A masterful production about one of the great master's of comedy and his life. <br /><br />The realism really comes home with the little things: the fantasy of the guard which, rather than use the traditional 'dream' techniques remains solid then disappears. It plays on our knowledge and our senses, particularly with the scenes concerning Orton and Halliwell and the sets (particularly of their flat with Halliwell's murals decorating every surface) are terribly well done.  positive"
            ]
          },
          "metadata": {
            "tags": []
          }
        }
      ]
    },
    {
      "cell_type": "markdown",
      "metadata": {
        "id": "Fn8EPt_-vQbm"
      },
      "source": [
        "### Negative Reviews"
      ]
    },
    {
      "cell_type": "code",
      "metadata": {
        "id": "0G3fyGukiwoQ",
        "outputId": "d2e5d572-b323-4b30-e6d0-3e10fedabb56",
        "colab": {
          "base_uri": "https://localhost:8080/",
          "height": 230
        }
      },
      "source": [
        "with pd.option_context('display.max_colwidth', None):\n",
        "  display(df[df['sentiment']=='negative'].head(2))"
      ],
      "execution_count": null,
      "outputs": [
        {
          "output_type": "display_data",
          "data": {
            "text/html": [
              "<div>\n",
              "<style scoped>\n",
              "    .dataframe tbody tr th:only-of-type {\n",
              "        vertical-align: middle;\n",
              "    }\n",
              "\n",
              "    .dataframe tbody tr th {\n",
              "        vertical-align: top;\n",
              "    }\n",
              "\n",
              "    .dataframe thead th {\n",
              "        text-align: right;\n",
              "    }\n",
              "</style>\n",
              "<table border=\"1\" class=\"dataframe\">\n",
              "  <thead>\n",
              "    <tr style=\"text-align: right;\">\n",
              "      <th></th>\n",
              "      <th>review</th>\n",
              "      <th>sentiment</th>\n",
              "    </tr>\n",
              "  </thead>\n",
              "  <tbody>\n",
              "    <tr>\n",
              "      <th>3</th>\n",
              "      <td>Basically there's a family where a little boy (Jake) thinks there's a zombie in his closet &amp; his parents are fighting all the time.&lt;br /&gt;&lt;br /&gt;This movie is slower than a soap opera... and suddenly, Jake decides to become Rambo and kill the zombie.&lt;br /&gt;&lt;br /&gt;OK, first of all when you're going to make a film you must Decide if its a thriller or a drama! As a drama the movie is watchable. Parents are divorcing &amp; arguing like in real life. And then we have Jake with his closet which totally ruins all the film! I expected to see a BOOGEYMAN similar movie, and instead i watched a drama with some meaningless thriller spots.&lt;br /&gt;&lt;br /&gt;3 out of 10 just for the well playing parents &amp; descent dialogs. As for the shots with Jake: just ignore them.</td>\n",
              "      <td>negative</td>\n",
              "    </tr>\n",
              "    <tr>\n",
              "      <th>7</th>\n",
              "      <td>This show was an amazing, fresh &amp; innovative idea in the 70's when it first aired. The first 7 or 8 years were brilliant, but things dropped off after that. By 1990, the show was not really funny anymore, and it's continued its decline further to the complete waste of time it is today.&lt;br /&gt;&lt;br /&gt;It's truly disgraceful how far this show has fallen. The writing is painfully bad, the performances are almost as bad - if not for the mildly entertaining respite of the guest-hosts, this show probably wouldn't still be on the air. I find it so hard to believe that the same creator that hand-selected the original cast also chose the band of hacks that followed. How can one recognize such brilliance and then see fit to replace it with such mediocrity? I felt I must give 2 stars out of respect for the original cast that made this show such a huge success. As it is now, the show is just awful. I can't believe it's still on the air.</td>\n",
              "      <td>negative</td>\n",
              "    </tr>\n",
              "  </tbody>\n",
              "</table>\n",
              "</div>"
            ],
            "text/plain": [
              "                                                                                                                                                                                                                                                                                                                                                                                                                                                                                                                                                                                                                                                                                                                                                                                                                                                                                                                                                                   review sentiment\n",
              "3                                                                                                                                                                                            Basically there's a family where a little boy (Jake) thinks there's a zombie in his closet & his parents are fighting all the time.<br /><br />This movie is slower than a soap opera... and suddenly, Jake decides to become Rambo and kill the zombie.<br /><br />OK, first of all when you're going to make a film you must Decide if its a thriller or a drama! As a drama the movie is watchable. Parents are divorcing & arguing like in real life. And then we have Jake with his closet which totally ruins all the film! I expected to see a BOOGEYMAN similar movie, and instead i watched a drama with some meaningless thriller spots.<br /><br />3 out of 10 just for the well playing parents & descent dialogs. As for the shots with Jake: just ignore them.  negative\n",
              "7  This show was an amazing, fresh & innovative idea in the 70's when it first aired. The first 7 or 8 years were brilliant, but things dropped off after that. By 1990, the show was not really funny anymore, and it's continued its decline further to the complete waste of time it is today.<br /><br />It's truly disgraceful how far this show has fallen. The writing is painfully bad, the performances are almost as bad - if not for the mildly entertaining respite of the guest-hosts, this show probably wouldn't still be on the air. I find it so hard to believe that the same creator that hand-selected the original cast also chose the band of hacks that followed. How can one recognize such brilliance and then see fit to replace it with such mediocrity? I felt I must give 2 stars out of respect for the original cast that made this show such a huge success. As it is now, the show is just awful. I can't believe it's still on the air.  negative"
            ]
          },
          "metadata": {
            "tags": []
          }
        }
      ]
    },
    {
      "cell_type": "markdown",
      "metadata": {
        "id": "yCvB3LLBuoA8"
      },
      "source": [
        "## 2.b - Graph Ploting "
      ]
    },
    {
      "cell_type": "code",
      "metadata": {
        "id": "FFvB2C53f1Jl",
        "outputId": "43457d5d-560d-4ca0-c37e-d01e94843626",
        "colab": {
          "base_uri": "https://localhost:8080/",
          "height": 279
        }
      },
      "source": [
        "import seaborn as sns\n",
        "ax = sns.countplot(x=\"sentiment\", data=df)\n"
      ],
      "execution_count": null,
      "outputs": [
        {
          "output_type": "display_data",
          "data": {
            "image/png": "[encoded data removed]",
            "text/plain": [
              "<Figure size 432x288 with 1 Axes>"
            ]
          },
          "metadata": {
            "tags": [],
            "needs_background": "light"
          }
        }
      ]
    },
    {
      "cell_type": "markdown",
      "metadata": {
        "id": "va0XfMrFvkvs"
      },
      "source": [
        "### Test Train Split & its Shape "
      ]
    },
    {
      "cell_type": "code",
      "metadata": {
        "id": "3asFWkXj3GFG",
        "outputId": "4ae70541-5b73-45bf-d760-8fdb428b8c35",
        "colab": {
          "base_uri": "https://localhost:8080/",
          "height": 85
        }
      },
      "source": [
        "\n",
        "X = df['review']\n",
        "Y=df['sentiment']\n",
        "encoder = LabelEncoder()\n",
        "encoder.fit(Y)\n",
        "encoded_Y = encoder.transform(Y)\n",
        "\n",
        "X_train, X_test, Y_train,Y_test = train_test_split(X, encoded_Y, test_size=0.3,shuffle= True, random_state=100)\n",
        "print('X-Train  Shape ->',X_train.shape)\n",
        "print('X-Test  Shape ->',X_test.shape)\n",
        "print('Y-Train  Shape ->',Y_train.shape)\n",
        "print('Y-Test  Shape ->',Y_test.shape)\n",
        "\n"
      ],
      "execution_count": null,
      "outputs": [
        {
          "output_type": "stream",
          "text": [
            "X-Train  Shape -> (35000,)\n",
            "X-Test  Shape -> (15000,)\n",
            "Y-Train  Shape -> (35000,)\n",
            "Y-Test  Shape -> (15000,)\n"
          ],
          "name": "stdout"
        }
      ]
    },
    {
      "cell_type": "markdown",
      "metadata": {
        "id": "KjZqFitO27Ga"
      },
      "source": [
        "# 3. Data Clean Up and Pre-Procesing"
      ]
    },
    {
      "cell_type": "markdown",
      "metadata": {
        "id": "4JT8DoERxHi-"
      },
      "source": [
        "### Data Cleaning Methods"
      ]
    },
    {
      "cell_type": "code",
      "metadata": {
        "id": "Y00Y4trO3BTT"
      },
      "source": [
        "def strip_html_tags(text):\n",
        "    soup = BeautifulSoup(text, \"html.parser\")\n",
        "    [s.extract() for s in soup(['iframe', 'script'])]\n",
        "    stripped_text = soup.get_text()\n",
        "    stripped_text = re.sub(r'[\\r|\\n|\\r\\n]+', '\\n', stripped_text)\n",
        "    return stripped_text\n",
        "\n",
        "def remove_accented_chars(text):\n",
        "    text = unicodedata.normalize('NFKD', text).encode('ascii', 'ignore').decode('utf-8', 'ignore')\n",
        "    return text\n",
        "\n",
        "def remove_special_characters(text, remove_digits=False):\n",
        "    pattern = r'[^a-zA-Z0-9\\s]' if not remove_digits else r'[^a-zA-Z\\s]'\n",
        "    text = re.sub(pattern, '', text)\n",
        "    return text\n"
      ],
      "execution_count": null,
      "outputs": []
    },
    {
      "cell_type": "markdown",
      "metadata": {
        "id": "FOZlHk3fxjKc"
      },
      "source": [
        "### Overall Pre-Processing"
      ]
    },
    {
      "cell_type": "code",
      "metadata": {
        "id": "HP38Ae2DxiLd"
      },
      "source": [
        "def pre_process_document(document):\n",
        "    # strip HTML\n",
        "    document = strip_html_tags(document)\n",
        "    # lower case\n",
        "    document = document.lower()\n",
        "    # remove extra newlines (often might be present in really noisy text)\n",
        "    document = document.translate(document.maketrans(\"\\n\\t\\r\", \"   \"))\n",
        "    # remove accented characters\n",
        "    document = remove_accented_chars(document)\n",
        "    # remove special characters and\\or digits    \n",
        "    # insert spaces between special characters to isolate them    \n",
        "    special_char_pattern = re.compile(r'([{.(-)!}])')\n",
        "    document = special_char_pattern.sub(\" \\\\1 \", document)\n",
        "    document = remove_special_characters(document, remove_digits=True)  \n",
        "    # remove extra whitespace\n",
        "    document = re.sub(' +', ' ', document)\n",
        "    document = document.strip()\n",
        "    \n",
        "    return document"
      ],
      "execution_count": null,
      "outputs": []
    },
    {
      "cell_type": "markdown",
      "metadata": {
        "id": "zY5plfCQxsFi"
      },
      "source": [
        "### Vetorized pre-processing on Test and Train dataset"
      ]
    },
    {
      "cell_type": "code",
      "metadata": {
        "id": "w9x00RVvxB4M"
      },
      "source": [
        "pre_process_corpus = np.vectorize(pre_process_document)\n",
        "\n",
        "X_train = pre_process_corpus(X_train)\n",
        "X_test = pre_process_corpus(X_test)\n"
      ],
      "execution_count": null,
      "outputs": []
    },
    {
      "cell_type": "markdown",
      "metadata": {
        "id": "dfnAO-5b3U4u"
      },
      "source": [
        "### Pre-tranined embedding layer"
      ]
    },
    {
      "cell_type": "code",
      "metadata": {
        "id": "Ee0wu18a3T7X"
      },
      "source": [
        "import tensorflow_hub as hub\n",
        "hub_layer = hub.KerasLayer(\"https://tfhub.dev/google/nnlm-en-dim128/1\",\n",
        "                           input_shape=[], dtype=tf.string)"
      ],
      "execution_count": null,
      "outputs": []
    },
    {
      "cell_type": "markdown",
      "metadata": {
        "id": "TCKquT1X3jAP"
      },
      "source": [
        "# 4. Model Building"
      ]
    },
    {
      "cell_type": "code",
      "metadata": {
        "id": "vygE5lHZEjzx",
        "outputId": "d01382b7-d382-4e17-c666-dd07bc15b804",
        "colab": {
          "base_uri": "https://localhost:8080/",
          "height": 289
        }
      },
      "source": [
        "model = tf.keras.Sequential()\n",
        "model.add(hub_layer)\n",
        "model.add(tf.keras.layers.Dense(64, activation='relu',kernel_regularizer=tf.keras.regularizers.L2(0.003)))\n",
        "model.add(tf.keras.layers.Dense(16, activation='relu',kernel_regularizer=tf.keras.regularizers.L2(0.001)))\n",
        "#model.add(tf.keras.layers.Dense(16, activation='relu'))\n",
        "model.add(tf.keras.layers.Dense(1, activation='sigmoid'))\n",
        "model.summary()\n"
      ],
      "execution_count": null,
      "outputs": [
        {
          "output_type": "stream",
          "text": [
            "Model: \"sequential_2\"\n",
            "_________________________________________________________________\n",
            "Layer (type)                 Output Shape              Param #   \n",
            "=================================================================\n",
            "keras_layer (KerasLayer)     (None, 128)               249285376 \n",
            "_________________________________________________________________\n",
            "dense_3 (Dense)              (None, 64)                8256      \n",
            "_________________________________________________________________\n",
            "dense_4 (Dense)              (None, 16)                1040      \n",
            "_________________________________________________________________\n",
            "dense_5 (Dense)              (None, 1)                 17        \n",
            "=================================================================\n",
            "Total params: 249,294,689\n",
            "Trainable params: 9,313\n",
            "Non-trainable params: 249,285,376\n",
            "_________________________________________________________________\n"
          ],
          "name": "stdout"
        }
      ]
    },
    {
      "cell_type": "code",
      "metadata": {
        "id": "CsxIGLbhI8Q8",
        "outputId": "507caa87-cba3-4463-9001-021a7f0ec30b",
        "colab": {
          "base_uri": "https://localhost:8080/",
          "height": 533
        }
      },
      "source": [
        "tf.keras.utils.plot_model(model,show_shapes=True)"
      ],
      "execution_count": null,
      "outputs": [
        {
          "output_type": "execute_result",
          "data": {
            "image/png": "[encoded data removed]",
            "text/plain": [
              "<IPython.core.display.Image object>"
            ]
          },
          "metadata": {
            "tags": []
          },
          "execution_count": 25
        }
      ]
    },
    {
      "cell_type": "markdown",
      "metadata": {
        "id": "z3yBJ75f-vWW"
      },
      "source": [
        "#### Justification"
      ]
    },
    {
      "cell_type": "markdown",
      "metadata": {
        "id": "Un_W4jhX-lB-"
      },
      "source": [
        "# 5. Model Compilation"
      ]
    },
    {
      "cell_type": "code",
      "metadata": {
        "id": "YeIyia9ZEyW0"
      },
      "source": [
        "model.compile(optimizer=tf.keras.optimizers.Adam(learning_rate=0.0001),\n",
        "                loss=tf.keras.losses.BinaryCrossentropy(from_logits=True),\n",
        "                metrics=['accuracy'])\n"
      ],
      "execution_count": null,
      "outputs": []
    },
    {
      "cell_type": "markdown",
      "metadata": {
        "id": "27oaqHa8_SR7"
      },
      "source": [
        "# 6. Model Training "
      ]
    },
    {
      "cell_type": "code",
      "metadata": {
        "id": "zl3JrOs2Oagn",
        "outputId": "0f647560-1bd2-4cd4-c6e9-7cc979ca51b4",
        "colab": {
          "base_uri": "https://localhost:8080/",
          "height": 1000
        }
      },
      "source": [
        "import time\n",
        "epochs_run = 30\n",
        "batchsize = 64\n",
        "\n",
        "# start time\n",
        "start_time = time.perf_counter()\n",
        "\n",
        "history = model.fit(X_train, \n",
        "                    Y_train, \n",
        "                    validation_split=0.3, \n",
        "                    batch_size=batchsize, \n",
        "                    epochs=epochs_run,\n",
        "                    verbose=1)\n",
        "# Total time taken for training the given dataset\n",
        "elapsed = time.perf_counter() - start_time"
      ],
      "execution_count": null,
      "outputs": [
        {
          "output_type": "stream",
          "text": [
            "Epoch 1/30\n",
            "383/383 [==============================] - 4s 9ms/step - loss: 0.9206 - accuracy: 0.5034 - val_loss: 0.8545 - val_accuracy: 0.4971\n",
            "Epoch 2/30\n",
            "383/383 [==============================] - 3s 8ms/step - loss: 0.8116 - accuracy: 0.5102 - val_loss: 0.7702 - val_accuracy: 0.5624\n",
            "Epoch 3/30\n",
            "383/383 [==============================] - 3s 8ms/step - loss: 0.7406 - accuracy: 0.6382 - val_loss: 0.7109 - val_accuracy: 0.6990\n",
            "Epoch 4/30\n",
            "383/383 [==============================] - 3s 8ms/step - loss: 0.6968 - accuracy: 0.7213 - val_loss: 0.6790 - val_accuracy: 0.7533\n",
            "Epoch 5/30\n",
            "383/383 [==============================] - 3s 8ms/step - loss: 0.6731 - accuracy: 0.7547 - val_loss: 0.6616 - val_accuracy: 0.7673\n",
            "Epoch 6/30\n",
            "383/383 [==============================] - 3s 8ms/step - loss: 0.6595 - accuracy: 0.7665 - val_loss: 0.6515 - val_accuracy: 0.7772\n",
            "Epoch 7/30\n",
            "383/383 [==============================] - 3s 8ms/step - loss: 0.6516 - accuracy: 0.7750 - val_loss: 0.6451 - val_accuracy: 0.7835\n",
            "Epoch 8/30\n",
            "383/383 [==============================] - 3s 7ms/step - loss: 0.6464 - accuracy: 0.7803 - val_loss: 0.6410 - val_accuracy: 0.7834\n",
            "Epoch 9/30\n",
            "383/383 [==============================] - 3s 8ms/step - loss: 0.6427 - accuracy: 0.7830 - val_loss: 0.6377 - val_accuracy: 0.7885\n",
            "Epoch 10/30\n",
            "383/383 [==============================] - 3s 7ms/step - loss: 0.6399 - accuracy: 0.7863 - val_loss: 0.6353 - val_accuracy: 0.7883\n",
            "Epoch 11/30\n",
            "383/383 [==============================] - 3s 8ms/step - loss: 0.6377 - accuracy: 0.7877 - val_loss: 0.6336 - val_accuracy: 0.7856\n",
            "Epoch 12/30\n",
            "383/383 [==============================] - 3s 8ms/step - loss: 0.6359 - accuracy: 0.7898 - val_loss: 0.6314 - val_accuracy: 0.8019\n",
            "Epoch 13/30\n",
            "383/383 [==============================] - 3s 8ms/step - loss: 0.6342 - accuracy: 0.7915 - val_loss: 0.6300 - val_accuracy: 0.8023\n",
            "Epoch 14/30\n",
            "383/383 [==============================] - 3s 8ms/step - loss: 0.6329 - accuracy: 0.7924 - val_loss: 0.6287 - val_accuracy: 0.8007\n",
            "Epoch 15/30\n",
            "383/383 [==============================] - 3s 8ms/step - loss: 0.6315 - accuracy: 0.7933 - val_loss: 0.6276 - val_accuracy: 0.7957\n",
            "Epoch 16/30\n",
            "383/383 [==============================] - 3s 8ms/step - loss: 0.6305 - accuracy: 0.7941 - val_loss: 0.6265 - val_accuracy: 0.8022\n",
            "Epoch 17/30\n",
            "383/383 [==============================] - 3s 8ms/step - loss: 0.6295 - accuracy: 0.7951 - val_loss: 0.6267 - val_accuracy: 0.7862\n",
            "Epoch 18/30\n",
            "383/383 [==============================] - 3s 8ms/step - loss: 0.6286 - accuracy: 0.7947 - val_loss: 0.6247 - val_accuracy: 0.8028\n",
            "Epoch 19/30\n",
            "383/383 [==============================] - 3s 8ms/step - loss: 0.6278 - accuracy: 0.7968 - val_loss: 0.6239 - val_accuracy: 0.8017\n",
            "Epoch 20/30\n",
            "383/383 [==============================] - 3s 8ms/step - loss: 0.6270 - accuracy: 0.7980 - val_loss: 0.6237 - val_accuracy: 0.7930\n",
            "Epoch 21/30\n",
            "383/383 [==============================] - 3s 8ms/step - loss: 0.6262 - accuracy: 0.7982 - val_loss: 0.6224 - val_accuracy: 0.8046\n",
            "Epoch 22/30\n",
            "383/383 [==============================] - 3s 8ms/step - loss: 0.6257 - accuracy: 0.7984 - val_loss: 0.6225 - val_accuracy: 0.7927\n",
            "Epoch 23/30\n",
            "383/383 [==============================] - 3s 8ms/step - loss: 0.6249 - accuracy: 0.7990 - val_loss: 0.6211 - val_accuracy: 0.8065\n",
            "Epoch 24/30\n",
            "383/383 [==============================] - 3s 8ms/step - loss: 0.6243 - accuracy: 0.7989 - val_loss: 0.6205 - val_accuracy: 0.8050\n",
            "Epoch 25/30\n",
            "383/383 [==============================] - 3s 8ms/step - loss: 0.6238 - accuracy: 0.7995 - val_loss: 0.6202 - val_accuracy: 0.8001\n",
            "Epoch 26/30\n",
            "383/383 [==============================] - 3s 8ms/step - loss: 0.6232 - accuracy: 0.7997 - val_loss: 0.6217 - val_accuracy: 0.7821\n",
            "Epoch 27/30\n",
            "383/383 [==============================] - 3s 8ms/step - loss: 0.6227 - accuracy: 0.7997 - val_loss: 0.6193 - val_accuracy: 0.8125\n",
            "Epoch 28/30\n",
            "383/383 [==============================] - 3s 8ms/step - loss: 0.6221 - accuracy: 0.8009 - val_loss: 0.6186 - val_accuracy: 0.8037\n",
            "Epoch 29/30\n",
            "383/383 [==============================] - 3s 8ms/step - loss: 0.6217 - accuracy: 0.8008 - val_loss: 0.6180 - val_accuracy: 0.8078\n",
            "Epoch 30/30\n",
            "383/383 [==============================] - 3s 8ms/step - loss: 0.6212 - accuracy: 0.8013 - val_loss: 0.6181 - val_accuracy: 0.7974\n"
          ],
          "name": "stdout"
        }
      ]
    },
    {
      "cell_type": "code",
      "metadata": {
        "id": "LsJsCRua91v8",
        "outputId": "a5b62a44-fb44-4764-850f-5549e2806c8d",
        "colab": {
          "base_uri": "https://localhost:8080/",
          "height": 1000
        }
      },
      "source": [
        "import matplotlib.pyplot as plt\n",
        "def evaluation_plot(history):\n",
        "  \"\"\"\n",
        "  Method plots the model training result\n",
        "  :param history: history of the model epochs run\n",
        "  \"\"\"\n",
        "  acc = history.history['accuracy']\n",
        "  val_acc = history.history['val_accuracy']\n",
        "  # Loss details\n",
        "  loss = history.history['loss']\n",
        "  val_loss = history.history['val_loss']\n",
        "\n",
        "  epochs = range(1, len(acc) + 1)\n",
        "\n",
        "  plt.figure(figsize=(10,8))\n",
        "  plt.plot(epochs, acc, label=\"Training Accuracy\")\n",
        "  plt.plot(epochs, val_acc, label=\"Validation Accuracy\")\n",
        "  plt.title(\"Training Accuracy Plot\")\n",
        "  plt.xlabel(\"Epochs\")\n",
        "  plt.ylabel(\"Accuracy\")\n",
        "  plt.legend()\n",
        "  plt.show()\n",
        "\n",
        "  # Loss and Validation loss plot\n",
        "  plt.figure(figsize=(10,8))\n",
        "  plt.plot(epochs, loss, label=\"Training Loss\")\n",
        "  plt.plot(epochs, val_loss, label=\"Validation Loss\")\n",
        "  plt.title(\"Training Loss Plot\")\n",
        "  plt.xlabel(\"Epochs\")\n",
        "  plt.ylabel(\"Loss\")\n",
        "  plt.legend()\n",
        "  plt.show()\n",
        "\n",
        "evaluation_plot(history)"
      ],
      "execution_count": null,
      "outputs": [
        {
          "output_type": "display_data",
          "data": {
            "image/png": "[encoded data removed]",
            "text/plain": [
              "<Figure size 720x576 with 1 Axes>"
            ]
          },
          "metadata": {
            "tags": [],
            "needs_background": "light"
          }
        },
        {
          "output_type": "display_data",
          "data": {
            "image/png": "[encoded data removed]",
            "text/plain": [
              "<Figure size 720x576 with 1 Axes>"
            ]
          },
          "metadata": {
            "tags": [],
            "needs_background": "light"
          }
        }
      ]
    },
    {
      "cell_type": "markdown",
      "metadata": {
        "id": "kxH9LBEEz2Le"
      },
      "source": [
        "### Total time taken for training"
      ]
    },
    {
      "cell_type": "code",
      "metadata": {
        "id": "sJVptviy-Y7M",
        "outputId": "e84574f6-2215-4d88-db14-bfed9fb975e4",
        "colab": {
          "base_uri": "https://localhost:8080/",
          "height": 68
        }
      },
      "source": [
        "print(\"==\"*40)\n",
        "print(\"Total time taken for training {:.2f} seconds\".format(elapsed))\n",
        "print(\"==\"*40)\n"
      ],
      "execution_count": null,
      "outputs": [
        {
          "output_type": "stream",
          "text": [
            "================================================================================\n",
            "Total time taken for training 91.38 seconds\n",
            "================================================================================\n"
          ],
          "name": "stdout"
        }
      ]
    },
    {
      "cell_type": "markdown",
      "metadata": {
        "id": "LnW0VPLU0E3I"
      },
      "source": [
        "# 7.  Model Evaluation"
      ]
    },
    {
      "cell_type": "code",
      "metadata": {
        "id": "HKKDMsVxrL9U",
        "outputId": "bbadc997-7b0a-4ec4-ed06-4668fea1c449",
        "colab": {
          "base_uri": "https://localhost:8080/",
          "height": 85
        }
      },
      "source": [
        "test_loss, test_acc = model.evaluate(X_test, Y_test)\n",
        "print(\"==\"*40)\n",
        "print(\"Test Loss {:.2f}  &  Test Accuracy {:.2f} \".format(test_loss,test_acc))\n",
        "print(\"==\"*40)"
      ],
      "execution_count": null,
      "outputs": [
        {
          "output_type": "stream",
          "text": [
            "469/469 [==============================] - 2s 4ms/step - loss: 0.5847 - accuracy: 0.8197\n",
            "================================================================================\n",
            "Test Loss 0.58  &  Test Accuracy 0.82 \n",
            "================================================================================\n"
          ],
          "name": "stdout"
        }
      ]
    },
    {
      "cell_type": "code",
      "metadata": {
        "id": "zj5StXlRraE_",
        "outputId": "9ca12d77-e388-4ad3-9b91-f1adfe65f3da",
        "colab": {
          "base_uri": "https://localhost:8080/",
          "height": 187
        }
      },
      "source": [
        "Y_hat=model.predict(X_test).round()\n",
        "print(\"Confusion Matrix: \\n {}\".format(classification_report(y_true=Y_test,y_pred=Y_hat)))"
      ],
      "execution_count": null,
      "outputs": [
        {
          "output_type": "stream",
          "text": [
            "Confusion Matrix: \n",
            "               precision    recall  f1-score   support\n",
            "\n",
            "           0       0.78      0.89      0.83      7449\n",
            "           1       0.87      0.75      0.81      7551\n",
            "\n",
            "    accuracy                           0.82     15000\n",
            "   macro avg       0.83      0.82      0.82     15000\n",
            "weighted avg       0.83      0.82      0.82     15000\n",
            "\n"
          ],
          "name": "stdout"
        }
      ]
    },
    {
      "cell_type": "code",
      "metadata": {
        "id": "poHzcTfv3aUA"
      },
      "source": [
        ""
      ],
      "execution_count": null,
      "outputs": []
    }
  ]
}