{
  "nbformat": 4,
  "nbformat_minor": 0,
  "metadata": {
    "colab": {
      "name": "DL_Assignment_PS5_Vision.ipynb",
      "provenance": [],
      "collapsed_sections": [],
      "authorship_tag": "ABX9TyMamClIGgDPGpG24JRdFTge",
      "include_colab_link": true
    },
    "kernelspec": {
      "name": "python3",
      "display_name": "Python 3"
    },
    "accelerator": "GPU"
  },
  "cells": [
    {
      "cell_type": "markdown",
      "metadata": {
        "id": "view-in-github",
        "colab_type": "text"
      },
      "source": [
        "<a href=\"https://colab.research.google.com/github/Data-Citadel/DeepLearning-Assignment1/blob/main/DL_Assignment_PS5_Vision.ipynb\" target=\"_parent\"><img src=\"https://colab.research.google.com/assets/colab-badge.svg\" alt=\"Open In Colab\"/></a>"
      ]
    },
    {
      "cell_type": "markdown",
      "metadata": {
        "id": "5bJ6JyQTzfCC"
      },
      "source": [
        "# Vision Dataset-MNIST Fashion Dataset\n",
        "\n",
        "## Assignment Details\n",
        "**Question**: No.1. Vision Dataset\n",
        "\n",
        "**Problem Statement**: MNIST Fashion data classification problem\n",
        "\n",
        "**Group**: DL Assignment Groups 15\n",
        "**Group Members**:\n",
        "  * Venkataramanan Krishnan - 2018AC04529\n",
        "  * Bala Kavin - 2018AC04530\n",
        "  * Sonia Mawandia - 2018AC04512"
      ]
    },
    {
      "cell_type": "markdown",
      "metadata": {
        "id": "mRkuoybiznpo"
      },
      "source": [
        "## 1. Import Libraries/Dataset"
      ]
    },
    {
      "cell_type": "code",
      "metadata": {
        "id": "zuFSDLhlxd3t"
      },
      "source": [
        "\n",
        "# Import tensorflow and keras library\n",
        "import tensorflow as tf\n",
        "\n",
        "from tensorflow import keras\n",
        "\n",
        "# Visualization packages\n",
        "import matplotlib.pyplot as plt\n",
        "import seaborn as sns\n",
        "import numpy as np\n",
        "\n",
        "from sklearn.model_selection import train_test_split\n",
        "from sklearn.metrics import confusion_matrix, classification_report\n",
        "# Time library\n",
        "import time"
      ],
      "execution_count": 205,
      "outputs": []
    },
    {
      "cell_type": "markdown",
      "metadata": {
        "id": "g_gHW2Cn1GjY"
      },
      "source": [
        "## 1.1 Load Dataset"
      ]
    },
    {
      "cell_type": "code",
      "metadata": {
        "id": "GrlwW-uxzxGd"
      },
      "source": [
        "# Load MNIST Fashion dataset from keras library\n",
        "fashion_data = keras.datasets.fashion_mnist\n",
        "\n",
        "# Destructuring the data into train and test\n",
        "(X_train_full, y_train_full), (X_test, y_test) = fashion_data.load_data()"
      ],
      "execution_count": 206,
      "outputs": []
    },
    {
      "cell_type": "markdown",
      "metadata": {
        "id": "wuT-5W224Afn"
      },
      "source": [
        "## 1.2 GPU Availability"
      ]
    },
    {
      "cell_type": "code",
      "metadata": {
        "id": "YOSiPZZb1wYJ",
        "outputId": "bdd82c68-6603-4b70-cc8d-0e7ed1b300f9",
        "colab": {
          "base_uri": "https://localhost:8080/",
          "height": 54
        }
      },
      "source": [
        "# Checking for GPU availability\n",
        "print(\"Is GPU enabled in this machine? \\n{}\".format(tf.config.list_physical_devices('GPU')))"
      ],
      "execution_count": 207,
      "outputs": [
        {
          "output_type": "stream",
          "text": [
            "Is GPU enabled in this machine? \n",
            "[PhysicalDevice(name='/physical_device:GPU:0', device_type='GPU')]\n"
          ],
          "name": "stdout"
        }
      ]
    },
    {
      "cell_type": "markdown",
      "metadata": {
        "id": "jHhIhpyS5XOT"
      },
      "source": [
        "## 2. Data Visualization\n",
        "\n",
        "### 2.1 Shape of Train and Test data"
      ]
    },
    {
      "cell_type": "code",
      "metadata": {
        "id": "W4SNX-mdu84W"
      },
      "source": [
        "class_names = [\"T-shirt/top\", \"Trouser\", \"Pullover\", \"Dress\", \"Coat\", \"Sandal\", \"Shirt\", \"Sneaker\", \"Bag\", \"Ankle boot\"]"
      ],
      "execution_count": 208,
      "outputs": []
    },
    {
      "cell_type": "code",
      "metadata": {
        "id": "WrKY88TZ3ijW",
        "outputId": "c6ecb888-18b9-45b7-86a9-280617137a41",
        "colab": {
          "base_uri": "https://localhost:8080/",
          "height": 54
        }
      },
      "source": [
        "print(\"Shape of Training Data : {}\".format(X_train_full.shape))\n",
        "print(\"Shape of Test Data : {}\".format(X_test.shape))"
      ],
      "execution_count": 209,
      "outputs": [
        {
          "output_type": "stream",
          "text": [
            "Shape of Training Data : (60000, 28, 28)\n",
            "Shape of Test Data : (10000, 28, 28)\n"
          ],
          "name": "stdout"
        }
      ]
    },
    {
      "cell_type": "code",
      "metadata": {
        "id": "cKoPP1jCJ5ba",
        "outputId": "d15d2c6f-bfd6-40cd-e3f1-fa22a2268276",
        "colab": {
          "base_uri": "https://localhost:8080/",
          "height": 35
        }
      },
      "source": [
        "# Number of classes\n",
        "np.unique(y_train_full)"
      ],
      "execution_count": 210,
      "outputs": [
        {
          "output_type": "execute_result",
          "data": {
            "text/plain": [
              "array([0, 1, 2, 3, 4, 5, 6, 7, 8, 9], dtype=uint8)"
            ]
          },
          "metadata": {
            "tags": []
          },
          "execution_count": 210
        }
      ]
    },
    {
      "cell_type": "markdown",
      "metadata": {
        "id": "s2iTJ14i6QCd"
      },
      "source": [
        "### 2.2 Plot image data"
      ]
    },
    {
      "cell_type": "code",
      "metadata": {
        "id": "bYnVueLJ5nAI",
        "outputId": "cc457d7a-c4d3-4035-bde6-b57eb061947c",
        "colab": {
          "base_uri": "https://localhost:8080/",
          "height": 479
        }
      },
      "source": [
        "# The following code plots few images from the training set\n",
        "plt.figure(figsize=(10,8))\n",
        "\n",
        "for i in range(12):\n",
        "  plt.subplot(3,4, i+1)\n",
        "  plt.imshow(X_train_full[i]) # imshow() method plots the image pixels on the canvas\n",
        "  index = y_train_full[i]\n",
        "  plt.title(class_names[index])\n",
        "  plt.xticks([])\n",
        "  plt.yticks([])\n",
        "\n",
        "plt.show()"
      ],
      "execution_count": 211,
      "outputs": [
        {
          "output_type": "display_data",
          "data": {
            "image/png": "[encoded data removed]",
            "text/plain": [
              "<Figure size 720x576 with 12 Axes>"
            ]
          },
          "metadata": {
            "tags": []
          }
        }
      ]
    },
    {
      "cell_type": "markdown",
      "metadata": {
        "id": "qQ5CH4cDyriH"
      },
      "source": [
        "## 3. Data Pre-Processing\n",
        "\n",
        "### 3.1 Process the image data\n",
        "\n"
      ]
    },
    {
      "cell_type": "code",
      "metadata": {
        "id": "yo523AToP5Bv"
      },
      "source": [
        "# Convert target labels to one-hot encoding matrix\n",
        "y_train_full = keras.utils.to_categorical(y_train_full)\n",
        "y_test = keras.utils.to_categorical(y_test)"
      ],
      "execution_count": 212,
      "outputs": []
    },
    {
      "cell_type": "markdown",
      "metadata": {
        "id": "iFTgbCiaP5gc"
      },
      "source": [
        "\n",
        "### 3.2 Split the data into Train, Holdout and Dev(test)"
      ]
    },
    {
      "cell_type": "code",
      "metadata": {
        "id": "HPgMY0hvvZd2"
      },
      "source": [
        "# The training data needs to be splited into train and validation/holdout set\n",
        "# split is performed as 80:20 ratio\n",
        "X_train, X_valid, y_train, y_valid = train_test_split(X_train_full, y_train_full, test_size=0.2, random_state=42)"
      ],
      "execution_count": 213,
      "outputs": []
    },
    {
      "cell_type": "code",
      "metadata": {
        "id": "YuicbsPky9Na",
        "outputId": "7dc1a0e4-2049-456c-d70a-b1f5f98dddcc",
        "colab": {
          "base_uri": "https://localhost:8080/",
          "height": 54
        }
      },
      "source": [
        "print(\"Shape of Training set {}\".format(X_train.shape))\n",
        "print(\"Shape of Holdout set {}\".format(X_valid.shape))"
      ],
      "execution_count": 214,
      "outputs": [
        {
          "output_type": "stream",
          "text": [
            "Shape of Training set (48000, 28, 28)\n",
            "Shape of Holdout set (12000, 28, 28)\n"
          ],
          "name": "stdout"
        }
      ]
    },
    {
      "cell_type": "markdown",
      "metadata": {
        "id": "HzCjPW9f0ZUz"
      },
      "source": [
        "## 4. Model Building\n",
        "\n",
        "A function to construct a network with 3-Dense layers with appropriate input layer will be defined. "
      ]
    },
    {
      "cell_type": "code",
      "metadata": {
        "id": "qyyvv_i4zuJM"
      },
      "source": [
        "def build_model():\n",
        "  \"\"\"\n",
        "  Method to build a neural network model with min 3-hidden layers.\n",
        "  \"\"\"\n",
        "  # L2 regularizer rate\n",
        "  l2_rate = 0.0023 # 0.001 \n",
        "  dropout_rate = 0.3 # Dropout rate\n",
        "\n",
        "  model = keras.models.Sequential() # A model is built with Sequential-API\n",
        "\n",
        "  model.add(keras.layers.Input(shape=(28, 28, 1)))\n",
        "  model.add(keras.layers.Flatten()) # Flatten is used to convert the 28 x 28 pixels into 784 pixels\n",
        "  model.add(keras.layers.Dense(256, activation='relu',\n",
        "                               kernel_regularizer=keras.regularizers.L2(l2_rate)))\n",
        "  model.add(keras.layers.Dropout(dropout_rate))\n",
        "  model.add(keras.layers.Dense(128, activation='relu',\n",
        "                            kernel_regularizer=keras.regularizers.L2(l2_rate)))\n",
        "  model.add(keras.layers.Dropout(dropout_rate))\n",
        "  model.add(keras.layers.Dense(64, activation='relu',\n",
        "                            kernel_regularizer=keras.regularizers.L2(l2_rate)))\n",
        "  model.add(keras.layers.Dropout(dropout_rate))\n",
        "  model.add(keras.layers.Dense(10, activation='softmax'))\n",
        "\n",
        "  return model\n"
      ],
      "execution_count": 242,
      "outputs": []
    },
    {
      "cell_type": "code",
      "metadata": {
        "id": "TdyuGRQG2p02"
      },
      "source": [
        "# Building a model\n",
        "ffnn_model = build_model()"
      ],
      "execution_count": 243,
      "outputs": []
    },
    {
      "cell_type": "code",
      "metadata": {
        "id": "rXXRKu0U2tlM",
        "outputId": "f93440e6-7800-41dd-b803-c7f32f570b20",
        "colab": {
          "base_uri": "https://localhost:8080/",
          "height": 454
        }
      },
      "source": [
        "ffnn_model.summary()"
      ],
      "execution_count": 244,
      "outputs": [
        {
          "output_type": "stream",
          "text": [
            "Model: \"sequential_22\"\n",
            "_________________________________________________________________\n",
            "Layer (type)                 Output Shape              Param #   \n",
            "=================================================================\n",
            "flatten_22 (Flatten)         (None, 784)               0         \n",
            "_________________________________________________________________\n",
            "dense_102 (Dense)            (None, 256)               200960    \n",
            "_________________________________________________________________\n",
            "dropout_45 (Dropout)         (None, 256)               0         \n",
            "_________________________________________________________________\n",
            "dense_103 (Dense)            (None, 128)               32896     \n",
            "_________________________________________________________________\n",
            "dropout_46 (Dropout)         (None, 128)               0         \n",
            "_________________________________________________________________\n",
            "dense_104 (Dense)            (None, 64)                8256      \n",
            "_________________________________________________________________\n",
            "dropout_47 (Dropout)         (None, 64)                0         \n",
            "_________________________________________________________________\n",
            "dense_105 (Dense)            (None, 10)                650       \n",
            "=================================================================\n",
            "Total params: 242,762\n",
            "Trainable params: 242,762\n",
            "Non-trainable params: 0\n",
            "_________________________________________________________________\n"
          ],
          "name": "stdout"
        }
      ]
    },
    {
      "cell_type": "markdown",
      "metadata": {
        "id": "Vlk6nPpFIcfM"
      },
      "source": [
        "## 5. Compile the model\n",
        "\n",
        "The model is compiled with the following parameters\n",
        "1. Loss Function - Categorical Cross Entropy\n",
        "2. Optimizer - ADAM with learning rate $\\eta=0.0001$\n",
        "3. Metrics - Accuracy\n",
        "\n",
        "### Justification:\n",
        "The primary reasons for choosing `CategoricalCrossEntropy` are,\n",
        "1. The Y-target value is a multiclass categorical variable, hence the `loss function` should be cross entropy. \n",
        "2. The format of y-target value used here are in one-hot encoded format, which require the loss to be categorical cross entropy. If the label was not one-hot encoded then we could use `sparse_cross_entropy` loss function. \n",
        "\n",
        "**Optimizer**:\n",
        "1. The commonly used optimizers for categorical Y-variable can be `SGD`, `SGD+Momentum`, `AdaGrad` and `Adam`. \n",
        "2. Of these optimizers, Adam works effectively for multiclass classification dataset. \n",
        "\n",
        "\n",
        "| Optimizer | Learning Rate | Momentum | Loss | Accuracy |\n",
        "|-----------|----------|------------|--- |---------|\n",
        "| SGD | 0.0001 | No | 1.319 | 73% |\n",
        "| SGD + Momentum | 0.0001 | 0.8 | 1.220  | 77% |\n",
        "| AdaGrad | 0.0001 | No | 3.397 | 66% |\n",
        "| **Adam** | 0.0001 | No | **0.549** | **86%** |\n",
        "\n"
      ]
    },
    {
      "cell_type": "code",
      "metadata": {
        "id": "OMMOzmNK3qUY"
      },
      "source": [
        "# Optimizer learning rate\n",
        "opt_lr = 0.0001\n",
        "\n",
        "# ffnn_model.compile(loss=keras.losses.CategoricalCrossentropy(),\n",
        "#                   optimizer=keras.optimizers.SGD(learning_rate=opt_lr),\n",
        "#                   metrics=['accuracy'])\n",
        "\n",
        "# ffnn_model.compile(loss=keras.losses.CategoricalCrossentropy(),\n",
        "#                   optimizer=keras.optimizers.SGD(learning_rate=opt_lr, momentum=0.8),\n",
        "#                   metrics=['accuracy'])\n",
        "\n",
        "\n",
        "# ffnn_model.compile(loss=keras.losses.CategoricalCrossentropy(),\n",
        "#                   optimizer=keras.optimizers.Adagrad(learning_rate=opt_lr),\n",
        "#                   metrics=['accuracy'])\n",
        "\n",
        "ffnn_model.compile(loss=keras.losses.CategoricalCrossentropy(),\n",
        "                  optimizer=keras.optimizers.Adam(learning_rate=opt_lr),\n",
        "                  metrics=['accuracy'])\n"
      ],
      "execution_count": 245,
      "outputs": []
    },
    {
      "cell_type": "markdown",
      "metadata": {
        "id": "jLLIOWEhJXJU"
      },
      "source": [
        "## 6. Train Model\n",
        "\n",
        "The model will be trained by fitting the training and validation data. "
      ]
    },
    {
      "cell_type": "code",
      "metadata": {
        "id": "JB0GMTWIJRWG",
        "outputId": "9c95fa96-e906-4fe5-afda-8905ec44dd5c",
        "colab": {
          "base_uri": "https://localhost:8080/",
          "height": 1000
        }
      },
      "source": [
        "epochs_run = 30 # Epoch run steps 30\n",
        "batchsize = 128\n",
        "\n",
        "# start time\n",
        "start_time = time.perf_counter()\n",
        "\n",
        "# Fitting the data\n",
        "history = ffnn_model.fit(X_train, \n",
        "                         y_train, \n",
        "                         epochs=epochs_run, \n",
        "                         batch_size=batchsize,\n",
        "                         validation_data=(X_valid, y_valid), \n",
        "                         verbose=1)\n",
        "# Total time taken for training the given dataset\n",
        "elapsed = time.perf_counter() - start_time\n"
      ],
      "execution_count": 247,
      "outputs": [
        {
          "output_type": "stream",
          "text": [
            "Epoch 1/30\n",
            "375/375 [==============================] - 1s 3ms/step - loss: 1.6711 - accuracy: 0.7329 - val_loss: 1.5080 - val_accuracy: 0.7833\n",
            "Epoch 2/30\n",
            "375/375 [==============================] - 1s 3ms/step - loss: 1.5995 - accuracy: 0.7424 - val_loss: 1.4452 - val_accuracy: 0.7900\n",
            "Epoch 3/30\n",
            "375/375 [==============================] - 1s 3ms/step - loss: 1.5252 - accuracy: 0.7492 - val_loss: 1.3822 - val_accuracy: 0.7868\n",
            "Epoch 4/30\n",
            "375/375 [==============================] - 1s 3ms/step - loss: 1.4625 - accuracy: 0.7529 - val_loss: 1.3164 - val_accuracy: 0.7985\n",
            "Epoch 5/30\n",
            "375/375 [==============================] - 1s 3ms/step - loss: 1.3788 - accuracy: 0.7708 - val_loss: 1.2344 - val_accuracy: 0.8152\n",
            "Epoch 6/30\n",
            "375/375 [==============================] - 1s 3ms/step - loss: 1.2942 - accuracy: 0.7846 - val_loss: 1.1582 - val_accuracy: 0.8237\n",
            "Epoch 7/30\n",
            "375/375 [==============================] - 1s 3ms/step - loss: 1.2155 - accuracy: 0.7954 - val_loss: 1.0988 - val_accuracy: 0.8292\n",
            "Epoch 8/30\n",
            "375/375 [==============================] - 1s 3ms/step - loss: 1.1469 - accuracy: 0.8006 - val_loss: 1.0299 - val_accuracy: 0.8320\n",
            "Epoch 9/30\n",
            "375/375 [==============================] - 1s 3ms/step - loss: 1.0835 - accuracy: 0.8076 - val_loss: 0.9811 - val_accuracy: 0.8338\n",
            "Epoch 10/30\n",
            "375/375 [==============================] - 1s 3ms/step - loss: 1.0335 - accuracy: 0.8120 - val_loss: 0.9347 - val_accuracy: 0.8372\n",
            "Epoch 11/30\n",
            "375/375 [==============================] - 1s 3ms/step - loss: 0.9744 - accuracy: 0.8161 - val_loss: 0.8989 - val_accuracy: 0.8318\n",
            "Epoch 12/30\n",
            "375/375 [==============================] - 1s 3ms/step - loss: 0.9280 - accuracy: 0.8202 - val_loss: 0.8586 - val_accuracy: 0.8353\n",
            "Epoch 13/30\n",
            "375/375 [==============================] - 1s 3ms/step - loss: 0.8826 - accuracy: 0.8230 - val_loss: 0.8072 - val_accuracy: 0.8413\n",
            "Epoch 14/30\n",
            "375/375 [==============================] - 1s 3ms/step - loss: 0.8412 - accuracy: 0.8264 - val_loss: 0.7745 - val_accuracy: 0.8432\n",
            "Epoch 15/30\n",
            "375/375 [==============================] - 1s 3ms/step - loss: 0.8020 - accuracy: 0.8311 - val_loss: 0.7434 - val_accuracy: 0.8457\n",
            "Epoch 16/30\n",
            "375/375 [==============================] - 1s 3ms/step - loss: 0.7788 - accuracy: 0.8325 - val_loss: 0.7312 - val_accuracy: 0.8492\n",
            "Epoch 17/30\n",
            "375/375 [==============================] - 1s 3ms/step - loss: 0.7468 - accuracy: 0.8362 - val_loss: 0.7009 - val_accuracy: 0.8457\n",
            "Epoch 18/30\n",
            "375/375 [==============================] - 1s 3ms/step - loss: 0.7187 - accuracy: 0.8395 - val_loss: 0.6702 - val_accuracy: 0.8532\n",
            "Epoch 19/30\n",
            "375/375 [==============================] - 1s 3ms/step - loss: 0.6925 - accuracy: 0.8448 - val_loss: 0.6554 - val_accuracy: 0.8543\n",
            "Epoch 20/30\n",
            "375/375 [==============================] - 1s 3ms/step - loss: 0.6740 - accuracy: 0.8471 - val_loss: 0.6360 - val_accuracy: 0.8597\n",
            "Epoch 21/30\n",
            "375/375 [==============================] - 1s 3ms/step - loss: 0.6550 - accuracy: 0.8482 - val_loss: 0.6248 - val_accuracy: 0.8598\n",
            "Epoch 22/30\n",
            "375/375 [==============================] - 1s 3ms/step - loss: 0.6367 - accuracy: 0.8500 - val_loss: 0.6051 - val_accuracy: 0.8638\n",
            "Epoch 23/30\n",
            "375/375 [==============================] - 1s 3ms/step - loss: 0.6253 - accuracy: 0.8517 - val_loss: 0.5880 - val_accuracy: 0.8633\n",
            "Epoch 24/30\n",
            "375/375 [==============================] - 1s 3ms/step - loss: 0.6074 - accuracy: 0.8570 - val_loss: 0.5840 - val_accuracy: 0.8640\n",
            "Epoch 25/30\n",
            "375/375 [==============================] - 1s 3ms/step - loss: 0.5948 - accuracy: 0.8569 - val_loss: 0.5621 - val_accuracy: 0.8675\n",
            "Epoch 26/30\n",
            "375/375 [==============================] - 1s 3ms/step - loss: 0.5810 - accuracy: 0.8589 - val_loss: 0.5578 - val_accuracy: 0.8685\n",
            "Epoch 27/30\n",
            "375/375 [==============================] - 1s 3ms/step - loss: 0.5653 - accuracy: 0.8620 - val_loss: 0.5517 - val_accuracy: 0.8683\n",
            "Epoch 28/30\n",
            "375/375 [==============================] - 1s 3ms/step - loss: 0.5608 - accuracy: 0.8610 - val_loss: 0.5511 - val_accuracy: 0.8664\n",
            "Epoch 29/30\n",
            "375/375 [==============================] - 1s 3ms/step - loss: 0.5487 - accuracy: 0.8644 - val_loss: 0.5365 - val_accuracy: 0.8692\n",
            "Epoch 30/30\n",
            "375/375 [==============================] - 1s 3ms/step - loss: 0.5361 - accuracy: 0.8671 - val_loss: 0.5271 - val_accuracy: 0.8695\n"
          ],
          "name": "stdout"
        }
      ]
    },
    {
      "cell_type": "markdown",
      "metadata": {
        "id": "lQhQYpF844iS"
      },
      "source": [
        "### Evaluating model with test data"
      ]
    },
    {
      "cell_type": "code",
      "metadata": {
        "id": "pheCdT3MJvZX",
        "outputId": "df468502-fb5d-4fc0-a935-cb37d45cb6c5",
        "colab": {
          "base_uri": "https://localhost:8080/",
          "height": 90
        }
      },
      "source": [
        "val_loss, val_acc = ffnn_model.evaluate(X_test, y_test)\n",
        "\n",
        "print(\"\\n\\nValidation Loss {:.3f} and Validation Accuracy {:.2f}%\".format(val_loss, val_acc))"
      ],
      "execution_count": 248,
      "outputs": [
        {
          "output_type": "stream",
          "text": [
            "313/313 [==============================] - 1s 2ms/step - loss: 0.5487 - accuracy: 0.8637\n",
            "\n",
            "\n",
            "Validation Loss 0.549 and Validation Accuracy 0.86%\n"
          ],
          "name": "stdout"
        }
      ]
    },
    {
      "cell_type": "markdown",
      "metadata": {
        "id": "2iRKdteDE4AI"
      },
      "source": [
        "### 6.2 Plot loss and accuracy history graphs."
      ]
    },
    {
      "cell_type": "code",
      "metadata": {
        "id": "kw-AfoT7FAdN",
        "outputId": "6798edc3-8b05-4579-caf7-ef7c2582e43c",
        "colab": {
          "base_uri": "https://localhost:8080/",
          "height": 1000
        }
      },
      "source": [
        "def evaluation_plot(history):\n",
        "  \"\"\"\n",
        "  Method plots the model training result\n",
        "  :param history: history of the model epochs run\n",
        "  \"\"\"\n",
        "  acc = history.history['accuracy']\n",
        "  val_acc = history.history['val_accuracy']\n",
        "  # Loss details\n",
        "  loss = history.history['loss']\n",
        "  val_loss = history.history['val_loss']\n",
        "\n",
        "  epochs = range(1, len(acc) + 1)\n",
        "\n",
        "  plt.figure(figsize=(10,8))\n",
        "  plt.plot(epochs, acc, label=\"Training Accuracy\")\n",
        "  plt.plot(epochs, val_acc, label=\"Validation Accuracy\")\n",
        "  plt.title(\"Training Accuracy Plot\")\n",
        "  plt.xlabel(\"Epochs\")\n",
        "  plt.ylabel(\"Accuracy\")\n",
        "  plt.legend()\n",
        "  plt.show()\n",
        "\n",
        "  # Loss and Validation loss plot\n",
        "  plt.figure(figsize=(10,8))\n",
        "  plt.plot(epochs, loss, label=\"Training Loss\")\n",
        "  plt.plot(epochs, val_loss, label=\"Validation Loss\")\n",
        "  plt.title(\"Training Loss Plot\")\n",
        "  plt.xlabel(\"Epochs\")\n",
        "  plt.ylabel(\"Loss\")\n",
        "  plt.legend()\n",
        "  plt.show()\n",
        "\n",
        "# Plot the epochs run\n",
        "evaluation_plot(history)"
      ],
      "execution_count": 249,
      "outputs": [
        {
          "output_type": "display_data",
          "data": {
            "image/png": "[encoded data removed]",
            "text/plain": [
              "<Figure size 720x576 with 1 Axes>"
            ]
          },
          "metadata": {
            "tags": [],
            "needs_background": "light"
          }
        },
        {
          "output_type": "display_data",
          "data": {
            "image/png": "[encoded data removed]",
            "text/plain": [
              "<Figure size 720x576 with 1 Axes>"
            ]
          },
          "metadata": {
            "tags": [],
            "needs_background": "light"
          }
        }
      ]
    },
    {
      "cell_type": "markdown",
      "metadata": {
        "id": "3pYTwDQ8Gj6J"
      },
      "source": [
        "### Total time taken for training"
      ]
    },
    {
      "cell_type": "code",
      "metadata": {
        "id": "OHTXpZOSGoMm",
        "outputId": "0f3fc6b2-7855-4fc6-c8fb-c99a01d40de0",
        "colab": {
          "base_uri": "https://localhost:8080/",
          "height": 72
        }
      },
      "source": [
        "print(\"==\"*40)\n",
        "print(\"Total time taken for training {:.2f} seconds\".format(elapsed))\n",
        "print(\"==\"*40)"
      ],
      "execution_count": 222,
      "outputs": [
        {
          "output_type": "stream",
          "text": [
            "================================================================================\n",
            "Total time taken for training 20.95 seconds\n",
            "================================================================================\n"
          ],
          "name": "stdout"
        }
      ]
    },
    {
      "cell_type": "markdown",
      "metadata": {
        "id": "xUbZ7p_baLLN"
      },
      "source": [
        "## 7. Model Evaluation\n",
        "\n",
        "### a. Score with Test data\n"
      ]
    },
    {
      "cell_type": "code",
      "metadata": {
        "id": "w2tuOhiWJWTv"
      },
      "source": [
        "def model_score(nn_model, x_test, y_test):\n",
        "  \"\"\"\n",
        "  Model scoring is a process of predicting the y-value on test data and compute the metrics on the accuracy.\n",
        "  :param nn_model: Model object\n",
        "  : x_test: Test dataset\n",
        "  : y_test: Y-values of test data\n",
        "  \"\"\"\n",
        "  y_preds = nn_model.predict(x_test) # Get the predictions on X_Test data\n",
        "\n",
        "  # Converting Logits to Class code using argmax()\n",
        "  y_hat = tf.argmax(y_preds, 1)\n",
        "  rounded_test_labels = tf.argmax(y_test, 1) # make the one-hot encoded y-values to categorical number\n",
        "  # Print the confusion matrix of the predicted values\n",
        "  print(\"Confusion Matrix: \\n {}\".format(classification_report(rounded_test_labels, y_hat.numpy())))\n"
      ],
      "execution_count": 223,
      "outputs": []
    },
    {
      "cell_type": "code",
      "metadata": {
        "id": "1l0zvGCrSwNM",
        "outputId": "e64650d0-52b4-421e-dfe7-2be3e926b515",
        "colab": {
          "base_uri": "https://localhost:8080/",
          "height": 345
        }
      },
      "source": [
        "# Invoking model_score() with model and test data\n",
        "model_score(ffnn_model, X_test, y_test)"
      ],
      "execution_count": 224,
      "outputs": [
        {
          "output_type": "stream",
          "text": [
            "Confusion Matrix: \n",
            "               precision    recall  f1-score   support\n",
            "\n",
            "           0       0.72      0.85      0.78      1000\n",
            "           1       0.99      0.95      0.97      1000\n",
            "           2       0.71      0.70      0.71      1000\n",
            "           3       0.80      0.88      0.84      1000\n",
            "           4       0.62      0.80      0.70      1000\n",
            "           5       0.96      0.93      0.94      1000\n",
            "           6       0.63      0.33      0.43      1000\n",
            "           7       0.89      0.94      0.92      1000\n",
            "           8       0.96      0.93      0.95      1000\n",
            "           9       0.94      0.93      0.93      1000\n",
            "\n",
            "    accuracy                           0.82     10000\n",
            "   macro avg       0.82      0.82      0.82     10000\n",
            "weighted avg       0.82      0.82      0.82     10000\n",
            "\n"
          ],
          "name": "stdout"
        }
      ]
    },
    {
      "cell_type": "markdown",
      "metadata": {
        "id": "Yc7ulHxQLkEC"
      },
      "source": [
        "# Hyperparameter Tuning\n",
        "\n",
        "## 1. Model without regularization"
      ]
    },
    {
      "cell_type": "code",
      "metadata": {
        "id": "7yLkULD5cmX6"
      },
      "source": [
        "def model_without_regularization():\n",
        "  \"\"\"\n",
        "  Model without regularization \n",
        "  :return : Model with 3 hidden layers\n",
        "\n",
        "  \"\"\"\n",
        "  model = keras.models.Sequential()\n",
        "\n",
        "  model.add(keras.layers.Input(shape=(28, 28, 1)))\n",
        "  model.add(keras.layers.Flatten())\n",
        "  model.add(keras.layers.Dense(256, activation='relu'))\n",
        "  model.add(keras.layers.Dense(128, activation='relu'))\n",
        "  model.add(keras.layers.Dense(128, activation='relu'))\n",
        "  model.add(keras.layers.Dense(64, activation='relu'))\n",
        "  model.add(keras.layers.Dense(10, activation='softmax'))\n",
        "\n",
        "  return model\n",
        "  "
      ],
      "execution_count": 225,
      "outputs": []
    },
    {
      "cell_type": "code",
      "metadata": {
        "id": "Xlxs-ykoMN7K",
        "outputId": "ad1f0def-d2f6-4db5-8329-909ce9cc9988",
        "colab": {
          "base_uri": "https://localhost:8080/",
          "height": 399
        }
      },
      "source": [
        "# model object\n",
        "dn_model = model_without_regularization()\n",
        "lr = 0.0001 # Learning rate\n",
        "\n",
        "# Print model summary\n",
        "print(dn_model.summary())\n",
        "\n",
        "# Compile the model\n",
        "dn_model.compile(loss=\"categorical_crossentropy\",\n",
        "                  optimizer=keras.optimizers.Adam(learning_rate=lr),\n",
        "                  metrics=['accuracy'])"
      ],
      "execution_count": 226,
      "outputs": [
        {
          "output_type": "stream",
          "text": [
            "Model: \"sequential_20\"\n",
            "_________________________________________________________________\n",
            "Layer (type)                 Output Shape              Param #   \n",
            "=================================================================\n",
            "flatten_20 (Flatten)         (None, 784)               0         \n",
            "_________________________________________________________________\n",
            "dense_92 (Dense)             (None, 256)               200960    \n",
            "_________________________________________________________________\n",
            "dense_93 (Dense)             (None, 128)               32896     \n",
            "_________________________________________________________________\n",
            "dense_94 (Dense)             (None, 128)               16512     \n",
            "_________________________________________________________________\n",
            "dense_95 (Dense)             (None, 64)                8256      \n",
            "_________________________________________________________________\n",
            "dense_96 (Dense)             (None, 10)                650       \n",
            "=================================================================\n",
            "Total params: 259,274\n",
            "Trainable params: 259,274\n",
            "Non-trainable params: 0\n",
            "_________________________________________________________________\n",
            "None\n"
          ],
          "name": "stdout"
        }
      ]
    },
    {
      "cell_type": "code",
      "metadata": {
        "id": "sarpDDsnMxOP",
        "outputId": "932ff460-89eb-40f4-d3fd-263a6a04938d",
        "colab": {
          "base_uri": "https://localhost:8080/",
          "height": 745
        }
      },
      "source": [
        "# Fitting the data\n",
        "m_history = dn_model.fit(X_train, \n",
        "                         y_train, \n",
        "                         epochs=20, \n",
        "                         batch_size=128,\n",
        "                         validation_data=(X_valid, y_valid), \n",
        "                         verbose=1)"
      ],
      "execution_count": 227,
      "outputs": [
        {
          "output_type": "stream",
          "text": [
            "Epoch 1/20\n",
            "375/375 [==============================] - 1s 3ms/step - loss: 4.8402 - accuracy: 0.6562 - val_loss: 1.4504 - val_accuracy: 0.7408\n",
            "Epoch 2/20\n",
            "375/375 [==============================] - 1s 2ms/step - loss: 1.0618 - accuracy: 0.7683 - val_loss: 0.9308 - val_accuracy: 0.7784\n",
            "Epoch 3/20\n",
            "375/375 [==============================] - 1s 2ms/step - loss: 0.7503 - accuracy: 0.7972 - val_loss: 0.7638 - val_accuracy: 0.7857\n",
            "Epoch 4/20\n",
            "375/375 [==============================] - 1s 2ms/step - loss: 0.6138 - accuracy: 0.8174 - val_loss: 0.6798 - val_accuracy: 0.8067\n",
            "Epoch 5/20\n",
            "375/375 [==============================] - 1s 2ms/step - loss: 0.5220 - accuracy: 0.8343 - val_loss: 0.6187 - val_accuracy: 0.8177\n",
            "Epoch 6/20\n",
            "375/375 [==============================] - 1s 3ms/step - loss: 0.4701 - accuracy: 0.8452 - val_loss: 0.5807 - val_accuracy: 0.8223\n",
            "Epoch 7/20\n",
            "375/375 [==============================] - 1s 3ms/step - loss: 0.4286 - accuracy: 0.8544 - val_loss: 0.5538 - val_accuracy: 0.8325\n",
            "Epoch 8/20\n",
            "375/375 [==============================] - 1s 3ms/step - loss: 0.3955 - accuracy: 0.8635 - val_loss: 0.5462 - val_accuracy: 0.8286\n",
            "Epoch 9/20\n",
            "375/375 [==============================] - 1s 2ms/step - loss: 0.3705 - accuracy: 0.8694 - val_loss: 0.5136 - val_accuracy: 0.8395\n",
            "Epoch 10/20\n",
            "375/375 [==============================] - 1s 2ms/step - loss: 0.3489 - accuracy: 0.8766 - val_loss: 0.5028 - val_accuracy: 0.8444\n",
            "Epoch 11/20\n",
            "375/375 [==============================] - 1s 2ms/step - loss: 0.3285 - accuracy: 0.8828 - val_loss: 0.4864 - val_accuracy: 0.8494\n",
            "Epoch 12/20\n",
            "375/375 [==============================] - 1s 3ms/step - loss: 0.3077 - accuracy: 0.8883 - val_loss: 0.4947 - val_accuracy: 0.8491\n",
            "Epoch 13/20\n",
            "375/375 [==============================] - 1s 2ms/step - loss: 0.2929 - accuracy: 0.8946 - val_loss: 0.4847 - val_accuracy: 0.8464\n",
            "Epoch 14/20\n",
            "375/375 [==============================] - 1s 3ms/step - loss: 0.2856 - accuracy: 0.8962 - val_loss: 0.4759 - val_accuracy: 0.8495\n",
            "Epoch 15/20\n",
            "375/375 [==============================] - 1s 3ms/step - loss: 0.2679 - accuracy: 0.9028 - val_loss: 0.4684 - val_accuracy: 0.8553\n",
            "Epoch 16/20\n",
            "375/375 [==============================] - 1s 2ms/step - loss: 0.2620 - accuracy: 0.9034 - val_loss: 0.4583 - val_accuracy: 0.8561\n",
            "Epoch 17/20\n",
            "375/375 [==============================] - 1s 3ms/step - loss: 0.2492 - accuracy: 0.9080 - val_loss: 0.4717 - val_accuracy: 0.8544\n",
            "Epoch 18/20\n",
            "375/375 [==============================] - 1s 2ms/step - loss: 0.2433 - accuracy: 0.9100 - val_loss: 0.4652 - val_accuracy: 0.8562\n",
            "Epoch 19/20\n",
            "375/375 [==============================] - 1s 2ms/step - loss: 0.2266 - accuracy: 0.9151 - val_loss: 0.4553 - val_accuracy: 0.8618\n",
            "Epoch 20/20\n",
            "375/375 [==============================] - 1s 2ms/step - loss: 0.2222 - accuracy: 0.9186 - val_loss: 0.4624 - val_accuracy: 0.8616\n"
          ],
          "name": "stdout"
        }
      ]
    },
    {
      "cell_type": "markdown",
      "metadata": {
        "id": "guuLHNb85IC1"
      },
      "source": [
        "### Evaluate model with test data"
      ]
    },
    {
      "cell_type": "code",
      "metadata": {
        "id": "ek5g6lOYM41s",
        "outputId": "c4894e9c-2912-4ade-a1f8-5452e9bb6793",
        "colab": {
          "base_uri": "https://localhost:8080/",
          "height": 90
        }
      },
      "source": [
        "val_loss, val_acc = dn_model.evaluate(X_test, y_test)\n",
        "\n",
        "print(\"\\n\\nValidation Loss {:.3f} and Validation Accuracy {:.2f}%\".format(val_loss, val_acc))"
      ],
      "execution_count": 228,
      "outputs": [
        {
          "output_type": "stream",
          "text": [
            "313/313 [==============================] - 1s 2ms/step - loss: 0.4720 - accuracy: 0.8541\n",
            "\n",
            "\n",
            "Validation Loss 0.472 and Validation Accuracy 0.85%\n"
          ],
          "name": "stdout"
        }
      ]
    },
    {
      "cell_type": "code",
      "metadata": {
        "id": "R55DlhcyKcle",
        "outputId": "f6a07539-f45b-4d3c-e0d7-efec29eeba68",
        "colab": {
          "base_uri": "https://localhost:8080/",
          "height": 345
        }
      },
      "source": [
        "# Invoking model_score() with model and test data\n",
        "model_score(dn_model, X_test, y_test)"
      ],
      "execution_count": 229,
      "outputs": [
        {
          "output_type": "stream",
          "text": [
            "Confusion Matrix: \n",
            "               precision    recall  f1-score   support\n",
            "\n",
            "           0       0.74      0.86      0.80      1000\n",
            "           1       0.98      0.96      0.97      1000\n",
            "           2       0.75      0.78      0.77      1000\n",
            "           3       0.87      0.86      0.86      1000\n",
            "           4       0.76      0.77      0.76      1000\n",
            "           5       0.94      0.94      0.94      1000\n",
            "           6       0.67      0.57      0.62      1000\n",
            "           7       0.93      0.91      0.92      1000\n",
            "           8       0.97      0.93      0.95      1000\n",
            "           9       0.94      0.95      0.95      1000\n",
            "\n",
            "    accuracy                           0.85     10000\n",
            "   macro avg       0.85      0.85      0.85     10000\n",
            "weighted avg       0.85      0.85      0.85     10000\n",
            "\n"
          ],
          "name": "stdout"
        }
      ]
    },
    {
      "cell_type": "code",
      "metadata": {
        "id": "StdPKwlYNO_W",
        "outputId": "56244db3-3b0a-4ebb-829c-39b7f3e2f5a1",
        "colab": {
          "base_uri": "https://localhost:8080/",
          "height": 1000
        }
      },
      "source": [
        "evaluation_plot(m_history)"
      ],
      "execution_count": 230,
      "outputs": [
        {
          "output_type": "display_data",
          "data": {
            "image/png": "[encoded data removed]",
            "text/plain": [
              "<Figure size 720x576 with 1 Axes>"
            ]
          },
          "metadata": {
            "tags": [],
            "needs_background": "light"
          }
        },
        {
          "output_type": "display_data",
          "data": {
            "image/png": "[encoded data removed]",
            "text/plain": [
              "<Figure size 720x576 with 1 Axes>"
            ]
          },
          "metadata": {
            "tags": [],
            "needs_background": "light"
          }
        }
      ]
    },
    {
      "cell_type": "markdown",
      "metadata": {
        "id": "wEPmwTDH-pq0"
      },
      "source": [
        "## 2. Model with dropouts at different layers"
      ]
    },
    {
      "cell_type": "code",
      "metadata": {
        "id": "dKwUfaHGPMob"
      },
      "source": [
        "def model_with_dropouts():\n",
        "  \"\"\"\n",
        "  Model with only dropouts as to avoid overfitting\n",
        "  :return : Constructed model\n",
        "\n",
        "  \"\"\"\n",
        "  model = keras.models.Sequential()\n",
        "\n",
        "  model.add(keras.layers.Input(shape=(28, 28, 1)))\n",
        "  model.add(keras.layers.Flatten())\n",
        "  model.add(keras.layers.Dense(256, activation='relu'))\n",
        "  model.add(keras.layers.Dropout(0.2)) # Dropout at hidden layer 1\n",
        "  model.add(keras.layers.Dense(128, activation='relu'))\n",
        "  model.add(keras.layers.Dense(128, activation='relu'))\n",
        "  model.add(keras.layers.Dropout(0.4)) # Dropout at hidden layer 3\n",
        "  model.add(keras.layers.Dense(64, activation='relu'))\n",
        "  model.add(keras.layers.Dropout(0.3))  # Dropout at hidden layer 4\n",
        "  model.add(keras.layers.Dense(10, activation='softmax'))\n",
        "\n",
        "  return model\n",
        "  "
      ],
      "execution_count": 231,
      "outputs": []
    },
    {
      "cell_type": "code",
      "metadata": {
        "id": "fpXjgjz3AdIV",
        "outputId": "1469d922-723e-435c-9763-2bb2e9b67ce6",
        "colab": {
          "base_uri": "https://localhost:8080/",
          "height": 1000
        }
      },
      "source": [
        "# model object\n",
        "dnn_model = model_with_dropouts()\n",
        "lr = 0.0001\n",
        "# Print model summary\n",
        "print(dnn_model.summary())\n",
        "\n",
        "# Compile the model\n",
        "dnn_model.compile(loss=\"categorical_crossentropy\",\n",
        "                  optimizer=keras.optimizers.Adam(learning_rate=lr),\n",
        "                  metrics=['accuracy'])\n",
        "\n",
        "# Fitting the data\n",
        "d_history = dnn_model.fit(X_train, \n",
        "                         y_train, \n",
        "                         epochs=20, \n",
        "                         batch_size=128,\n",
        "                         validation_data=(X_valid, y_valid), \n",
        "                         verbose=1)\n",
        "\n"
      ],
      "execution_count": 232,
      "outputs": [
        {
          "output_type": "stream",
          "text": [
            "Model: \"sequential_21\"\n",
            "_________________________________________________________________\n",
            "Layer (type)                 Output Shape              Param #   \n",
            "=================================================================\n",
            "flatten_21 (Flatten)         (None, 784)               0         \n",
            "_________________________________________________________________\n",
            "dense_97 (Dense)             (None, 256)               200960    \n",
            "_________________________________________________________________\n",
            "dropout_42 (Dropout)         (None, 256)               0         \n",
            "_________________________________________________________________\n",
            "dense_98 (Dense)             (None, 128)               32896     \n",
            "_________________________________________________________________\n",
            "dense_99 (Dense)             (None, 128)               16512     \n",
            "_________________________________________________________________\n",
            "dropout_43 (Dropout)         (None, 128)               0         \n",
            "_________________________________________________________________\n",
            "dense_100 (Dense)            (None, 64)                8256      \n",
            "_________________________________________________________________\n",
            "dropout_44 (Dropout)         (None, 64)                0         \n",
            "_________________________________________________________________\n",
            "dense_101 (Dense)            (None, 10)                650       \n",
            "=================================================================\n",
            "Total params: 259,274\n",
            "Trainable params: 259,274\n",
            "Non-trainable params: 0\n",
            "_________________________________________________________________\n",
            "None\n",
            "Epoch 1/20\n",
            "375/375 [==============================] - 1s 3ms/step - loss: 15.5772 - accuracy: 0.2736 - val_loss: 1.3291 - val_accuracy: 0.6017\n",
            "Epoch 2/20\n",
            "375/375 [==============================] - 1s 3ms/step - loss: 2.8349 - accuracy: 0.3839 - val_loss: 1.1126 - val_accuracy: 0.6442\n",
            "Epoch 3/20\n",
            "375/375 [==============================] - 1s 3ms/step - loss: 1.7959 - accuracy: 0.4735 - val_loss: 0.9514 - val_accuracy: 0.6902\n",
            "Epoch 4/20\n",
            "375/375 [==============================] - 1s 3ms/step - loss: 1.4546 - accuracy: 0.5403 - val_loss: 0.8664 - val_accuracy: 0.6952\n",
            "Epoch 5/20\n",
            "375/375 [==============================] - 1s 3ms/step - loss: 1.2451 - accuracy: 0.5920 - val_loss: 0.8102 - val_accuracy: 0.7171\n",
            "Epoch 6/20\n",
            "375/375 [==============================] - 1s 3ms/step - loss: 1.1291 - accuracy: 0.6243 - val_loss: 0.7524 - val_accuracy: 0.7213\n",
            "Epoch 7/20\n",
            "375/375 [==============================] - 1s 3ms/step - loss: 1.0406 - accuracy: 0.6524 - val_loss: 0.7161 - val_accuracy: 0.7408\n",
            "Epoch 8/20\n",
            "375/375 [==============================] - 1s 3ms/step - loss: 0.9628 - accuracy: 0.6724 - val_loss: 0.6809 - val_accuracy: 0.7493\n",
            "Epoch 9/20\n",
            "375/375 [==============================] - 1s 3ms/step - loss: 0.9069 - accuracy: 0.6858 - val_loss: 0.6556 - val_accuracy: 0.7543\n",
            "Epoch 10/20\n",
            "375/375 [==============================] - 1s 3ms/step - loss: 0.8538 - accuracy: 0.7018 - val_loss: 0.6347 - val_accuracy: 0.7525\n",
            "Epoch 11/20\n",
            "375/375 [==============================] - 1s 3ms/step - loss: 0.8186 - accuracy: 0.7149 - val_loss: 0.6028 - val_accuracy: 0.7719\n",
            "Epoch 12/20\n",
            "375/375 [==============================] - 1s 3ms/step - loss: 0.7835 - accuracy: 0.7224 - val_loss: 0.5853 - val_accuracy: 0.7736\n",
            "Epoch 13/20\n",
            "375/375 [==============================] - 1s 3ms/step - loss: 0.7467 - accuracy: 0.7336 - val_loss: 0.5790 - val_accuracy: 0.7839\n",
            "Epoch 14/20\n",
            "375/375 [==============================] - 1s 3ms/step - loss: 0.7114 - accuracy: 0.7448 - val_loss: 0.5578 - val_accuracy: 0.7922\n",
            "Epoch 15/20\n",
            "375/375 [==============================] - 1s 3ms/step - loss: 0.6859 - accuracy: 0.7580 - val_loss: 0.5363 - val_accuracy: 0.7982\n",
            "Epoch 16/20\n",
            "375/375 [==============================] - 1s 3ms/step - loss: 0.6610 - accuracy: 0.7642 - val_loss: 0.5302 - val_accuracy: 0.8006\n",
            "Epoch 17/20\n",
            "375/375 [==============================] - 1s 3ms/step - loss: 0.6410 - accuracy: 0.7731 - val_loss: 0.5216 - val_accuracy: 0.8000\n",
            "Epoch 18/20\n",
            "375/375 [==============================] - 1s 3ms/step - loss: 0.6254 - accuracy: 0.7804 - val_loss: 0.5090 - val_accuracy: 0.8086\n",
            "Epoch 19/20\n",
            "375/375 [==============================] - 1s 3ms/step - loss: 0.5961 - accuracy: 0.7893 - val_loss: 0.4876 - val_accuracy: 0.8221\n",
            "Epoch 20/20\n",
            "375/375 [==============================] - 1s 3ms/step - loss: 0.5718 - accuracy: 0.8012 - val_loss: 0.4717 - val_accuracy: 0.8308\n"
          ],
          "name": "stdout"
        }
      ]
    },
    {
      "cell_type": "markdown",
      "metadata": {
        "id": "wFOteouT5b6e"
      },
      "source": [
        "### Evaluate model with test data"
      ]
    },
    {
      "cell_type": "code",
      "metadata": {
        "id": "xb0Ae6Zc5bFv",
        "outputId": "681bbf0e-21ec-4806-b115-0810c7c20bba",
        "colab": {
          "base_uri": "https://localhost:8080/",
          "height": 1000
        }
      },
      "source": [
        "val_loss, val_acc = dnn_model.evaluate(X_test, y_test)\n",
        "\n",
        "print(\"\\n\\nValidation Loss {:.3f} and Validation Accuracy {:.2f}%\".format(val_loss, val_acc))\n",
        "\n",
        "evaluation_plot(d_history)"
      ],
      "execution_count": 233,
      "outputs": [
        {
          "output_type": "stream",
          "text": [
            "313/313 [==============================] - 1s 2ms/step - loss: 0.4939 - accuracy: 0.8189\n",
            "\n",
            "\n",
            "Validation Loss 0.494 and Validation Accuracy 0.82%\n"
          ],
          "name": "stdout"
        },
        {
          "output_type": "display_data",
          "data": {
            "image/png": "[encoded data removed]",
            "text/plain": [
              "<Figure size 720x576 with 1 Axes>"
            ]
          },
          "metadata": {
            "tags": [],
            "needs_background": "light"
          }
        },
        {
          "output_type": "display_data",
          "data": {
            "image/png": "[encoded data removed]",
            "text/plain": [
              "<Figure size 720x576 with 1 Axes>"
            ]
          },
          "metadata": {
            "tags": [],
            "needs_background": "light"
          }
        }
      ]
    },
    {
      "cell_type": "code",
      "metadata": {
        "id": "OAK3Ss86LNjY",
        "outputId": "206b811a-a8bd-4c59-d0b8-cb2b7e9ec66c",
        "colab": {
          "base_uri": "https://localhost:8080/",
          "height": 345
        }
      },
      "source": [
        "# Scoring model with dev data\n",
        "model_score(dnn_model, X_test, y_test)"
      ],
      "execution_count": 234,
      "outputs": [
        {
          "output_type": "stream",
          "text": [
            "Confusion Matrix: \n",
            "               precision    recall  f1-score   support\n",
            "\n",
            "           0       0.77      0.81      0.79      1000\n",
            "           1       0.98      0.96      0.97      1000\n",
            "           2       0.57      0.81      0.67      1000\n",
            "           3       0.82      0.86      0.84      1000\n",
            "           4       0.68      0.54      0.60      1000\n",
            "           5       0.96      0.93      0.95      1000\n",
            "           6       0.63      0.47      0.53      1000\n",
            "           7       0.92      0.92      0.92      1000\n",
            "           8       0.96      0.94      0.95      1000\n",
            "           9       0.92      0.96      0.94      1000\n",
            "\n",
            "    accuracy                           0.82     10000\n",
            "   macro avg       0.82      0.82      0.82     10000\n",
            "weighted avg       0.82      0.82      0.82     10000\n",
            "\n"
          ],
          "name": "stdout"
        }
      ]
    },
    {
      "cell_type": "markdown",
      "metadata": {
        "id": "mq99cLyS5jwK"
      },
      "source": [
        "## Conclusion\n",
        "\n",
        "The `MNIST-Fashion` dataset had a volume of **70,000 images** of various fashion materials like apparals, shoes, and accessaries. The primary objective of the model was to learn the image pixel data to classify the image into one of the 10 categorical labels.\n",
        "\n",
        "The summary of the preprocessing, model building and evaluation is described below,\n",
        "\n",
        "* The image data was in the shape of 28 x 28 size. \n",
        "* The training set **60,000 images** were split into **80:20** ratio for train and validation/holdout dataset, which is effectively **48,000 train** and **12,000 images** for validation. \n",
        "* The **10,000 image** data were kept as a test/dev set. \n",
        "* There were 10 unique class labels to be predicted based on the image data. \n",
        "* A deep network model was build with `L2 regularization` and `Dropout` layers at every hidden layer.\n",
        "* A set of parameters used during model compilation were like,\n",
        "  * Optimizer = 'Adam' with learning rate $\\eta=0.0001$\n",
        "  * Loss = 'Categorical Cross Entropy'\n",
        "  * Metrics = 'Accuracy'\n",
        "\n",
        "### Model Comparison\n",
        "\n",
        "There were 3 models built with the same training and validation set. \n",
        "1. Model with `Regularization` and `Dropouts`\n",
        "2. Model with just Dense layer without regularization and Dropouts\n",
        "3. Model with only `Dropouts` with a probability value at different layer.\n",
        "\n",
        "The following tabular data shows the comparison of three model results,\n",
        "\n",
        "Model | Properties | Result|\n",
        "------|------------|-------|\n",
        "ffnn_model| With Regularization & Dropouts | 86%\n",
        "dn_model | Just Dense layers without any regularization | 85%\n",
        "dnn_model | Dropouts with different percentage value | 82%\n",
        "\n",
        "## Comparing with **State-Of-Art Model**\n",
        "Different models with comprehensive network along with convolutional layers were used to build state-of-art models. At the moment, the best `state-of-art model` for this **MNIST-Fashion** dataset is [**Fine-tuning DARTS**](https://paperswithcode.com/paper/fine-tuning-darts-for-image-classification) which has an accuracy of **95.9%**. \n",
        "\n",
        "Other STOA model results and comparison can be view [here.](https://paperswithcode.com/sota/fine-grained-image-classification-on-compcars)\n",
        "\n"
      ]
    },
    {
      "cell_type": "code",
      "metadata": {
        "id": "GKx4cm7IgAut"
      },
      "source": [
        ""
      ],
      "execution_count": 234,
      "outputs": []
    }
  ]
}