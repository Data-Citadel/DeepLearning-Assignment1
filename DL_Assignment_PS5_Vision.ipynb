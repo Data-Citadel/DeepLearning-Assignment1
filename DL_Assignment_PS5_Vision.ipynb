{
  "nbformat": 4,
  "nbformat_minor": 0,
  "metadata": {
    "colab": {
      "name": "DL_Assignment_PS5_Vision.ipynb",
      "provenance": [],
      "collapsed_sections": [],
      "authorship_tag": "ABX9TyPTyjA50V17U9JDwMneWtRA",
      "include_colab_link": true
    },
    "kernelspec": {
      "name": "python3",
      "display_name": "Python 3"
    },
    "accelerator": "GPU"
  },
  "cells": [
    {
      "cell_type": "markdown",
      "metadata": {
        "id": "view-in-github",
        "colab_type": "text"
      },
      "source": [
        "<a href=\"https://colab.research.google.com/github/Data-Citadel/DeepLearning-Assignment1/blob/main/DL_Assignment_PS5_Vision.ipynb\" target=\"_parent\"><img src=\"https://colab.research.google.com/assets/colab-badge.svg\" alt=\"Open In Colab\"/></a>"
      ]
    },
    {
      "cell_type": "markdown",
      "metadata": {
        "id": "5bJ6JyQTzfCC"
      },
      "source": [
        "# Vision Dataset-MNIST Fashion Dataset\n"
      ]
    },
    {
      "cell_type": "markdown",
      "metadata": {
        "id": "mRkuoybiznpo"
      },
      "source": [
        "## 1. Import Libraries/Dataset"
      ]
    },
    {
      "cell_type": "code",
      "metadata": {
        "id": "zuFSDLhlxd3t"
      },
      "source": [
        "\n",
        "# Import tensorflow and keras library\n",
        "import tensorflow as tf\n",
        "\n",
        "from tensorflow import keras\n",
        "\n",
        "# Visualization packages\n",
        "import matplotlib.pyplot as plt\n",
        "import seaborn as sns\n",
        "import numpy as np\n",
        "\n",
        "from sklearn.model_selection import train_test_split\n",
        "from sklearn.metrics import confusion_matrix, classification_report\n",
        "# Time library\n",
        "import time"
      ],
      "execution_count": 18,
      "outputs": []
    },
    {
      "cell_type": "markdown",
      "metadata": {
        "id": "g_gHW2Cn1GjY"
      },
      "source": [
        "## 1.1 Load Dataset"
      ]
    },
    {
      "cell_type": "code",
      "metadata": {
        "id": "GrlwW-uxzxGd",
        "outputId": "5cfe5278-87d6-4aaa-fd20-07e44c8f5e0d",
        "colab": {
          "base_uri": "https://localhost:8080/",
          "height": 163
        }
      },
      "source": [
        "# Load MNIST Fashion dataset from keras library\n",
        "fashion_data = keras.datasets.fashion_mnist\n",
        "\n",
        "# Destructuring the data into train and test\n",
        "(X_train_full, y_train_full), (X_test, y_test) = fashion_data.load_data()"
      ],
      "execution_count": 3,
      "outputs": [
        {
          "output_type": "stream",
          "text": [
            "Downloading data from https://storage.googleapis.com/tensorflow/tf-keras-datasets/train-labels-idx1-ubyte.gz\n",
            "32768/29515 [=================================] - 0s 0us/step\n",
            "Downloading data from https://storage.googleapis.com/tensorflow/tf-keras-datasets/train-images-idx3-ubyte.gz\n",
            "26427392/26421880 [==============================] - 0s 0us/step\n",
            "Downloading data from https://storage.googleapis.com/tensorflow/tf-keras-datasets/t10k-labels-idx1-ubyte.gz\n",
            "8192/5148 [===============================================] - 0s 0us/step\n",
            "Downloading data from https://storage.googleapis.com/tensorflow/tf-keras-datasets/t10k-images-idx3-ubyte.gz\n",
            "4423680/4422102 [==============================] - 0s 0us/step\n"
          ],
          "name": "stdout"
        }
      ]
    },
    {
      "cell_type": "markdown",
      "metadata": {
        "id": "wuT-5W224Afn"
      },
      "source": [
        "## 1.2 GPU Availability"
      ]
    },
    {
      "cell_type": "code",
      "metadata": {
        "id": "YOSiPZZb1wYJ",
        "outputId": "5a9b6a8d-ea26-43e6-eebc-6aca0fd1cf69",
        "colab": {
          "base_uri": "https://localhost:8080/",
          "height": 54
        }
      },
      "source": [
        "# Checking for GPU availability\n",
        "print(\"Is GPU enabled in this machine? \\n{}\".format(tf.config.list_physical_devices('GPU')))"
      ],
      "execution_count": 4,
      "outputs": [
        {
          "output_type": "stream",
          "text": [
            "Is GPU enabled in this machine? \n",
            "[PhysicalDevice(name='/physical_device:GPU:0', device_type='GPU')]\n"
          ],
          "name": "stdout"
        }
      ]
    },
    {
      "cell_type": "markdown",
      "metadata": {
        "id": "jHhIhpyS5XOT"
      },
      "source": [
        "## 2. Data Visualization\n",
        "\n",
        "### 2.1 Shape of Train and Test data"
      ]
    },
    {
      "cell_type": "code",
      "metadata": {
        "id": "W4SNX-mdu84W"
      },
      "source": [
        "class_names = [\"T-shirt/top\", \"Trouser\", \"Pullover\", \"Dress\", \"Coat\", \"Sandal\", \"Shirt\", \"Sneaker\", \"Bag\", \"Ankle boot\"]"
      ],
      "execution_count": 5,
      "outputs": []
    },
    {
      "cell_type": "code",
      "metadata": {
        "id": "WrKY88TZ3ijW",
        "outputId": "080d5da7-c0a5-479d-827f-9a6ae62a381d",
        "colab": {
          "base_uri": "https://localhost:8080/",
          "height": 54
        }
      },
      "source": [
        "print(\"Shape of Training Data : {}\".format(X_train_full.shape))\n",
        "print(\"Shape of Test Data : {}\".format(X_test.shape))"
      ],
      "execution_count": 6,
      "outputs": [
        {
          "output_type": "stream",
          "text": [
            "Shape of Training Data : (60000, 28, 28)\n",
            "Shape of Test Data : (10000, 28, 28)\n"
          ],
          "name": "stdout"
        }
      ]
    },
    {
      "cell_type": "code",
      "metadata": {
        "id": "cKoPP1jCJ5ba",
        "outputId": "88afa8f9-9725-463c-e1fd-e63041f0dfe6",
        "colab": {
          "base_uri": "https://localhost:8080/",
          "height": 35
        }
      },
      "source": [
        "# Number of classes\n",
        "np.unique(y_train_full)"
      ],
      "execution_count": 7,
      "outputs": [
        {
          "output_type": "execute_result",
          "data": {
            "text/plain": [
              "array([0, 1, 2, 3, 4, 5, 6, 7, 8, 9], dtype=uint8)"
            ]
          },
          "metadata": {
            "tags": []
          },
          "execution_count": 7
        }
      ]
    },
    {
      "cell_type": "markdown",
      "metadata": {
        "id": "s2iTJ14i6QCd"
      },
      "source": [
        "### 2.2 Plot image data"
      ]
    },
    {
      "cell_type": "code",
      "metadata": {
        "id": "bYnVueLJ5nAI",
        "outputId": "82285f1e-953f-47ec-dd46-0a78cf16b67c",
        "colab": {
          "base_uri": "https://localhost:8080/",
          "height": 479
        }
      },
      "source": [
        "plt.figure(figsize=(10,8))\n",
        "\n",
        "for i in range(12):\n",
        "  plt.subplot(3,4, i+1)\n",
        "  plt.imshow(X_train_full[i])\n",
        "  index = y_train_full[i]\n",
        "  plt.title(class_names[index])\n",
        "  plt.xticks([])\n",
        "  plt.yticks([])\n",
        "\n",
        "plt.show()"
      ],
      "execution_count": 8,
      "outputs": [
        {
          "output_type": "display_data",
          "data": {
            "image/png": "[encoded data removed]",
            "text/plain": [
              "<Figure size 720x576 with 12 Axes>"
            ]
          },
          "metadata": {
            "tags": []
          }
        }
      ]
    },
    {
      "cell_type": "markdown",
      "metadata": {
        "id": "qQ5CH4cDyriH"
      },
      "source": [
        "## 3. Data Pre-Processing\n",
        "\n",
        "### 3.1 Split the data into Train, Holdout and Dev(test)\n"
      ]
    },
    {
      "cell_type": "code",
      "metadata": {
        "id": "HPgMY0hvvZd2"
      },
      "source": [
        "X_train, X_valid, y_train, y_valid = train_test_split(X_train_full, y_train_full, test_size=0.2, random_state=42)"
      ],
      "execution_count": 9,
      "outputs": []
    },
    {
      "cell_type": "code",
      "metadata": {
        "id": "YuicbsPky9Na",
        "outputId": "a5d35699-f869-4a2d-d946-c22643ba7be8",
        "colab": {
          "base_uri": "https://localhost:8080/",
          "height": 54
        }
      },
      "source": [
        "print(\"Shape of Training set {}\".format(X_train.shape))\n",
        "print(\"Shape of Holdout set {}\".format(X_valid.shape))"
      ],
      "execution_count": 10,
      "outputs": [
        {
          "output_type": "stream",
          "text": [
            "Shape of Training set (48000, 28, 28)\n",
            "Shape of Holdout set (12000, 28, 28)\n"
          ],
          "name": "stdout"
        }
      ]
    },
    {
      "cell_type": "markdown",
      "metadata": {
        "id": "HzCjPW9f0ZUz"
      },
      "source": [
        "## 4. Model Building\n",
        "\n",
        "A function to construct a network with 3-Dense layers with appropriate input layer will be defined. "
      ]
    },
    {
      "cell_type": "code",
      "metadata": {
        "id": "qyyvv_i4zuJM"
      },
      "source": [
        "def build_model():\n",
        "  # L2 regularizer rate\n",
        "  l2_rate = 01e-3 # 0.001 \n",
        "  do_rate = 0.3 # Dropout rate\n",
        "\n",
        "  input_layer = keras.layers.Input(shape=[28,28,1]) # input layer with shape 28x28x1 as 28 pixels in column and rows\n",
        "  \n",
        "  flatten = keras.layers.Flatten()(input_layer) # Flatten the image input into rowwise pixels\n",
        "\n",
        "  hidden1 = keras.layers.Dense(256, activation='relu', \n",
        "                               kernel_regularizer=keras.regularizers.L2(l2_rate))(flatten)\n",
        "  \n",
        "  dropout_layer_1 = keras.layers.Dropout(do_rate)(hidden1)\n",
        "\n",
        "  hidden2 = keras.layers.Dense(256, activation='relu', \n",
        "                               kernel_regularizer=keras.regularizers.L2(l2_rate))(dropout_layer_1)\n",
        "  \n",
        "  dropout_layer_2 = keras.layers.Dropout(do_rate)(hidden2)\n",
        "\n",
        "  hidden3 = keras.layers.Dense(128, activation='relu', \n",
        "                               kernel_regularizer=keras.regularizers.L2(l2_rate))(dropout_layer_2)\n",
        "\n",
        "  dropout_layer_3 = keras.layers.Dropout(do_rate)(hidden3)\n",
        "\n",
        "  output = keras.layers.Dense(10, activation='softmax')(dropout_layer_3)\n",
        "\n",
        "  model = keras.Model(inputs=input_layer, outputs=output)\n",
        "\n",
        "  return model\n"
      ],
      "execution_count": 58,
      "outputs": []
    },
    {
      "cell_type": "code",
      "metadata": {
        "id": "TdyuGRQG2p02"
      },
      "source": [
        "# Building a model\n",
        "ffnn_model = build_model()"
      ],
      "execution_count": 59,
      "outputs": []
    },
    {
      "cell_type": "code",
      "metadata": {
        "id": "rXXRKu0U2tlM",
        "outputId": "6739a42e-a265-4392-d073-f8842a39fa1a",
        "colab": {
          "base_uri": "https://localhost:8080/",
          "height": 490
        }
      },
      "source": [
        "ffnn_model.summary()"
      ],
      "execution_count": 60,
      "outputs": [
        {
          "output_type": "stream",
          "text": [
            "Model: \"functional_5\"\n",
            "_________________________________________________________________\n",
            "Layer (type)                 Output Shape              Param #   \n",
            "=================================================================\n",
            "input_3 (InputLayer)         [(None, 28, 28, 1)]       0         \n",
            "_________________________________________________________________\n",
            "flatten_2 (Flatten)          (None, 784)               0         \n",
            "_________________________________________________________________\n",
            "dense_8 (Dense)              (None, 256)               200960    \n",
            "_________________________________________________________________\n",
            "dropout_3 (Dropout)          (None, 256)               0         \n",
            "_________________________________________________________________\n",
            "dense_9 (Dense)              (None, 256)               65792     \n",
            "_________________________________________________________________\n",
            "dropout_4 (Dropout)          (None, 256)               0         \n",
            "_________________________________________________________________\n",
            "dense_10 (Dense)             (None, 128)               32896     \n",
            "_________________________________________________________________\n",
            "dropout_5 (Dropout)          (None, 128)               0         \n",
            "_________________________________________________________________\n",
            "dense_11 (Dense)             (None, 10)                1290      \n",
            "=================================================================\n",
            "Total params: 300,938\n",
            "Trainable params: 300,938\n",
            "Non-trainable params: 0\n",
            "_________________________________________________________________\n"
          ],
          "name": "stdout"
        }
      ]
    },
    {
      "cell_type": "markdown",
      "metadata": {
        "id": "Vlk6nPpFIcfM"
      },
      "source": [
        "## 5. Compile the model\n",
        "\n",
        "The model is compiled with the following parameters\n",
        "1. Loss Function - Sparse Categorical Cross Entropy\n",
        "2. Optimizer - ADAM with learning rate 0.001\n",
        "3. Metrics - Accuracy"
      ]
    },
    {
      "cell_type": "code",
      "metadata": {
        "id": "OMMOzmNK3qUY"
      },
      "source": [
        "ffnn_model.compile(loss=keras.losses.SparseCategoricalCrossentropy(),\n",
        "                  optimizer=keras.optimizers.Adam(learning_rate=0.001),\n",
        "                  metrics=['accuracy'])"
      ],
      "execution_count": 61,
      "outputs": []
    },
    {
      "cell_type": "markdown",
      "metadata": {
        "id": "jLLIOWEhJXJU"
      },
      "source": [
        "## 6. Train Model\n",
        "\n",
        "The model will be trained by fitting the training and validation data. "
      ]
    },
    {
      "cell_type": "code",
      "metadata": {
        "id": "JB0GMTWIJRWG",
        "outputId": "b4ec5757-f89f-4689-dbb4-9ef597aaab35",
        "colab": {
          "base_uri": "https://localhost:8080/",
          "height": 781
        }
      },
      "source": [
        "epochs_run = 20\n",
        "batchsize = 256\n",
        "\n",
        "# start time\n",
        "start_time = time.perf_counter()\n",
        "\n",
        "# Fitting the data\n",
        "history = ffnn_model.fit(X_train, \n",
        "                         y_train, \n",
        "                         epochs=epochs_run, \n",
        "                         batch_size=batchsize,\n",
        "                         validation_data=(X_valid, y_valid), \n",
        "                         verbose=1)\n",
        "\n",
        "elapsed = time.perf_counter() - start_time\n",
        "\n",
        "print(\"--\"*60)\n",
        "print(\"Total time taken for training {:.2f} seconds\".format(elapsed))"
      ],
      "execution_count": 68,
      "outputs": [
        {
          "output_type": "stream",
          "text": [
            "Epoch 1/20\n",
            "188/188 [==============================] - 1s 4ms/step - loss: 0.5570 - accuracy: 0.8338 - val_loss: 0.5052 - val_accuracy: 0.8622\n",
            "Epoch 2/20\n",
            "188/188 [==============================] - 1s 4ms/step - loss: 0.5390 - accuracy: 0.8383 - val_loss: 0.4971 - val_accuracy: 0.8576\n",
            "Epoch 3/20\n",
            "188/188 [==============================] - 1s 4ms/step - loss: 0.5322 - accuracy: 0.8428 - val_loss: 0.4987 - val_accuracy: 0.8589\n",
            "Epoch 4/20\n",
            "188/188 [==============================] - 1s 4ms/step - loss: 0.5269 - accuracy: 0.8410 - val_loss: 0.4929 - val_accuracy: 0.8555\n",
            "Epoch 5/20\n",
            "188/188 [==============================] - 1s 4ms/step - loss: 0.5248 - accuracy: 0.8381 - val_loss: 0.4775 - val_accuracy: 0.8613\n",
            "Epoch 6/20\n",
            "188/188 [==============================] - 1s 4ms/step - loss: 0.5331 - accuracy: 0.8385 - val_loss: 0.4899 - val_accuracy: 0.8584\n",
            "Epoch 7/20\n",
            "188/188 [==============================] - 1s 3ms/step - loss: 0.5274 - accuracy: 0.8403 - val_loss: 0.4782 - val_accuracy: 0.8614\n",
            "Epoch 8/20\n",
            "188/188 [==============================] - 1s 4ms/step - loss: 0.5244 - accuracy: 0.8395 - val_loss: 0.4748 - val_accuracy: 0.8658\n",
            "Epoch 9/20\n",
            "188/188 [==============================] - 1s 4ms/step - loss: 0.5243 - accuracy: 0.8420 - val_loss: 0.4988 - val_accuracy: 0.8536\n",
            "Epoch 10/20\n",
            "188/188 [==============================] - 1s 3ms/step - loss: 0.5250 - accuracy: 0.8412 - val_loss: 0.4811 - val_accuracy: 0.8608\n",
            "Epoch 11/20\n",
            "188/188 [==============================] - 1s 4ms/step - loss: 0.5296 - accuracy: 0.8413 - val_loss: 0.4835 - val_accuracy: 0.8597\n",
            "Epoch 12/20\n",
            "188/188 [==============================] - 1s 4ms/step - loss: 0.5259 - accuracy: 0.8403 - val_loss: 0.4922 - val_accuracy: 0.8568\n",
            "Epoch 13/20\n",
            "188/188 [==============================] - 1s 4ms/step - loss: 0.5261 - accuracy: 0.8422 - val_loss: 0.5009 - val_accuracy: 0.8543\n",
            "Epoch 14/20\n",
            "188/188 [==============================] - 1s 4ms/step - loss: 0.5327 - accuracy: 0.8398 - val_loss: 0.4945 - val_accuracy: 0.8589\n",
            "Epoch 15/20\n",
            "188/188 [==============================] - 1s 4ms/step - loss: 0.5327 - accuracy: 0.8395 - val_loss: 0.4828 - val_accuracy: 0.8597\n",
            "Epoch 16/20\n",
            "188/188 [==============================] - 1s 4ms/step - loss: 0.5247 - accuracy: 0.8430 - val_loss: 0.4978 - val_accuracy: 0.8584\n",
            "Epoch 17/20\n",
            "188/188 [==============================] - 1s 4ms/step - loss: 0.5264 - accuracy: 0.8446 - val_loss: 0.4870 - val_accuracy: 0.8621\n",
            "Epoch 18/20\n",
            "188/188 [==============================] - 1s 4ms/step - loss: 0.5298 - accuracy: 0.8400 - val_loss: 0.4730 - val_accuracy: 0.8627\n",
            "Epoch 19/20\n",
            "188/188 [==============================] - 1s 4ms/step - loss: 0.5307 - accuracy: 0.8403 - val_loss: 0.4725 - val_accuracy: 0.8594\n",
            "Epoch 20/20\n",
            "188/188 [==============================] - 1s 4ms/step - loss: 0.5294 - accuracy: 0.8427 - val_loss: 0.4966 - val_accuracy: 0.8562\n",
            "------------------------------------------------------------------------------------------------------------------------\n",
            "Total time taken for training 14.04 seconds\n"
          ],
          "name": "stdout"
        }
      ]
    },
    {
      "cell_type": "code",
      "metadata": {
        "id": "pheCdT3MJvZX",
        "outputId": "7fc9c9fa-c92f-4ce2-c31e-a986f4328038",
        "colab": {
          "base_uri": "https://localhost:8080/",
          "height": 90
        }
      },
      "source": [
        "val_loss, val_acc = ffnn_model.evaluate(X_valid, y_valid)\n",
        "\n",
        "print(\"\\n\\nValidation Loss {:.3f} and Validation Accuracy {:.2f}%\".format(val_loss, val_acc))"
      ],
      "execution_count": 69,
      "outputs": [
        {
          "output_type": "stream",
          "text": [
            "375/375 [==============================] - 1s 2ms/step - loss: 0.4966 - accuracy: 0.8562\n",
            "\n",
            "\n",
            "Validation Loss 0.497 and Validation Accuracy 0.86%\n"
          ],
          "name": "stdout"
        }
      ]
    },
    {
      "cell_type": "markdown",
      "metadata": {
        "id": "xUbZ7p_baLLN"
      },
      "source": [
        "## 7. Model Evaluation\n",
        "\n",
        "### a. Score with Test data\n"
      ]
    },
    {
      "cell_type": "code",
      "metadata": {
        "id": "1l0zvGCrSwNM"
      },
      "source": [
        "y_preds = ffnn_model.predict(X_test)"
      ],
      "execution_count": 70,
      "outputs": []
    },
    {
      "cell_type": "code",
      "metadata": {
        "id": "_aXT1lbxcvbe"
      },
      "source": [
        "# Converting Logits to Class code using argmax()\n",
        "y_hat = tf.argmax(y_preds, 1)"
      ],
      "execution_count": 66,
      "outputs": []
    },
    {
      "cell_type": "code",
      "metadata": {
        "id": "yVpZ6yOgagyv",
        "outputId": "eae6a2d0-8a3b-4c99-9180-b07a354a7996",
        "colab": {
          "base_uri": "https://localhost:8080/",
          "height": 345
        }
      },
      "source": [
        "print(\"Confusion Matrix: \\n {}\".format(classification_report(y_test, y_hat)))"
      ],
      "execution_count": 71,
      "outputs": [
        {
          "output_type": "stream",
          "text": [
            "Confusion Matrix: \n",
            "               precision    recall  f1-score   support\n",
            "\n",
            "           0       0.75      0.84      0.79      1000\n",
            "           1       0.98      0.96      0.97      1000\n",
            "           2       0.68      0.78      0.73      1000\n",
            "           3       0.82      0.89      0.85      1000\n",
            "           4       0.71      0.80      0.75      1000\n",
            "           5       0.95      0.95      0.95      1000\n",
            "           6       0.75      0.36      0.48      1000\n",
            "           7       0.93      0.93      0.93      1000\n",
            "           8       0.91      0.97      0.94      1000\n",
            "           9       0.94      0.95      0.94      1000\n",
            "\n",
            "    accuracy                           0.84     10000\n",
            "   macro avg       0.84      0.84      0.83     10000\n",
            "weighted avg       0.84      0.84      0.83     10000\n",
            "\n"
          ],
          "name": "stdout"
        }
      ]
    },
    {
      "cell_type": "code",
      "metadata": {
        "id": "7yLkULD5cmX6"
      },
      "source": [
        ""
      ],
      "execution_count": null,
      "outputs": []
    }
  ]
}