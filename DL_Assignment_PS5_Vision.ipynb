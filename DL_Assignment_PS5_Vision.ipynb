{
  "nbformat": 4,
  "nbformat_minor": 0,
  "metadata": {
    "colab": {
      "name": "DL_Assignment_PS5_Vision.ipynb",
      "provenance": [],
      "collapsed_sections": [],
      "authorship_tag": "ABX9TyNa5CnJvqlLbeGhiDvsysOc",
      "include_colab_link": true
    },
    "kernelspec": {
      "name": "python3",
      "display_name": "Python 3"
    },
    "accelerator": "GPU"
  },
  "cells": [
    {
      "cell_type": "markdown",
      "metadata": {
        "id": "view-in-github",
        "colab_type": "text"
      },
      "source": [
        "<a href=\"https://colab.research.google.com/github/Data-Citadel/DeepLearning-Assignment1/blob/main/DL_Assignment_PS5_Vision.ipynb\" target=\"_parent\"><img src=\"https://colab.research.google.com/assets/colab-badge.svg\" alt=\"Open In Colab\"/></a>"
      ]
    },
    {
      "cell_type": "markdown",
      "metadata": {
        "id": "5bJ6JyQTzfCC"
      },
      "source": [
        "# Vision Dataset-MNIST Fashion Dataset"
      ]
    },
    {
      "cell_type": "markdown",
      "metadata": {
        "id": "mRkuoybiznpo"
      },
      "source": [
        "## 1. Import Libraries/Dataset"
      ]
    },
    {
      "cell_type": "code",
      "metadata": {
        "id": "zuFSDLhlxd3t"
      },
      "source": [
        "\n",
        "# Import tensorflow and keras library\n",
        "import tensorflow as tf\n",
        "\n",
        "from tensorflow import keras\n",
        "\n",
        "# Visualization packages\n",
        "import matplotlib.pyplot as plt\n",
        "import seaborn as sns\n"
      ],
      "execution_count": 2,
      "outputs": []
    },
    {
      "cell_type": "markdown",
      "metadata": {
        "id": "g_gHW2Cn1GjY"
      },
      "source": [
        "## 1.1 Load Dataset"
      ]
    },
    {
      "cell_type": "code",
      "metadata": {
        "id": "GrlwW-uxzxGd",
        "outputId": "881d3014-eafa-4a6a-b375-21d590a7b801",
        "colab": {
          "base_uri": "https://localhost:8080/"
        }
      },
      "source": [
        "# Load MNIST Fashion dataset from keras library\n",
        "fashion_data = keras.datasets.fashion_mnist\n",
        "\n",
        "# Destructuring the data into train and test\n",
        "(X_train_full, y_train_full), (X_test, y_test) = fashion_data.load_data()"
      ],
      "execution_count": 8,
      "outputs": [
        {
          "output_type": "stream",
          "text": [
            "Downloading data from https://storage.googleapis.com/tensorflow/tf-keras-datasets/train-labels-idx1-ubyte.gz\n",
            "32768/29515 [=================================] - 0s 0us/step\n",
            "Downloading data from https://storage.googleapis.com/tensorflow/tf-keras-datasets/train-images-idx3-ubyte.gz\n",
            "26427392/26421880 [==============================] - 0s 0us/step\n",
            "Downloading data from https://storage.googleapis.com/tensorflow/tf-keras-datasets/t10k-labels-idx1-ubyte.gz\n",
            "8192/5148 [===============================================] - 0s 0us/step\n",
            "Downloading data from https://storage.googleapis.com/tensorflow/tf-keras-datasets/t10k-images-idx3-ubyte.gz\n",
            "4423680/4422102 [==============================] - 0s 0us/step\n"
          ],
          "name": "stdout"
        }
      ]
    },
    {
      "cell_type": "markdown",
      "metadata": {
        "id": "wuT-5W224Afn"
      },
      "source": [
        "## 1.2 GPU Availability"
      ]
    },
    {
      "cell_type": "code",
      "metadata": {
        "id": "YOSiPZZb1wYJ",
        "outputId": "12f4c558-eda4-4bfb-8139-b3bb67dd94c6",
        "colab": {
          "base_uri": "https://localhost:8080/"
        }
      },
      "source": [
        "# Checking for GPU availability\n",
        "print(\"Is GPU enabled in this machine? \\n{}\".format(tf.config.list_physical_devices('GPU')))"
      ],
      "execution_count": 6,
      "outputs": [
        {
          "output_type": "stream",
          "text": [
            "Is GPU enabled in this machine? \n",
            "[PhysicalDevice(name='/physical_device:GPU:0', device_type='GPU')]\n"
          ],
          "name": "stdout"
        }
      ]
    },
    {
      "cell_type": "markdown",
      "metadata": {
        "id": "jHhIhpyS5XOT"
      },
      "source": [
        "## 2. Data Visualization\n",
        "\n",
        "### 2.1 Shape of Train and Test data"
      ]
    },
    {
      "cell_type": "code",
      "metadata": {
        "id": "WrKY88TZ3ijW",
        "outputId": "7d02b998-c04a-4e18-d22a-cbf3c5cacf5b",
        "colab": {
          "base_uri": "https://localhost:8080/"
        }
      },
      "source": [
        "print(\"Shape of Training Data : {}\".format(X_train_full.shape))\n",
        "print(\"Shape of Test Data : {}\".format(X_test.shape))"
      ],
      "execution_count": 11,
      "outputs": [
        {
          "output_type": "stream",
          "text": [
            "Shape of Training Data : (60000, 28, 28)\n",
            "Shape of Test Data : (10000, 28, 28)\n"
          ],
          "name": "stdout"
        }
      ]
    },
    {
      "cell_type": "markdown",
      "metadata": {
        "id": "s2iTJ14i6QCd"
      },
      "source": [
        "### 2.2 Plot image data"
      ]
    },
    {
      "cell_type": "code",
      "metadata": {
        "id": "bYnVueLJ5nAI"
      },
      "source": [
        ""
      ],
      "execution_count": null,
      "outputs": []
    }
  ]
}