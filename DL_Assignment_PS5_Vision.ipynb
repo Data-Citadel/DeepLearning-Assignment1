{
  "nbformat": 4,
  "nbformat_minor": 0,
  "metadata": {
    "colab": {
      "name": "DL_Assignment_PS5_Vision.ipynb",
      "provenance": [],
      "collapsed_sections": [],
      "authorship_tag": "ABX9TyMbHyclIUieYfOhHLx/7obk",
      "include_colab_link": true
    },
    "kernelspec": {
      "name": "python3",
      "display_name": "Python 3"
    },
    "accelerator": "GPU"
  },
  "cells": [
    {
      "cell_type": "markdown",
      "metadata": {
        "id": "view-in-github",
        "colab_type": "text"
      },
      "source": [
        "<a href=\"https://colab.research.google.com/github/Data-Citadel/DeepLearning-Assignment1/blob/main/DL_Assignment_PS5_Vision.ipynb\" target=\"_parent\"><img src=\"https://colab.research.google.com/assets/colab-badge.svg\" alt=\"Open In Colab\"/></a>"
      ]
    },
    {
      "cell_type": "markdown",
      "metadata": {
        "id": "5bJ6JyQTzfCC"
      },
      "source": [
        "# Vision Dataset-MNIST Fashion Dataset\n",
        "\n"
      ]
    },
    {
      "cell_type": "markdown",
      "metadata": {
        "id": "mRkuoybiznpo"
      },
      "source": [
        "## 1. Import Libraries/Dataset"
      ]
    },
    {
      "cell_type": "code",
      "metadata": {
        "id": "zuFSDLhlxd3t"
      },
      "source": [
        "\n",
        "# Import tensorflow and keras library\n",
        "import tensorflow as tf\n",
        "\n",
        "from tensorflow import keras\n",
        "\n",
        "# Visualization packages\n",
        "import matplotlib.pyplot as plt\n",
        "import seaborn as sns\n",
        "import numpy as np\n",
        "\n",
        "from sklearn.model_selection import train_test_split\n",
        "from sklearn.metrics import confusion_matrix, classification_report\n",
        "# Time library\n",
        "import time"
      ],
      "execution_count": 3,
      "outputs": []
    },
    {
      "cell_type": "markdown",
      "metadata": {
        "id": "g_gHW2Cn1GjY"
      },
      "source": [
        "## 1.1 Load Dataset"
      ]
    },
    {
      "cell_type": "code",
      "metadata": {
        "id": "GrlwW-uxzxGd",
        "outputId": "3ea8d60a-2708-426b-ac96-a2bce91f8761",
        "colab": {
          "base_uri": "https://localhost:8080/",
          "height": 163
        }
      },
      "source": [
        "# Load MNIST Fashion dataset from keras library\n",
        "fashion_data = keras.datasets.fashion_mnist\n",
        "\n",
        "# Destructuring the data into train and test\n",
        "(X_train_full, y_train_full), (X_test, y_test) = fashion_data.load_data()"
      ],
      "execution_count": 4,
      "outputs": [
        {
          "output_type": "stream",
          "text": [
            "Downloading data from https://storage.googleapis.com/tensorflow/tf-keras-datasets/train-labels-idx1-ubyte.gz\n",
            "32768/29515 [=================================] - 0s 0us/step\n",
            "Downloading data from https://storage.googleapis.com/tensorflow/tf-keras-datasets/train-images-idx3-ubyte.gz\n",
            "26427392/26421880 [==============================] - 0s 0us/step\n",
            "Downloading data from https://storage.googleapis.com/tensorflow/tf-keras-datasets/t10k-labels-idx1-ubyte.gz\n",
            "8192/5148 [===============================================] - 0s 0us/step\n",
            "Downloading data from https://storage.googleapis.com/tensorflow/tf-keras-datasets/t10k-images-idx3-ubyte.gz\n",
            "4423680/4422102 [==============================] - 0s 0us/step\n"
          ],
          "name": "stdout"
        }
      ]
    },
    {
      "cell_type": "markdown",
      "metadata": {
        "id": "wuT-5W224Afn"
      },
      "source": [
        "## 1.2 GPU Availability"
      ]
    },
    {
      "cell_type": "code",
      "metadata": {
        "id": "YOSiPZZb1wYJ",
        "outputId": "2d83072e-ada2-4030-e888-a4bd13035946",
        "colab": {
          "base_uri": "https://localhost:8080/",
          "height": 54
        }
      },
      "source": [
        "# Checking for GPU availability\n",
        "print(\"Is GPU enabled in this machine? \\n{}\".format(tf.config.list_physical_devices('GPU')))"
      ],
      "execution_count": 5,
      "outputs": [
        {
          "output_type": "stream",
          "text": [
            "Is GPU enabled in this machine? \n",
            "[PhysicalDevice(name='/physical_device:GPU:0', device_type='GPU')]\n"
          ],
          "name": "stdout"
        }
      ]
    },
    {
      "cell_type": "markdown",
      "metadata": {
        "id": "jHhIhpyS5XOT"
      },
      "source": [
        "## 2. Data Visualization\n",
        "\n",
        "### 2.1 Shape of Train and Test data"
      ]
    },
    {
      "cell_type": "code",
      "metadata": {
        "id": "W4SNX-mdu84W"
      },
      "source": [
        "class_names = [\"T-shirt/top\", \"Trouser\", \"Pullover\", \"Dress\", \"Coat\", \"Sandal\", \"Shirt\", \"Sneaker\", \"Bag\", \"Ankle boot\"]"
      ],
      "execution_count": 6,
      "outputs": []
    },
    {
      "cell_type": "code",
      "metadata": {
        "id": "WrKY88TZ3ijW",
        "outputId": "86e8a6df-f62e-4735-acf0-86fe8ffb4b28",
        "colab": {
          "base_uri": "https://localhost:8080/",
          "height": 54
        }
      },
      "source": [
        "print(\"Shape of Training Data : {}\".format(X_train_full.shape))\n",
        "print(\"Shape of Test Data : {}\".format(X_test.shape))"
      ],
      "execution_count": 7,
      "outputs": [
        {
          "output_type": "stream",
          "text": [
            "Shape of Training Data : (60000, 28, 28)\n",
            "Shape of Test Data : (10000, 28, 28)\n"
          ],
          "name": "stdout"
        }
      ]
    },
    {
      "cell_type": "code",
      "metadata": {
        "id": "cKoPP1jCJ5ba",
        "outputId": "fd2ae082-a7ee-487b-dbb3-7af406118163",
        "colab": {
          "base_uri": "https://localhost:8080/",
          "height": 35
        }
      },
      "source": [
        "# Number of classes\n",
        "np.unique(y_train_full)"
      ],
      "execution_count": 8,
      "outputs": [
        {
          "output_type": "execute_result",
          "data": {
            "text/plain": [
              "array([0, 1, 2, 3, 4, 5, 6, 7, 8, 9], dtype=uint8)"
            ]
          },
          "metadata": {
            "tags": []
          },
          "execution_count": 8
        }
      ]
    },
    {
      "cell_type": "markdown",
      "metadata": {
        "id": "s2iTJ14i6QCd"
      },
      "source": [
        "### 2.2 Plot image data"
      ]
    },
    {
      "cell_type": "code",
      "metadata": {
        "id": "bYnVueLJ5nAI",
        "outputId": "0f2df84a-d4ad-4f73-d8df-321281829d09",
        "colab": {
          "base_uri": "https://localhost:8080/",
          "height": 479
        }
      },
      "source": [
        "# The following code plots few images from the training set\n",
        "plt.figure(figsize=(10,8))\n",
        "\n",
        "for i in range(12):\n",
        "  plt.subplot(3,4, i+1)\n",
        "  plt.imshow(X_train_full[i]) # imshow() method plots the image pixels on the canvas\n",
        "  index = y_train_full[i]\n",
        "  plt.title(class_names[index])\n",
        "  plt.xticks([])\n",
        "  plt.yticks([])\n",
        "\n",
        "plt.show()"
      ],
      "execution_count": 9,
      "outputs": [
        {
          "output_type": "display_data",
          "data": {
            "image/png": "[encoded data removed]",
            "text/plain": [
              "<Figure size 720x576 with 12 Axes>"
            ]
          },
          "metadata": {
            "tags": []
          }
        }
      ]
    },
    {
      "cell_type": "markdown",
      "metadata": {
        "id": "qQ5CH4cDyriH"
      },
      "source": [
        "## 3. Data Pre-Processing\n",
        "\n",
        "### 3.1 Process the image data\n",
        "\n"
      ]
    },
    {
      "cell_type": "code",
      "metadata": {
        "id": "yo523AToP5Bv"
      },
      "source": [
        "# Convert target labels to one-hot encoding matrix\n",
        "y_train_full = keras.utils.to_categorical(y_train_full)\n",
        "y_test = keras.utils.to_categorical(y_test)"
      ],
      "execution_count": 10,
      "outputs": []
    },
    {
      "cell_type": "markdown",
      "metadata": {
        "id": "iFTgbCiaP5gc"
      },
      "source": [
        "\n",
        "### 3.2 Split the data into Train, Holdout and Dev(test)"
      ]
    },
    {
      "cell_type": "code",
      "metadata": {
        "id": "HPgMY0hvvZd2"
      },
      "source": [
        "# The training data needs to be splited into train and validation/holdout set\n",
        "# split is performed as 80:20 ratio\n",
        "X_train, X_valid, y_train, y_valid = train_test_split(X_train_full, y_train_full, test_size=0.2, random_state=42)"
      ],
      "execution_count": 11,
      "outputs": []
    },
    {
      "cell_type": "code",
      "metadata": {
        "id": "YuicbsPky9Na",
        "outputId": "f01024ca-8ef3-4d3a-ab15-5d63479fa140",
        "colab": {
          "base_uri": "https://localhost:8080/",
          "height": 54
        }
      },
      "source": [
        "print(\"Shape of Training set {}\".format(X_train.shape))\n",
        "print(\"Shape of Holdout set {}\".format(X_valid.shape))"
      ],
      "execution_count": 12,
      "outputs": [
        {
          "output_type": "stream",
          "text": [
            "Shape of Training set (48000, 28, 28)\n",
            "Shape of Holdout set (12000, 28, 28)\n"
          ],
          "name": "stdout"
        }
      ]
    },
    {
      "cell_type": "markdown",
      "metadata": {
        "id": "HzCjPW9f0ZUz"
      },
      "source": [
        "## 4. Model Building\n",
        "\n",
        "A function to construct a network with 3-Dense layers with appropriate input layer will be defined. "
      ]
    },
    {
      "cell_type": "code",
      "metadata": {
        "id": "qyyvv_i4zuJM"
      },
      "source": [
        "def build_model():\n",
        "  \"\"\"\n",
        "  Method to build a neural network model with min 3-hidden layers.\n",
        "  \"\"\"\n",
        "  # L2 regularizer rate\n",
        "  l2_rate = 0.001 # 0.001 \n",
        "  dropout_rate = 0.2 # Dropout rate\n",
        "\n",
        "  model = keras.models.Sequential() # A model is built with Sequential-API\n",
        "\n",
        "  model.add(keras.layers.Input(shape=(28, 28, 1)))\n",
        "  model.add(keras.layers.Flatten()) # Flatten is used to convert the 28 x 28 pixels into 784 pixels\n",
        "  model.add(keras.layers.Dense(256, activation='relu',\n",
        "                               kernel_regularizer=keras.regularizers.L2(l2_rate)))\n",
        "  model.add(keras.layers.Dropout(dropout_rate))\n",
        "  model.add(keras.layers.Dense(128, activation='relu',\n",
        "                            kernel_regularizer=keras.regularizers.L2(l2_rate)))\n",
        "  model.add(keras.layers.Dropout(dropout_rate))\n",
        "  model.add(keras.layers.Dense(64, activation='relu',\n",
        "                            kernel_regularizer=keras.regularizers.L2(l2_rate)))\n",
        "  model.add(keras.layers.Dropout(dropout_rate))\n",
        "  model.add(keras.layers.Dense(10, activation='softmax'))\n",
        "\n",
        "  return model\n"
      ],
      "execution_count": 73,
      "outputs": []
    },
    {
      "cell_type": "code",
      "metadata": {
        "id": "TdyuGRQG2p02"
      },
      "source": [
        "# Building a model\n",
        "ffnn_model = build_model()"
      ],
      "execution_count": 74,
      "outputs": []
    },
    {
      "cell_type": "code",
      "metadata": {
        "id": "rXXRKu0U2tlM",
        "outputId": "a54db32d-e673-48e4-c033-058df9d9132e",
        "colab": {
          "base_uri": "https://localhost:8080/",
          "height": 454
        }
      },
      "source": [
        "ffnn_model.summary()"
      ],
      "execution_count": 75,
      "outputs": [
        {
          "output_type": "stream",
          "text": [
            "Model: \"sequential_11\"\n",
            "_________________________________________________________________\n",
            "Layer (type)                 Output Shape              Param #   \n",
            "=================================================================\n",
            "flatten_11 (Flatten)         (None, 784)               0         \n",
            "_________________________________________________________________\n",
            "dense_53 (Dense)             (None, 256)               200960    \n",
            "_________________________________________________________________\n",
            "dropout_26 (Dropout)         (None, 256)               0         \n",
            "_________________________________________________________________\n",
            "dense_54 (Dense)             (None, 128)               32896     \n",
            "_________________________________________________________________\n",
            "dropout_27 (Dropout)         (None, 128)               0         \n",
            "_________________________________________________________________\n",
            "dense_55 (Dense)             (None, 64)                8256      \n",
            "_________________________________________________________________\n",
            "dropout_28 (Dropout)         (None, 64)                0         \n",
            "_________________________________________________________________\n",
            "dense_56 (Dense)             (None, 10)                650       \n",
            "=================================================================\n",
            "Total params: 242,762\n",
            "Trainable params: 242,762\n",
            "Non-trainable params: 0\n",
            "_________________________________________________________________\n"
          ],
          "name": "stdout"
        }
      ]
    },
    {
      "cell_type": "markdown",
      "metadata": {
        "id": "Vlk6nPpFIcfM"
      },
      "source": [
        "## 5. Compile the model\n",
        "\n",
        "The model is compiled with the following parameters\n",
        "1. Loss Function - Categorical Cross Entropy\n",
        "2. Optimizer - ADAM with learning rate 0.0001\n",
        "3. Metrics - Accuracy"
      ]
    },
    {
      "cell_type": "code",
      "metadata": {
        "id": "OMMOzmNK3qUY"
      },
      "source": [
        "ffnn_model.compile(loss=keras.losses.CategoricalCrossentropy(),\n",
        "                  optimizer=keras.optimizers.Adam(learning_rate=0.0001),\n",
        "                  metrics=['accuracy'])"
      ],
      "execution_count": 76,
      "outputs": []
    },
    {
      "cell_type": "markdown",
      "metadata": {
        "id": "jLLIOWEhJXJU"
      },
      "source": [
        "## 6. Train Model\n",
        "\n",
        "The model will be trained by fitting the training and validation data. "
      ]
    },
    {
      "cell_type": "code",
      "metadata": {
        "id": "JB0GMTWIJRWG",
        "outputId": "43e3363c-dc37-4b80-cd70-68c8366e2b14",
        "colab": {
          "base_uri": "https://localhost:8080/",
          "height": 1000
        }
      },
      "source": [
        "epochs_run = 30\n",
        "batchsize = 128\n",
        "\n",
        "# start time\n",
        "start_time = time.perf_counter()\n",
        "\n",
        "# Fitting the data\n",
        "history = ffnn_model.fit(X_train, \n",
        "                         y_train, \n",
        "                         epochs=epochs_run, \n",
        "                         batch_size=batchsize,\n",
        "                         validation_data=(X_valid, y_valid), \n",
        "                         verbose=1)\n",
        "# Total time taken for training the given dataset\n",
        "elapsed = time.perf_counter() - start_time\n"
      ],
      "execution_count": 77,
      "outputs": [
        {
          "output_type": "stream",
          "text": [
            "Epoch 1/30\n",
            "375/375 [==============================] - 2s 5ms/step - loss: 18.6852 - accuracy: 0.4241 - val_loss: 2.5054 - val_accuracy: 0.7095\n",
            "Epoch 2/30\n",
            "375/375 [==============================] - 2s 4ms/step - loss: 4.4429 - accuracy: 0.5530 - val_loss: 1.8235 - val_accuracy: 0.7255\n",
            "Epoch 3/30\n",
            "375/375 [==============================] - 2s 4ms/step - loss: 2.9106 - accuracy: 0.5825 - val_loss: 1.6467 - val_accuracy: 0.7139\n",
            "Epoch 4/30\n",
            "375/375 [==============================] - 2s 5ms/step - loss: 2.2534 - accuracy: 0.6117 - val_loss: 1.4966 - val_accuracy: 0.7396\n",
            "Epoch 5/30\n",
            "375/375 [==============================] - 2s 5ms/step - loss: 1.9592 - accuracy: 0.6479 - val_loss: 1.4235 - val_accuracy: 0.7616\n",
            "Epoch 6/30\n",
            "375/375 [==============================] - 2s 4ms/step - loss: 1.7809 - accuracy: 0.6748 - val_loss: 1.3667 - val_accuracy: 0.7717\n",
            "Epoch 7/30\n",
            "375/375 [==============================] - 2s 4ms/step - loss: 1.6707 - accuracy: 0.6881 - val_loss: 1.3067 - val_accuracy: 0.7757\n",
            "Epoch 8/30\n",
            "375/375 [==============================] - 2s 4ms/step - loss: 1.5643 - accuracy: 0.7075 - val_loss: 1.2475 - val_accuracy: 0.7908\n",
            "Epoch 9/30\n",
            "375/375 [==============================] - 2s 5ms/step - loss: 1.4896 - accuracy: 0.7232 - val_loss: 1.2032 - val_accuracy: 0.8026\n",
            "Epoch 10/30\n",
            "375/375 [==============================] - 2s 4ms/step - loss: 1.4260 - accuracy: 0.7367 - val_loss: 1.1677 - val_accuracy: 0.8087\n",
            "Epoch 11/30\n",
            "375/375 [==============================] - 2s 4ms/step - loss: 1.3647 - accuracy: 0.7480 - val_loss: 1.1384 - val_accuracy: 0.8086\n",
            "Epoch 12/30\n",
            "375/375 [==============================] - 2s 4ms/step - loss: 1.3179 - accuracy: 0.7610 - val_loss: 1.1174 - val_accuracy: 0.8232\n",
            "Epoch 13/30\n",
            "375/375 [==============================] - 2s 4ms/step - loss: 1.2629 - accuracy: 0.7727 - val_loss: 1.0814 - val_accuracy: 0.8223\n",
            "Epoch 14/30\n",
            "375/375 [==============================] - 2s 4ms/step - loss: 1.2219 - accuracy: 0.7814 - val_loss: 1.0632 - val_accuracy: 0.8217\n",
            "Epoch 15/30\n",
            "375/375 [==============================] - 2s 4ms/step - loss: 1.1780 - accuracy: 0.7887 - val_loss: 1.0405 - val_accuracy: 0.8277\n",
            "Epoch 16/30\n",
            "375/375 [==============================] - 2s 5ms/step - loss: 1.1470 - accuracy: 0.7946 - val_loss: 1.0121 - val_accuracy: 0.8331\n",
            "Epoch 17/30\n",
            "375/375 [==============================] - 2s 5ms/step - loss: 1.1169 - accuracy: 0.8011 - val_loss: 0.9989 - val_accuracy: 0.8364\n",
            "Epoch 18/30\n",
            "375/375 [==============================] - 2s 5ms/step - loss: 1.0862 - accuracy: 0.8073 - val_loss: 0.9780 - val_accuracy: 0.8392\n",
            "Epoch 19/30\n",
            "375/375 [==============================] - 2s 4ms/step - loss: 1.0581 - accuracy: 0.8117 - val_loss: 0.9556 - val_accuracy: 0.8443\n",
            "Epoch 20/30\n",
            "375/375 [==============================] - 2s 5ms/step - loss: 1.0215 - accuracy: 0.8185 - val_loss: 0.9399 - val_accuracy: 0.8425\n",
            "Epoch 21/30\n",
            "375/375 [==============================] - 2s 5ms/step - loss: 1.0014 - accuracy: 0.8199 - val_loss: 0.9162 - val_accuracy: 0.8475\n",
            "Epoch 22/30\n",
            "375/375 [==============================] - 2s 4ms/step - loss: 0.9801 - accuracy: 0.8231 - val_loss: 0.9026 - val_accuracy: 0.8415\n",
            "Epoch 23/30\n",
            "375/375 [==============================] - 2s 5ms/step - loss: 0.9476 - accuracy: 0.8285 - val_loss: 0.8780 - val_accuracy: 0.8475\n",
            "Epoch 24/30\n",
            "375/375 [==============================] - 2s 4ms/step - loss: 0.9234 - accuracy: 0.8322 - val_loss: 0.8578 - val_accuracy: 0.8518\n",
            "Epoch 25/30\n",
            "375/375 [==============================] - 2s 5ms/step - loss: 0.9001 - accuracy: 0.8336 - val_loss: 0.8378 - val_accuracy: 0.8543\n",
            "Epoch 26/30\n",
            "375/375 [==============================] - 2s 4ms/step - loss: 0.8674 - accuracy: 0.8384 - val_loss: 0.8176 - val_accuracy: 0.8533\n",
            "Epoch 27/30\n",
            "375/375 [==============================] - 2s 5ms/step - loss: 0.8497 - accuracy: 0.8403 - val_loss: 0.7918 - val_accuracy: 0.8559\n",
            "Epoch 28/30\n",
            "375/375 [==============================] - 2s 5ms/step - loss: 0.8235 - accuracy: 0.8419 - val_loss: 0.7782 - val_accuracy: 0.8580\n",
            "Epoch 29/30\n",
            "375/375 [==============================] - 2s 4ms/step - loss: 0.7990 - accuracy: 0.8424 - val_loss: 0.7614 - val_accuracy: 0.8603\n",
            "Epoch 30/30\n",
            "375/375 [==============================] - 2s 5ms/step - loss: 0.7798 - accuracy: 0.8464 - val_loss: 0.7305 - val_accuracy: 0.8604\n"
          ],
          "name": "stdout"
        }
      ]
    },
    {
      "cell_type": "markdown",
      "metadata": {
        "id": "lQhQYpF844iS"
      },
      "source": [
        "### Evaluating model with test data"
      ]
    },
    {
      "cell_type": "code",
      "metadata": {
        "id": "pheCdT3MJvZX",
        "outputId": "54738997-6ad3-4c70-b77c-b07ac1284032",
        "colab": {
          "base_uri": "https://localhost:8080/",
          "height": 90
        }
      },
      "source": [
        "val_loss, val_acc = ffnn_model.evaluate(X_test, y_test)\n",
        "\n",
        "print(\"\\n\\nValidation Loss {:.3f} and Validation Accuracy {:.2f}%\".format(val_loss, val_acc))"
      ],
      "execution_count": 78,
      "outputs": [
        {
          "output_type": "stream",
          "text": [
            "313/313 [==============================] - 1s 3ms/step - loss: 0.7558 - accuracy: 0.8523\n",
            "\n",
            "\n",
            "Validation Loss 0.756 and Validation Accuracy 0.85%\n"
          ],
          "name": "stdout"
        }
      ]
    },
    {
      "cell_type": "markdown",
      "metadata": {
        "id": "2iRKdteDE4AI"
      },
      "source": [
        "### 6.2 Plot loss and accuracy history graphs."
      ]
    },
    {
      "cell_type": "code",
      "metadata": {
        "id": "kw-AfoT7FAdN",
        "outputId": "cd4b6b8d-85f9-4f7a-812f-371d14e02232",
        "colab": {
          "base_uri": "https://localhost:8080/",
          "height": 1000
        }
      },
      "source": [
        "def evaluation_plot(history):\n",
        "  \"\"\"\n",
        "  Method plots the model training result\n",
        "  :param history: history of the model epochs run\n",
        "  \"\"\"\n",
        "  acc = history.history['accuracy']\n",
        "  val_acc = history.history['val_accuracy']\n",
        "  # Loss details\n",
        "  loss = history.history['loss']\n",
        "  val_loss = history.history['val_loss']\n",
        "\n",
        "  epochs = range(1, len(acc) + 1)\n",
        "\n",
        "  plt.figure(figsize=(10,8))\n",
        "  plt.plot(epochs, acc, label=\"Training Accuracy\")\n",
        "  plt.plot(epochs, val_acc, label=\"Validation Accuracy\")\n",
        "  plt.title(\"Training Accuracy Plot\")\n",
        "  plt.xlabel(\"Epochs\")\n",
        "  plt.ylabel(\"Accuracy\")\n",
        "  plt.legend()\n",
        "  plt.show()\n",
        "\n",
        "  # Loss and Validation loss plot\n",
        "  plt.figure(figsize=(10,8))\n",
        "  plt.plot(epochs, loss, label=\"Training Loss\")\n",
        "  plt.plot(epochs, val_loss, label=\"Validation Loss\")\n",
        "  plt.title(\"Training Loss Plot\")\n",
        "  plt.xlabel(\"Epochs\")\n",
        "  plt.ylabel(\"Loss\")\n",
        "  plt.legend()\n",
        "  plt.show()\n",
        "\n",
        "# Plot the epochs run\n",
        "evaluation_plot(history)"
      ],
      "execution_count": 79,
      "outputs": [
        {
          "output_type": "display_data",
          "data": {
            "image/png": "[encoded data removed]",
            "text/plain": [
              "<Figure size 720x576 with 1 Axes>"
            ]
          },
          "metadata": {
            "tags": [],
            "needs_background": "light"
          }
        },
        {
          "output_type": "display_data",
          "data": {
            "image/png": "[encoded data removed]",
            "text/plain": [
              "<Figure size 720x576 with 1 Axes>"
            ]
          },
          "metadata": {
            "tags": [],
            "needs_background": "light"
          }
        }
      ]
    },
    {
      "cell_type": "markdown",
      "metadata": {
        "id": "3pYTwDQ8Gj6J"
      },
      "source": [
        "### Total time taken for training"
      ]
    },
    {
      "cell_type": "code",
      "metadata": {
        "id": "OHTXpZOSGoMm",
        "outputId": "ca1d4720-414f-4b8f-9aa8-6a6a706e8df3",
        "colab": {
          "base_uri": "https://localhost:8080/",
          "height": 72
        }
      },
      "source": [
        "print(\"==\"*40)\n",
        "print(\"Total time taken for training {:.2f} seconds\".format(elapsed))\n",
        "print(\"==\"*40)"
      ],
      "execution_count": 80,
      "outputs": [
        {
          "output_type": "stream",
          "text": [
            "================================================================================\n",
            "Total time taken for training 51.60 seconds\n",
            "================================================================================\n"
          ],
          "name": "stdout"
        }
      ]
    },
    {
      "cell_type": "markdown",
      "metadata": {
        "id": "xUbZ7p_baLLN"
      },
      "source": [
        "## 7. Model Evaluation\n",
        "\n",
        "### a. Score with Test data\n"
      ]
    },
    {
      "cell_type": "code",
      "metadata": {
        "id": "w2tuOhiWJWTv"
      },
      "source": [
        "def model_score(nn_model, x_test, y_test):\n",
        "  \"\"\"\n",
        "  Model scoring is a process of predicting the y-value on test data and compute the metrics on the accuracy.\n",
        "  :param nn_model: Model object\n",
        "  : x_test: Test dataset\n",
        "  : y_test: Y-values of test data\n",
        "  \"\"\"\n",
        "  y_preds = nn_model.predict(x_test) # Get the predictions on X_Test data\n",
        "\n",
        "  # Converting Logits to Class code using argmax()\n",
        "  y_hat = tf.argmax(y_preds, 1)\n",
        "  rounded_test_labels = tf.argmax(y_test, 1) # make the one-hot encoded y-values to categorical number\n",
        "  # Print the confusion matrix of the predicted values\n",
        "  print(\"Confusion Matrix: \\n {}\".format(classification_report(rounded_test_labels, y_hat.numpy())))\n"
      ],
      "execution_count": 81,
      "outputs": []
    },
    {
      "cell_type": "code",
      "metadata": {
        "id": "1l0zvGCrSwNM",
        "outputId": "75c2e7d4-60c6-4417-c2c0-7b177941ee2a",
        "colab": {
          "base_uri": "https://localhost:8080/",
          "height": 345
        }
      },
      "source": [
        "# Invoking model_score() with model and test data\n",
        "model_score(ffnn_model, X_test, y_test)"
      ],
      "execution_count": 82,
      "outputs": [
        {
          "output_type": "stream",
          "text": [
            "Confusion Matrix: \n",
            "               precision    recall  f1-score   support\n",
            "\n",
            "           0       0.78      0.82      0.80      1000\n",
            "           1       0.99      0.96      0.97      1000\n",
            "           2       0.76      0.71      0.73      1000\n",
            "           3       0.86      0.86      0.86      1000\n",
            "           4       0.69      0.81      0.74      1000\n",
            "           5       0.96      0.96      0.96      1000\n",
            "           6       0.65      0.55      0.59      1000\n",
            "           7       0.93      0.93      0.93      1000\n",
            "           8       0.96      0.97      0.96      1000\n",
            "           9       0.95      0.95      0.95      1000\n",
            "\n",
            "    accuracy                           0.85     10000\n",
            "   macro avg       0.85      0.85      0.85     10000\n",
            "weighted avg       0.85      0.85      0.85     10000\n",
            "\n"
          ],
          "name": "stdout"
        }
      ]
    },
    {
      "cell_type": "markdown",
      "metadata": {
        "id": "Yc7ulHxQLkEC"
      },
      "source": [
        "# Hyperparameter Tuning\n",
        "\n",
        "## 1. Model without regularization"
      ]
    },
    {
      "cell_type": "code",
      "metadata": {
        "id": "7yLkULD5cmX6"
      },
      "source": [
        "def model_without_regularization():\n",
        "  \"\"\"\n",
        "  Model without regularization \n",
        "  :return : Model with 3 hidden layers\n",
        "\n",
        "  \"\"\"\n",
        "  model = keras.models.Sequential()\n",
        "\n",
        "  model.add(keras.layers.Input(shape=(28, 28, 1)))\n",
        "  model.add(keras.layers.Flatten())\n",
        "  model.add(keras.layers.Dense(256, activation='relu'))\n",
        "  model.add(keras.layers.Dense(128, activation='relu'))\n",
        "  model.add(keras.layers.Dense(128, activation='relu'))\n",
        "  model.add(keras.layers.Dense(64, activation='relu'))\n",
        "  model.add(keras.layers.Dense(10, activation='softmax'))\n",
        "\n",
        "  return model\n",
        "  "
      ],
      "execution_count": 83,
      "outputs": []
    },
    {
      "cell_type": "code",
      "metadata": {
        "id": "Xlxs-ykoMN7K",
        "outputId": "167da92d-eb27-4cd0-8c3a-c717daa8dbd1",
        "colab": {
          "base_uri": "https://localhost:8080/",
          "height": 399
        }
      },
      "source": [
        "# model object\n",
        "dn_model = model_without_regularization()\n",
        "lr = 0.0023 # Learning rate\n",
        "\n",
        "# Print model summary\n",
        "print(dn_model.summary())\n",
        "\n",
        "# Compile the model\n",
        "dn_model.compile(loss=\"categorical_crossentropy\",\n",
        "                  optimizer=keras.optimizers.Adam(learning_rate=lr),\n",
        "                  metrics=['accuracy'])"
      ],
      "execution_count": 84,
      "outputs": [
        {
          "output_type": "stream",
          "text": [
            "Model: \"sequential_12\"\n",
            "_________________________________________________________________\n",
            "Layer (type)                 Output Shape              Param #   \n",
            "=================================================================\n",
            "flatten_12 (Flatten)         (None, 784)               0         \n",
            "_________________________________________________________________\n",
            "dense_57 (Dense)             (None, 256)               200960    \n",
            "_________________________________________________________________\n",
            "dense_58 (Dense)             (None, 128)               32896     \n",
            "_________________________________________________________________\n",
            "dense_59 (Dense)             (None, 128)               16512     \n",
            "_________________________________________________________________\n",
            "dense_60 (Dense)             (None, 64)                8256      \n",
            "_________________________________________________________________\n",
            "dense_61 (Dense)             (None, 10)                650       \n",
            "=================================================================\n",
            "Total params: 259,274\n",
            "Trainable params: 259,274\n",
            "Non-trainable params: 0\n",
            "_________________________________________________________________\n",
            "None\n"
          ],
          "name": "stdout"
        }
      ]
    },
    {
      "cell_type": "code",
      "metadata": {
        "id": "sarpDDsnMxOP",
        "outputId": "3fb4f69b-fa53-43ae-c8ef-01be3ebf3840",
        "colab": {
          "base_uri": "https://localhost:8080/",
          "height": 745
        }
      },
      "source": [
        "# Fitting the data\n",
        "m_history = dn_model.fit(X_train, \n",
        "                         y_train, \n",
        "                         epochs=20, \n",
        "                         batch_size=128,\n",
        "                         validation_data=(X_valid, y_valid), \n",
        "                         verbose=1)"
      ],
      "execution_count": 85,
      "outputs": [
        {
          "output_type": "stream",
          "text": [
            "Epoch 1/20\n",
            "375/375 [==============================] - 2s 5ms/step - loss: 2.4984 - accuracy: 0.7440 - val_loss: 0.5227 - val_accuracy: 0.8248\n",
            "Epoch 2/20\n",
            "375/375 [==============================] - 2s 4ms/step - loss: 0.5033 - accuracy: 0.8253 - val_loss: 0.5638 - val_accuracy: 0.8020\n",
            "Epoch 3/20\n",
            "375/375 [==============================] - 2s 4ms/step - loss: 0.4404 - accuracy: 0.8442 - val_loss: 0.4686 - val_accuracy: 0.8353\n",
            "Epoch 4/20\n",
            "375/375 [==============================] - 2s 4ms/step - loss: 0.4101 - accuracy: 0.8541 - val_loss: 0.4327 - val_accuracy: 0.8456\n",
            "Epoch 5/20\n",
            "375/375 [==============================] - 2s 4ms/step - loss: 0.3981 - accuracy: 0.8577 - val_loss: 0.4461 - val_accuracy: 0.8418\n",
            "Epoch 6/20\n",
            "375/375 [==============================] - 2s 4ms/step - loss: 0.3833 - accuracy: 0.8625 - val_loss: 0.4345 - val_accuracy: 0.8478\n",
            "Epoch 7/20\n",
            "375/375 [==============================] - 2s 4ms/step - loss: 0.3650 - accuracy: 0.8676 - val_loss: 0.4013 - val_accuracy: 0.8625\n",
            "Epoch 8/20\n",
            "375/375 [==============================] - 2s 4ms/step - loss: 0.3468 - accuracy: 0.8740 - val_loss: 0.4188 - val_accuracy: 0.8521\n",
            "Epoch 9/20\n",
            "375/375 [==============================] - 2s 4ms/step - loss: 0.3456 - accuracy: 0.8743 - val_loss: 0.3955 - val_accuracy: 0.8608\n",
            "Epoch 10/20\n",
            "375/375 [==============================] - 2s 4ms/step - loss: 0.3439 - accuracy: 0.8742 - val_loss: 0.4484 - val_accuracy: 0.8453\n",
            "Epoch 11/20\n",
            "375/375 [==============================] - 2s 4ms/step - loss: 0.3375 - accuracy: 0.8771 - val_loss: 0.3626 - val_accuracy: 0.8708\n",
            "Epoch 12/20\n",
            "375/375 [==============================] - 2s 4ms/step - loss: 0.3363 - accuracy: 0.8771 - val_loss: 0.4011 - val_accuracy: 0.8570\n",
            "Epoch 13/20\n",
            "375/375 [==============================] - 2s 4ms/step - loss: 0.3293 - accuracy: 0.8798 - val_loss: 0.4100 - val_accuracy: 0.8596\n",
            "Epoch 14/20\n",
            "375/375 [==============================] - 2s 4ms/step - loss: 0.3237 - accuracy: 0.8807 - val_loss: 0.3805 - val_accuracy: 0.8634\n",
            "Epoch 15/20\n",
            "375/375 [==============================] - 2s 4ms/step - loss: 0.3149 - accuracy: 0.8857 - val_loss: 0.3702 - val_accuracy: 0.8723\n",
            "Epoch 16/20\n",
            "375/375 [==============================] - 2s 4ms/step - loss: 0.3062 - accuracy: 0.8871 - val_loss: 0.3878 - val_accuracy: 0.8664\n",
            "Epoch 17/20\n",
            "375/375 [==============================] - 2s 4ms/step - loss: 0.3005 - accuracy: 0.8896 - val_loss: 0.3728 - val_accuracy: 0.8706\n",
            "Epoch 18/20\n",
            "375/375 [==============================] - 2s 4ms/step - loss: 0.3045 - accuracy: 0.8890 - val_loss: 0.4008 - val_accuracy: 0.8708\n",
            "Epoch 19/20\n",
            "375/375 [==============================] - 2s 4ms/step - loss: 0.3060 - accuracy: 0.8880 - val_loss: 0.3818 - val_accuracy: 0.8683\n",
            "Epoch 20/20\n",
            "375/375 [==============================] - 2s 4ms/step - loss: 0.3008 - accuracy: 0.8912 - val_loss: 0.3600 - val_accuracy: 0.8798\n"
          ],
          "name": "stdout"
        }
      ]
    },
    {
      "cell_type": "markdown",
      "metadata": {
        "id": "guuLHNb85IC1"
      },
      "source": [
        "### Evaluate model with test data"
      ]
    },
    {
      "cell_type": "code",
      "metadata": {
        "id": "ek5g6lOYM41s",
        "outputId": "4f548ccc-d837-4607-906d-a06a8ee339ae",
        "colab": {
          "base_uri": "https://localhost:8080/",
          "height": 90
        }
      },
      "source": [
        "val_loss, val_acc = dn_model.evaluate(X_test, y_test)\n",
        "\n",
        "print(\"\\n\\nValidation Loss {:.3f} and Validation Accuracy {:.2f}%\".format(val_loss, val_acc))"
      ],
      "execution_count": 86,
      "outputs": [
        {
          "output_type": "stream",
          "text": [
            "313/313 [==============================] - 1s 3ms/step - loss: 0.3921 - accuracy: 0.8708\n",
            "\n",
            "\n",
            "Validation Loss 0.392 and Validation Accuracy 0.87%\n"
          ],
          "name": "stdout"
        }
      ]
    },
    {
      "cell_type": "code",
      "metadata": {
        "id": "R55DlhcyKcle",
        "outputId": "5bc279ec-6206-493d-a766-3f84a37080a1",
        "colab": {
          "base_uri": "https://localhost:8080/",
          "height": 345
        }
      },
      "source": [
        "# Invoking model_score() with model and test data\n",
        "model_score(dn_model, X_test, y_test)"
      ],
      "execution_count": 87,
      "outputs": [
        {
          "output_type": "stream",
          "text": [
            "Confusion Matrix: \n",
            "               precision    recall  f1-score   support\n",
            "\n",
            "           0       0.78      0.89      0.83      1000\n",
            "           1       0.99      0.95      0.97      1000\n",
            "           2       0.83      0.73      0.78      1000\n",
            "           3       0.87      0.87      0.87      1000\n",
            "           4       0.74      0.85      0.79      1000\n",
            "           5       0.96      0.94      0.95      1000\n",
            "           6       0.73      0.60      0.66      1000\n",
            "           7       0.91      0.97      0.94      1000\n",
            "           8       0.95      0.98      0.96      1000\n",
            "           9       0.96      0.92      0.94      1000\n",
            "\n",
            "    accuracy                           0.87     10000\n",
            "   macro avg       0.87      0.87      0.87     10000\n",
            "weighted avg       0.87      0.87      0.87     10000\n",
            "\n"
          ],
          "name": "stdout"
        }
      ]
    },
    {
      "cell_type": "code",
      "metadata": {
        "id": "StdPKwlYNO_W",
        "outputId": "5c360569-a9cb-4a65-c5c8-0bee1ec3fbdb",
        "colab": {
          "base_uri": "https://localhost:8080/",
          "height": 1000
        }
      },
      "source": [
        "evaluation_plot(m_history)"
      ],
      "execution_count": 88,
      "outputs": [
        {
          "output_type": "display_data",
          "data": {
            "image/png": "[encoded data removed]",
            "text/plain": [
              "<Figure size 720x576 with 1 Axes>"
            ]
          },
          "metadata": {
            "tags": [],
            "needs_background": "light"
          }
        },
        {
          "output_type": "display_data",
          "data": {
            "image/png": "[encoded data removed]",
            "text/plain": [
              "<Figure size 720x576 with 1 Axes>"
            ]
          },
          "metadata": {
            "tags": [],
            "needs_background": "light"
          }
        }
      ]
    },
    {
      "cell_type": "markdown",
      "metadata": {
        "id": "wEPmwTDH-pq0"
      },
      "source": [
        "## 2. Model with dropouts at different layers"
      ]
    },
    {
      "cell_type": "code",
      "metadata": {
        "id": "dKwUfaHGPMob"
      },
      "source": [
        "def model_with_dropouts():\n",
        "  \"\"\"\n",
        "  Model with only dropouts as to avoid overfitting\n",
        "  :return : Constructed model\n",
        "\n",
        "  \"\"\"\n",
        "  model = keras.models.Sequential()\n",
        "\n",
        "  model.add(keras.layers.Input(shape=(28, 28, 1)))\n",
        "  model.add(keras.layers.Flatten())\n",
        "  model.add(keras.layers.Dense(256, activation='relu'))\n",
        "  model.add(keras.layers.Dropout(0.2)) # Dropout at hidden layer 1\n",
        "  model.add(keras.layers.Dense(128, activation='relu'))\n",
        "  model.add(keras.layers.Dense(128, activation='relu'))\n",
        "  model.add(keras.layers.Dropout(0.4)) # Dropout at hidden layer 3\n",
        "  model.add(keras.layers.Dense(64, activation='relu'))\n",
        "  model.add(keras.layers.Dropout(0.3))  # Dropout at hidden layer 4\n",
        "  model.add(keras.layers.Dense(10, activation='softmax'))\n",
        "\n",
        "  return model\n",
        "  "
      ],
      "execution_count": 89,
      "outputs": []
    },
    {
      "cell_type": "code",
      "metadata": {
        "id": "fpXjgjz3AdIV",
        "outputId": "eb2767f0-1e95-41ee-8e27-d8136fcd3fd4",
        "colab": {
          "base_uri": "https://localhost:8080/",
          "height": 1000
        }
      },
      "source": [
        "# model object\n",
        "dnn_model = model_with_dropouts()\n",
        "lr = 0.0023\n",
        "# Print model summary\n",
        "print(dnn_model.summary())\n",
        "\n",
        "# Compile the model\n",
        "dnn_model.compile(loss=\"categorical_crossentropy\",\n",
        "                  optimizer=keras.optimizers.Adam(learning_rate=lr),\n",
        "                  metrics=['accuracy'])\n",
        "\n",
        "# Fitting the data\n",
        "d_history = dnn_model.fit(X_train, \n",
        "                         y_train, \n",
        "                         epochs=20, \n",
        "                         batch_size=128,\n",
        "                         validation_data=(X_valid, y_valid), \n",
        "                         verbose=1)\n",
        "\n"
      ],
      "execution_count": 90,
      "outputs": [
        {
          "output_type": "stream",
          "text": [
            "Model: \"sequential_13\"\n",
            "_________________________________________________________________\n",
            "Layer (type)                 Output Shape              Param #   \n",
            "=================================================================\n",
            "flatten_13 (Flatten)         (None, 784)               0         \n",
            "_________________________________________________________________\n",
            "dense_62 (Dense)             (None, 256)               200960    \n",
            "_________________________________________________________________\n",
            "dropout_29 (Dropout)         (None, 256)               0         \n",
            "_________________________________________________________________\n",
            "dense_63 (Dense)             (None, 128)               32896     \n",
            "_________________________________________________________________\n",
            "dense_64 (Dense)             (None, 128)               16512     \n",
            "_________________________________________________________________\n",
            "dropout_30 (Dropout)         (None, 128)               0         \n",
            "_________________________________________________________________\n",
            "dense_65 (Dense)             (None, 64)                8256      \n",
            "_________________________________________________________________\n",
            "dropout_31 (Dropout)         (None, 64)                0         \n",
            "_________________________________________________________________\n",
            "dense_66 (Dense)             (None, 10)                650       \n",
            "=================================================================\n",
            "Total params: 259,274\n",
            "Trainable params: 259,274\n",
            "Non-trainable params: 0\n",
            "_________________________________________________________________\n",
            "None\n",
            "Epoch 1/20\n",
            "375/375 [==============================] - 2s 5ms/step - loss: 3.0321 - accuracy: 0.5262 - val_loss: 0.7252 - val_accuracy: 0.7325\n",
            "Epoch 2/20\n",
            "375/375 [==============================] - 2s 4ms/step - loss: 0.8291 - accuracy: 0.7030 - val_loss: 0.6293 - val_accuracy: 0.7762\n",
            "Epoch 3/20\n",
            "375/375 [==============================] - 2s 4ms/step - loss: 0.7096 - accuracy: 0.7432 - val_loss: 0.5565 - val_accuracy: 0.8117\n",
            "Epoch 4/20\n",
            "375/375 [==============================] - 2s 4ms/step - loss: 0.6654 - accuracy: 0.7606 - val_loss: 0.5126 - val_accuracy: 0.8217\n",
            "Epoch 5/20\n",
            "375/375 [==============================] - 2s 4ms/step - loss: 0.6257 - accuracy: 0.7794 - val_loss: 0.5807 - val_accuracy: 0.8089\n",
            "Epoch 6/20\n",
            "375/375 [==============================] - 2s 4ms/step - loss: 0.5996 - accuracy: 0.7929 - val_loss: 0.4903 - val_accuracy: 0.8358\n",
            "Epoch 7/20\n",
            "375/375 [==============================] - 2s 4ms/step - loss: 0.5798 - accuracy: 0.7988 - val_loss: 0.4806 - val_accuracy: 0.8327\n",
            "Epoch 8/20\n",
            "375/375 [==============================] - 2s 4ms/step - loss: 0.5701 - accuracy: 0.8040 - val_loss: 0.4720 - val_accuracy: 0.8351\n",
            "Epoch 9/20\n",
            "375/375 [==============================] - 2s 4ms/step - loss: 0.5647 - accuracy: 0.8084 - val_loss: 0.4851 - val_accuracy: 0.8307\n",
            "Epoch 10/20\n",
            "375/375 [==============================] - 2s 5ms/step - loss: 0.5706 - accuracy: 0.8074 - val_loss: 0.4695 - val_accuracy: 0.8385\n",
            "Epoch 11/20\n",
            "375/375 [==============================] - 2s 5ms/step - loss: 0.5689 - accuracy: 0.8022 - val_loss: 0.4733 - val_accuracy: 0.8403\n",
            "Epoch 12/20\n",
            "375/375 [==============================] - 2s 4ms/step - loss: 0.5672 - accuracy: 0.8035 - val_loss: 0.4677 - val_accuracy: 0.8429\n",
            "Epoch 13/20\n",
            "375/375 [==============================] - 2s 5ms/step - loss: 0.5431 - accuracy: 0.8156 - val_loss: 0.4803 - val_accuracy: 0.8418\n",
            "Epoch 14/20\n",
            "375/375 [==============================] - 2s 5ms/step - loss: 0.5379 - accuracy: 0.8176 - val_loss: 0.4712 - val_accuracy: 0.8253\n",
            "Epoch 15/20\n",
            "375/375 [==============================] - 2s 5ms/step - loss: 0.5413 - accuracy: 0.8179 - val_loss: 0.4533 - val_accuracy: 0.8442\n",
            "Epoch 16/20\n",
            "375/375 [==============================] - 2s 5ms/step - loss: 0.5177 - accuracy: 0.8240 - val_loss: 0.4400 - val_accuracy: 0.8449\n",
            "Epoch 17/20\n",
            "375/375 [==============================] - 2s 5ms/step - loss: 0.5273 - accuracy: 0.8186 - val_loss: 0.4376 - val_accuracy: 0.8432\n",
            "Epoch 18/20\n",
            "375/375 [==============================] - 2s 4ms/step - loss: 0.5218 - accuracy: 0.8230 - val_loss: 0.4343 - val_accuracy: 0.8471\n",
            "Epoch 19/20\n",
            "375/375 [==============================] - 2s 5ms/step - loss: 0.5140 - accuracy: 0.8246 - val_loss: 0.4482 - val_accuracy: 0.8434\n",
            "Epoch 20/20\n",
            "375/375 [==============================] - 2s 5ms/step - loss: 0.5256 - accuracy: 0.8210 - val_loss: 0.4951 - val_accuracy: 0.8397\n"
          ],
          "name": "stdout"
        }
      ]
    },
    {
      "cell_type": "markdown",
      "metadata": {
        "id": "wFOteouT5b6e"
      },
      "source": [
        "### Evaluate model with test data"
      ]
    },
    {
      "cell_type": "code",
      "metadata": {
        "id": "xb0Ae6Zc5bFv",
        "outputId": "6983791d-5f1a-4987-9292-2a41d6761710",
        "colab": {
          "base_uri": "https://localhost:8080/",
          "height": 1000
        }
      },
      "source": [
        "val_loss, val_acc = dnn_model.evaluate(X_test, y_test)\n",
        "\n",
        "print(\"\\n\\nValidation Loss {:.3f} and Validation Accuracy {:.2f}%\".format(val_loss, val_acc))\n",
        "\n",
        "evaluation_plot(d_history)"
      ],
      "execution_count": 91,
      "outputs": [
        {
          "output_type": "stream",
          "text": [
            "313/313 [==============================] - 1s 4ms/step - loss: 0.5179 - accuracy: 0.8298\n",
            "\n",
            "\n",
            "Validation Loss 0.518 and Validation Accuracy 0.83%\n"
          ],
          "name": "stdout"
        },
        {
          "output_type": "display_data",
          "data": {
            "image/png": "[encoded data removed]",
            "text/plain": [
              "<Figure size 720x576 with 1 Axes>"
            ]
          },
          "metadata": {
            "tags": [],
            "needs_background": "light"
          }
        },
        {
          "output_type": "display_data",
          "data": {
            "image/png": "[encoded data removed]",
            "text/plain": [
              "<Figure size 720x576 with 1 Axes>"
            ]
          },
          "metadata": {
            "tags": [],
            "needs_background": "light"
          }
        }
      ]
    },
    {
      "cell_type": "code",
      "metadata": {
        "id": "OAK3Ss86LNjY",
        "outputId": "c737d07e-5def-4383-dcbe-416bcf310f4a",
        "colab": {
          "base_uri": "https://localhost:8080/",
          "height": 345
        }
      },
      "source": [
        "# Scoring model with dev data\n",
        "model_score(dnn_model, X_test, y_test)"
      ],
      "execution_count": 92,
      "outputs": [
        {
          "output_type": "stream",
          "text": [
            "Confusion Matrix: \n",
            "               precision    recall  f1-score   support\n",
            "\n",
            "           0       0.91      0.63      0.75      1000\n",
            "           1       0.98      0.95      0.97      1000\n",
            "           2       0.68      0.79      0.73      1000\n",
            "           3       0.77      0.90      0.83      1000\n",
            "           4       0.73      0.65      0.69      1000\n",
            "           5       0.96      0.94      0.95      1000\n",
            "           6       0.58      0.63      0.61      1000\n",
            "           7       0.86      0.97      0.91      1000\n",
            "           8       0.94      0.97      0.95      1000\n",
            "           9       0.97      0.87      0.91      1000\n",
            "\n",
            "    accuracy                           0.83     10000\n",
            "   macro avg       0.84      0.83      0.83     10000\n",
            "weighted avg       0.84      0.83      0.83     10000\n",
            "\n"
          ],
          "name": "stdout"
        }
      ]
    },
    {
      "cell_type": "markdown",
      "metadata": {
        "id": "mq99cLyS5jwK"
      },
      "source": [
        "## Conclusion\n",
        "\n",
        "The `MNIST-Fashion` dataset had a volume of **70,000 images** of various fashion materials like apparals, shoes, and accessaries. The primary objective of the model was to learn the image pixel data to classify the image into one of the 10 categorical labels.\n",
        "\n",
        "The summary of the preprocessing, model building and evaluation is described below,\n",
        "\n",
        "* The image data was in the shape of 28 x 28 size. \n",
        "* The training set **60,000 images** were split into **80:20** ratio for train and validation/holdout dataset, which is effectively **48,000 train** and **12,000 images** for validation. \n",
        "* The **10,000 image** data were kept as a test/dev set. \n",
        "* There were 10 unique class labels to be predicted based on the image data. \n",
        "* A deep network model was build with `L2 regularization` and `Dropout` layers at every hidden layer.\n",
        "* A set of parameters used during model compilation were like,\n",
        "  * Optimizer = 'Adam' with learning rate $\\eta=0.0001$\n",
        "  * Loss = 'Categorical Cross Entropy'\n",
        "  * Metrics = 'Accuracy'"
      ]
    },
    {
      "cell_type": "code",
      "metadata": {
        "id": "GKx4cm7IgAut"
      },
      "source": [
        ""
      ],
      "execution_count": null,
      "outputs": []
    }
  ]
}