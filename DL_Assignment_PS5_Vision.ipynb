{
  "nbformat": 4,
  "nbformat_minor": 0,
  "metadata": {
    "colab": {
      "name": "DL_Assignment_PS5_Vision.ipynb",
      "provenance": [],
      "collapsed_sections": [],
      "authorship_tag": "ABX9TyMouX504pYUyuEYLzbzII8I",
      "include_colab_link": true
    },
    "kernelspec": {
      "name": "python3",
      "display_name": "Python 3"
    },
    "accelerator": "GPU"
  },
  "cells": [
    {
      "cell_type": "markdown",
      "metadata": {
        "id": "view-in-github",
        "colab_type": "text"
      },
      "source": [
        "<a href=\"https://colab.research.google.com/github/Data-Citadel/DeepLearning-Assignment1/blob/main/DL_Assignment_PS5_Vision.ipynb\" target=\"_parent\"><img src=\"https://colab.research.google.com/assets/colab-badge.svg\" alt=\"Open In Colab\"/></a>"
      ]
    },
    {
      "cell_type": "markdown",
      "metadata": {
        "id": "SxA9iM1ICeWv"
      },
      "source": [
        ""
      ]
    },
    {
      "cell_type": "markdown",
      "metadata": {
        "id": "5bJ6JyQTzfCC"
      },
      "source": [
        "# Vision Dataset-MNIST Fashion Dataset\n",
        "\n"
      ]
    },
    {
      "cell_type": "markdown",
      "metadata": {
        "id": "mRkuoybiznpo"
      },
      "source": [
        "## 1. Import Libraries/Dataset"
      ]
    },
    {
      "cell_type": "code",
      "metadata": {
        "id": "zuFSDLhlxd3t"
      },
      "source": [
        "\n",
        "# Import tensorflow and keras library\n",
        "import tensorflow as tf\n",
        "\n",
        "from tensorflow import keras\n",
        "\n",
        "# Visualization packages\n",
        "import matplotlib.pyplot as plt\n",
        "import seaborn as sns\n",
        "import numpy as np\n",
        "\n",
        "from sklearn.model_selection import train_test_split\n",
        "from sklearn.metrics import confusion_matrix, classification_report\n",
        "# Time library\n",
        "import time"
      ],
      "execution_count": 1,
      "outputs": []
    },
    {
      "cell_type": "markdown",
      "metadata": {
        "id": "g_gHW2Cn1GjY"
      },
      "source": [
        "## 1.1 Load Dataset"
      ]
    },
    {
      "cell_type": "code",
      "metadata": {
        "id": "GrlwW-uxzxGd",
        "outputId": "d5a3f984-61d4-4ab6-98e6-f09fb8acd6f7",
        "colab": {
          "base_uri": "https://localhost:8080/",
          "height": 163
        }
      },
      "source": [
        "# Load MNIST Fashion dataset from keras library\n",
        "fashion_data = keras.datasets.fashion_mnist\n",
        "\n",
        "# Destructuring the data into train and test\n",
        "(X_train_full, y_train_full), (X_test, y_test) = fashion_data.load_data()"
      ],
      "execution_count": 2,
      "outputs": [
        {
          "output_type": "stream",
          "text": [
            "Downloading data from https://storage.googleapis.com/tensorflow/tf-keras-datasets/train-labels-idx1-ubyte.gz\n",
            "32768/29515 [=================================] - 0s 0us/step\n",
            "Downloading data from https://storage.googleapis.com/tensorflow/tf-keras-datasets/train-images-idx3-ubyte.gz\n",
            "26427392/26421880 [==============================] - 0s 0us/step\n",
            "Downloading data from https://storage.googleapis.com/tensorflow/tf-keras-datasets/t10k-labels-idx1-ubyte.gz\n",
            "8192/5148 [===============================================] - 0s 0us/step\n",
            "Downloading data from https://storage.googleapis.com/tensorflow/tf-keras-datasets/t10k-images-idx3-ubyte.gz\n",
            "4423680/4422102 [==============================] - 0s 0us/step\n"
          ],
          "name": "stdout"
        }
      ]
    },
    {
      "cell_type": "markdown",
      "metadata": {
        "id": "wuT-5W224Afn"
      },
      "source": [
        "## 1.2 GPU Availability"
      ]
    },
    {
      "cell_type": "code",
      "metadata": {
        "id": "YOSiPZZb1wYJ",
        "outputId": "caa6e5d3-287e-4026-bc55-41accd5472c6",
        "colab": {
          "base_uri": "https://localhost:8080/",
          "height": 54
        }
      },
      "source": [
        "# Checking for GPU availability\n",
        "print(\"Is GPU enabled in this machine? \\n{}\".format(tf.config.list_physical_devices('GPU')))"
      ],
      "execution_count": 3,
      "outputs": [
        {
          "output_type": "stream",
          "text": [
            "Is GPU enabled in this machine? \n",
            "[PhysicalDevice(name='/physical_device:GPU:0', device_type='GPU')]\n"
          ],
          "name": "stdout"
        }
      ]
    },
    {
      "cell_type": "markdown",
      "metadata": {
        "id": "jHhIhpyS5XOT"
      },
      "source": [
        "## 2. Data Visualization\n",
        "\n",
        "### 2.1 Shape of Train and Test data"
      ]
    },
    {
      "cell_type": "code",
      "metadata": {
        "id": "W4SNX-mdu84W"
      },
      "source": [
        "class_names = [\"T-shirt/top\", \"Trouser\", \"Pullover\", \"Dress\", \"Coat\", \"Sandal\", \"Shirt\", \"Sneaker\", \"Bag\", \"Ankle boot\"]"
      ],
      "execution_count": 4,
      "outputs": []
    },
    {
      "cell_type": "code",
      "metadata": {
        "id": "WrKY88TZ3ijW",
        "outputId": "ab308012-7b2f-4b3b-e0bf-a8d3da4e6104",
        "colab": {
          "base_uri": "https://localhost:8080/",
          "height": 54
        }
      },
      "source": [
        "print(\"Shape of Training Data : {}\".format(X_train_full.shape))\n",
        "print(\"Shape of Test Data : {}\".format(X_test.shape))"
      ],
      "execution_count": 5,
      "outputs": [
        {
          "output_type": "stream",
          "text": [
            "Shape of Training Data : (60000, 28, 28)\n",
            "Shape of Test Data : (10000, 28, 28)\n"
          ],
          "name": "stdout"
        }
      ]
    },
    {
      "cell_type": "code",
      "metadata": {
        "id": "cKoPP1jCJ5ba",
        "outputId": "43f2d070-c57e-4fe0-9bda-e30676dd447e",
        "colab": {
          "base_uri": "https://localhost:8080/",
          "height": 35
        }
      },
      "source": [
        "# Number of classes\n",
        "np.unique(y_train_full)"
      ],
      "execution_count": 6,
      "outputs": [
        {
          "output_type": "execute_result",
          "data": {
            "text/plain": [
              "array([0, 1, 2, 3, 4, 5, 6, 7, 8, 9], dtype=uint8)"
            ]
          },
          "metadata": {
            "tags": []
          },
          "execution_count": 6
        }
      ]
    },
    {
      "cell_type": "markdown",
      "metadata": {
        "id": "s2iTJ14i6QCd"
      },
      "source": [
        "### 2.2 Plot image data"
      ]
    },
    {
      "cell_type": "code",
      "metadata": {
        "id": "bYnVueLJ5nAI",
        "outputId": "b0851ab6-3815-4e55-c2e9-dbf361bf61df",
        "colab": {
          "base_uri": "https://localhost:8080/",
          "height": 479
        }
      },
      "source": [
        "plt.figure(figsize=(10,8))\n",
        "\n",
        "for i in range(12):\n",
        "  plt.subplot(3,4, i+1)\n",
        "  plt.imshow(X_train_full[i])\n",
        "  index = y_train_full[i]\n",
        "  plt.title(class_names[index])\n",
        "  plt.xticks([])\n",
        "  plt.yticks([])\n",
        "\n",
        "plt.show()"
      ],
      "execution_count": 7,
      "outputs": [
        {
          "output_type": "display_data",
          "data": {
            "image/png": "[encoded data removed]",
            "text/plain": [
              "<Figure size 720x576 with 12 Axes>"
            ]
          },
          "metadata": {
            "tags": []
          }
        }
      ]
    },
    {
      "cell_type": "markdown",
      "metadata": {
        "id": "qQ5CH4cDyriH"
      },
      "source": [
        "## 3. Data Pre-Processing\n",
        "\n",
        "### 3.1 Process the image data\n",
        "\n"
      ]
    },
    {
      "cell_type": "code",
      "metadata": {
        "id": "yo523AToP5Bv"
      },
      "source": [
        "# X_train_full = X_train_full.reshape((60000, 28 * 28))\n",
        "# X_train_full = X_train_full.astype('float32') / 255\n",
        "\n",
        "# X_test = X_test.reshape((10000, 28 * 28))\n",
        "# X_test = X_test.astype('float32') / 255\n",
        "\n",
        "# Convert target labels to one-hot encoding matrix\n",
        "y_train_full = keras.utils.to_categorical(y_train_full)\n",
        "y_test = keras.utils.to_categorical(y_test)"
      ],
      "execution_count": 8,
      "outputs": []
    },
    {
      "cell_type": "markdown",
      "metadata": {
        "id": "iFTgbCiaP5gc"
      },
      "source": [
        "\n",
        "### 3.2 Split the data into Train, Holdout and Dev(test)"
      ]
    },
    {
      "cell_type": "code",
      "metadata": {
        "id": "HPgMY0hvvZd2"
      },
      "source": [
        "X_train, X_valid, y_train, y_valid = train_test_split(X_train_full, y_train_full, test_size=0.2, random_state=42)"
      ],
      "execution_count": 9,
      "outputs": []
    },
    {
      "cell_type": "code",
      "metadata": {
        "id": "YuicbsPky9Na",
        "outputId": "85a9b049-c392-4e4b-b84e-96c4f100a947",
        "colab": {
          "base_uri": "https://localhost:8080/",
          "height": 54
        }
      },
      "source": [
        "print(\"Shape of Training set {}\".format(X_train.shape))\n",
        "print(\"Shape of Holdout set {}\".format(X_valid.shape))"
      ],
      "execution_count": 10,
      "outputs": [
        {
          "output_type": "stream",
          "text": [
            "Shape of Training set (48000, 28, 28)\n",
            "Shape of Holdout set (12000, 28, 28)\n"
          ],
          "name": "stdout"
        }
      ]
    },
    {
      "cell_type": "markdown",
      "metadata": {
        "id": "HzCjPW9f0ZUz"
      },
      "source": [
        "## 4. Model Building\n",
        "\n",
        "A function to construct a network with 3-Dense layers with appropriate input layer will be defined. "
      ]
    },
    {
      "cell_type": "code",
      "metadata": {
        "id": "qyyvv_i4zuJM"
      },
      "source": [
        "def build_model():\n",
        "  # L2 regularizer rate\n",
        "  l2_rate = 01e-3 # 0.001 \n",
        "  dropout_rate = 0.3 # Dropout rate\n",
        "\n",
        "  model = keras.models.Sequential()\n",
        "\n",
        "  model.add(keras.layers.Input(shape=(28, 28, 1)))\n",
        "  model.add(keras.layers.Flatten())\n",
        "  model.add(keras.layers.Dense(256, activation='relu',\n",
        "                               kernel_regularizer=keras.regularizers.L2(l2_rate)))\n",
        "  model.add(keras.layers.Dropout(dropout_rate))\n",
        "  model.add(keras.layers.Dense(128, activation='relu',\n",
        "                            kernel_regularizer=keras.regularizers.L2(l2_rate)))\n",
        "  model.add(keras.layers.Dropout(dropout_rate))\n",
        "  model.add(keras.layers.Dense(64, activation='relu',\n",
        "                            kernel_regularizer=keras.regularizers.L2(l2_rate)))\n",
        "  model.add(keras.layers.Dropout(dropout_rate))\n",
        "  model.add(keras.layers.Dense(10, activation='softmax'))\n",
        "\n",
        "  return model\n"
      ],
      "execution_count": 11,
      "outputs": []
    },
    {
      "cell_type": "code",
      "metadata": {
        "id": "TdyuGRQG2p02"
      },
      "source": [
        "# Building a model\n",
        "ffnn_model = build_model()"
      ],
      "execution_count": 12,
      "outputs": []
    },
    {
      "cell_type": "code",
      "metadata": {
        "id": "rXXRKu0U2tlM",
        "outputId": "34318c0a-4421-4277-febe-88624e98800d",
        "colab": {
          "base_uri": "https://localhost:8080/",
          "height": 454
        }
      },
      "source": [
        "ffnn_model.summary()"
      ],
      "execution_count": 13,
      "outputs": [
        {
          "output_type": "stream",
          "text": [
            "Model: \"sequential\"\n",
            "_________________________________________________________________\n",
            "Layer (type)                 Output Shape              Param #   \n",
            "=================================================================\n",
            "flatten (Flatten)            (None, 784)               0         \n",
            "_________________________________________________________________\n",
            "dense (Dense)                (None, 256)               200960    \n",
            "_________________________________________________________________\n",
            "dropout (Dropout)            (None, 256)               0         \n",
            "_________________________________________________________________\n",
            "dense_1 (Dense)              (None, 128)               32896     \n",
            "_________________________________________________________________\n",
            "dropout_1 (Dropout)          (None, 128)               0         \n",
            "_________________________________________________________________\n",
            "dense_2 (Dense)              (None, 64)                8256      \n",
            "_________________________________________________________________\n",
            "dropout_2 (Dropout)          (None, 64)                0         \n",
            "_________________________________________________________________\n",
            "dense_3 (Dense)              (None, 10)                650       \n",
            "=================================================================\n",
            "Total params: 242,762\n",
            "Trainable params: 242,762\n",
            "Non-trainable params: 0\n",
            "_________________________________________________________________\n"
          ],
          "name": "stdout"
        }
      ]
    },
    {
      "cell_type": "markdown",
      "metadata": {
        "id": "Vlk6nPpFIcfM"
      },
      "source": [
        "## 5. Compile the model\n",
        "\n",
        "The model is compiled with the following parameters\n",
        "1. Loss Function - Sparse Categorical Cross Entropy\n",
        "2. Optimizer - ADAM with learning rate 0.001\n",
        "3. Metrics - Accuracy"
      ]
    },
    {
      "cell_type": "code",
      "metadata": {
        "id": "OMMOzmNK3qUY"
      },
      "source": [
        "ffnn_model.compile(loss=keras.losses.CategoricalCrossentropy(),\n",
        "                  optimizer=keras.optimizers.Adam(learning_rate=0.0005),\n",
        "                  metrics=['accuracy'])"
      ],
      "execution_count": 14,
      "outputs": []
    },
    {
      "cell_type": "markdown",
      "metadata": {
        "id": "jLLIOWEhJXJU"
      },
      "source": [
        "## 6. Train Model\n",
        "\n",
        "The model will be trained by fitting the training and validation data. "
      ]
    },
    {
      "cell_type": "code",
      "metadata": {
        "id": "JB0GMTWIJRWG",
        "outputId": "2f2fe1b5-9d2b-4eb3-dedc-0a69bd03091f",
        "colab": {
          "base_uri": "https://localhost:8080/",
          "height": 1000
        }
      },
      "source": [
        "epochs_run = 30\n",
        "batchsize = 256\n",
        "\n",
        "# start time\n",
        "start_time = time.perf_counter()\n",
        "\n",
        "# Fitting the data\n",
        "history = ffnn_model.fit(X_train, \n",
        "                         y_train, \n",
        "                         epochs=epochs_run, \n",
        "                         batch_size=batchsize,\n",
        "                         validation_data=(X_valid, y_valid), \n",
        "                         verbose=1)\n",
        "# Total time taken for training the given dataset\n",
        "elapsed = time.perf_counter() - start_time\n"
      ],
      "execution_count": 28,
      "outputs": [
        {
          "output_type": "stream",
          "text": [
            "Epoch 1/30\n",
            "188/188 [==============================] - 1s 4ms/step - loss: 0.7766 - accuracy: 0.7804 - val_loss: 0.7161 - val_accuracy: 0.8070\n",
            "Epoch 2/30\n",
            "188/188 [==============================] - 1s 4ms/step - loss: 0.7583 - accuracy: 0.7817 - val_loss: 0.7014 - val_accuracy: 0.8048\n",
            "Epoch 3/30\n",
            "188/188 [==============================] - 1s 4ms/step - loss: 0.7574 - accuracy: 0.7787 - val_loss: 0.6931 - val_accuracy: 0.8010\n",
            "Epoch 4/30\n",
            "188/188 [==============================] - 1s 4ms/step - loss: 0.7306 - accuracy: 0.7861 - val_loss: 0.6773 - val_accuracy: 0.8055\n",
            "Epoch 5/30\n",
            "188/188 [==============================] - 1s 3ms/step - loss: 0.7057 - accuracy: 0.7915 - val_loss: 0.6674 - val_accuracy: 0.8020\n",
            "Epoch 6/30\n",
            "188/188 [==============================] - 1s 3ms/step - loss: 0.6878 - accuracy: 0.7975 - val_loss: 0.6486 - val_accuracy: 0.8049\n",
            "Epoch 7/30\n",
            "188/188 [==============================] - 1s 3ms/step - loss: 0.6728 - accuracy: 0.7981 - val_loss: 0.6208 - val_accuracy: 0.8314\n",
            "Epoch 8/30\n",
            "188/188 [==============================] - 1s 3ms/step - loss: 0.6517 - accuracy: 0.8016 - val_loss: 0.6181 - val_accuracy: 0.8115\n",
            "Epoch 9/30\n",
            "188/188 [==============================] - 1s 3ms/step - loss: 0.6508 - accuracy: 0.8089 - val_loss: 0.5837 - val_accuracy: 0.8434\n",
            "Epoch 10/30\n",
            "188/188 [==============================] - 1s 4ms/step - loss: 0.6211 - accuracy: 0.8213 - val_loss: 0.5656 - val_accuracy: 0.8501\n",
            "Epoch 11/30\n",
            "188/188 [==============================] - 1s 3ms/step - loss: 0.6040 - accuracy: 0.8277 - val_loss: 0.5725 - val_accuracy: 0.8430\n",
            "Epoch 12/30\n",
            "188/188 [==============================] - 1s 3ms/step - loss: 0.5904 - accuracy: 0.8295 - val_loss: 0.5440 - val_accuracy: 0.8509\n",
            "Epoch 13/30\n",
            "188/188 [==============================] - 1s 4ms/step - loss: 0.5773 - accuracy: 0.8334 - val_loss: 0.5403 - val_accuracy: 0.8532\n",
            "Epoch 14/30\n",
            "188/188 [==============================] - 1s 3ms/step - loss: 0.5661 - accuracy: 0.8348 - val_loss: 0.5334 - val_accuracy: 0.8504\n",
            "Epoch 15/30\n",
            "188/188 [==============================] - 1s 3ms/step - loss: 0.5611 - accuracy: 0.8347 - val_loss: 0.5176 - val_accuracy: 0.8538\n",
            "Epoch 16/30\n",
            "188/188 [==============================] - 1s 3ms/step - loss: 0.5413 - accuracy: 0.8409 - val_loss: 0.5021 - val_accuracy: 0.8547\n",
            "Epoch 17/30\n",
            "188/188 [==============================] - 1s 4ms/step - loss: 0.5311 - accuracy: 0.8416 - val_loss: 0.4961 - val_accuracy: 0.8614\n",
            "Epoch 18/30\n",
            "188/188 [==============================] - 1s 4ms/step - loss: 0.5285 - accuracy: 0.8418 - val_loss: 0.4940 - val_accuracy: 0.8571\n",
            "Epoch 19/30\n",
            "188/188 [==============================] - 1s 3ms/step - loss: 0.5164 - accuracy: 0.8438 - val_loss: 0.4887 - val_accuracy: 0.8564\n",
            "Epoch 20/30\n",
            "188/188 [==============================] - 1s 3ms/step - loss: 0.5165 - accuracy: 0.8443 - val_loss: 0.4835 - val_accuracy: 0.8572\n",
            "Epoch 21/30\n",
            "188/188 [==============================] - 1s 3ms/step - loss: 0.5056 - accuracy: 0.8460 - val_loss: 0.4739 - val_accuracy: 0.8589\n",
            "Epoch 22/30\n",
            "188/188 [==============================] - 1s 3ms/step - loss: 0.5009 - accuracy: 0.8477 - val_loss: 0.4811 - val_accuracy: 0.8556\n",
            "Epoch 23/30\n",
            "188/188 [==============================] - 1s 3ms/step - loss: 0.4975 - accuracy: 0.8465 - val_loss: 0.4833 - val_accuracy: 0.8579\n",
            "Epoch 24/30\n",
            "188/188 [==============================] - 1s 4ms/step - loss: 0.4900 - accuracy: 0.8505 - val_loss: 0.4622 - val_accuracy: 0.8665\n",
            "Epoch 25/30\n",
            "188/188 [==============================] - 1s 4ms/step - loss: 0.4885 - accuracy: 0.8504 - val_loss: 0.4687 - val_accuracy: 0.8587\n",
            "Epoch 26/30\n",
            "188/188 [==============================] - 1s 4ms/step - loss: 0.4794 - accuracy: 0.8518 - val_loss: 0.4565 - val_accuracy: 0.8641\n",
            "Epoch 27/30\n",
            "188/188 [==============================] - 1s 4ms/step - loss: 0.4785 - accuracy: 0.8521 - val_loss: 0.4659 - val_accuracy: 0.8605\n",
            "Epoch 28/30\n",
            "188/188 [==============================] - 1s 4ms/step - loss: 0.4768 - accuracy: 0.8521 - val_loss: 0.4554 - val_accuracy: 0.8631\n",
            "Epoch 29/30\n",
            "188/188 [==============================] - 1s 3ms/step - loss: 0.4737 - accuracy: 0.8534 - val_loss: 0.4559 - val_accuracy: 0.8606\n",
            "Epoch 30/30\n",
            "188/188 [==============================] - 1s 3ms/step - loss: 0.4736 - accuracy: 0.8516 - val_loss: 0.4669 - val_accuracy: 0.8560\n"
          ],
          "name": "stdout"
        }
      ]
    },
    {
      "cell_type": "code",
      "metadata": {
        "id": "pheCdT3MJvZX",
        "outputId": "dcf5ed53-6c17-4643-b8ee-5ffd3dcadb20",
        "colab": {
          "base_uri": "https://localhost:8080/",
          "height": 90
        }
      },
      "source": [
        "val_loss, val_acc = ffnn_model.evaluate(X_valid, y_valid)\n",
        "\n",
        "print(\"\\n\\nValidation Loss {:.3f} and Validation Accuracy {:.2f}%\".format(val_loss, val_acc))"
      ],
      "execution_count": 31,
      "outputs": [
        {
          "output_type": "stream",
          "text": [
            "375/375 [==============================] - 1s 2ms/step - loss: 0.4669 - accuracy: 0.8560\n",
            "\n",
            "\n",
            "Validation Loss 0.467 and Validation Accuracy 0.86%\n"
          ],
          "name": "stdout"
        }
      ]
    },
    {
      "cell_type": "markdown",
      "metadata": {
        "id": "2iRKdteDE4AI"
      },
      "source": [
        "### 6.2 Plot loss and accuracy history graphs."
      ]
    },
    {
      "cell_type": "code",
      "metadata": {
        "id": "kw-AfoT7FAdN",
        "outputId": "57c54c5e-5760-4523-92cb-9ccd42800c51",
        "colab": {
          "base_uri": "https://localhost:8080/",
          "height": 1000
        }
      },
      "source": [
        "acc = history.history['accuracy']\n",
        "val_acc = history.history['val_accuracy']\n",
        "# Loss details\n",
        "loss = history.history['loss']\n",
        "val_loss = history.history['val_loss']\n",
        "\n",
        "epochs = range(1, len(acc) + 1)\n",
        "\n",
        "plt.figure(figsize=(10,8))\n",
        "plt.plot(epochs, acc, label=\"Training Accuracy\")\n",
        "plt.plot(epochs, val_acc, label=\"Validation Accuracy\")\n",
        "plt.title(\"Training Accuracy Plot\")\n",
        "plt.xlabel(\"Epochs\")\n",
        "plt.ylabel(\"Accuracy\")\n",
        "plt.legend()\n",
        "plt.show()\n",
        "\n",
        "# Loss and Validation loss plot\n",
        "plt.figure(figsize=(10,8))\n",
        "plt.plot(epochs, loss, label=\"Training Loss\")\n",
        "plt.plot(epochs, val_loss, label=\"Validation Loss\")\n",
        "plt.title(\"Training Loss Plot\")\n",
        "plt.xlabel(\"Epochs\")\n",
        "plt.ylabel(\"Loss\")\n",
        "plt.legend()\n",
        "plt.show()"
      ],
      "execution_count": 32,
      "outputs": [
        {
          "output_type": "display_data",
          "data": {
            "image/png": "[encoded data removed]",
            "text/plain": [
              "<Figure size 720x576 with 1 Axes>"
            ]
          },
          "metadata": {
            "tags": [],
            "needs_background": "light"
          }
        },
        {
          "output_type": "display_data",
          "data": {
            "image/png": "[encoded data removed]",
            "text/plain": [
              "<Figure size 720x576 with 1 Axes>"
            ]
          },
          "metadata": {
            "tags": [],
            "needs_background": "light"
          }
        }
      ]
    },
    {
      "cell_type": "markdown",
      "metadata": {
        "id": "3pYTwDQ8Gj6J"
      },
      "source": [
        "### Total time taken for training"
      ]
    },
    {
      "cell_type": "code",
      "metadata": {
        "id": "OHTXpZOSGoMm",
        "outputId": "b1392025-c319-4f43-b6fb-c9cb62747493",
        "colab": {
          "base_uri": "https://localhost:8080/",
          "height": 72
        }
      },
      "source": [
        "print(\"==\"*40)\n",
        "print(\"Total time taken for training {:.2f} seconds\".format(elapsed))\n",
        "print(\"==\"*40)"
      ],
      "execution_count": 33,
      "outputs": [
        {
          "output_type": "stream",
          "text": [
            "================================================================================\n",
            "Total time taken for training 20.04 seconds\n",
            "================================================================================\n"
          ],
          "name": "stdout"
        }
      ]
    },
    {
      "cell_type": "markdown",
      "metadata": {
        "id": "xUbZ7p_baLLN"
      },
      "source": [
        "## 7. Model Evaluation\n",
        "\n",
        "### a. Score with Test data\n"
      ]
    },
    {
      "cell_type": "code",
      "metadata": {
        "id": "1l0zvGCrSwNM"
      },
      "source": [
        "y_preds = ffnn_model.predict(X_test)"
      ],
      "execution_count": 34,
      "outputs": []
    },
    {
      "cell_type": "code",
      "metadata": {
        "id": "_aXT1lbxcvbe"
      },
      "source": [
        "# Converting Logits to Class code using argmax()\n",
        "y_hat = tf.argmax(y_preds, 1)\n",
        "rounded_test_labels = tf.argmax(y_test, 1)"
      ],
      "execution_count": 35,
      "outputs": []
    },
    {
      "cell_type": "code",
      "metadata": {
        "id": "wYMDCRlg-8P2",
        "outputId": "c7c71e74-e109-4988-91e7-43ebb4dc1f6d",
        "colab": {
          "base_uri": "https://localhost:8080/",
          "height": 35
        }
      },
      "source": [
        "y_hat.numpy()"
      ],
      "execution_count": 36,
      "outputs": [
        {
          "output_type": "execute_result",
          "data": {
            "text/plain": [
              "array([9, 2, 1, ..., 8, 1, 5])"
            ]
          },
          "metadata": {
            "tags": []
          },
          "execution_count": 36
        }
      ]
    },
    {
      "cell_type": "code",
      "metadata": {
        "id": "yVpZ6yOgagyv",
        "outputId": "e95aca43-c8d8-4d68-9a48-0edd56cc209b",
        "colab": {
          "base_uri": "https://localhost:8080/",
          "height": 345
        }
      },
      "source": [
        "print(\"Confusion Matrix: \\n {}\".format(classification_report(rounded_test_labels, y_hat.numpy())))"
      ],
      "execution_count": 37,
      "outputs": [
        {
          "output_type": "stream",
          "text": [
            "Confusion Matrix: \n",
            "               precision    recall  f1-score   support\n",
            "\n",
            "           0       0.88      0.71      0.79      1000\n",
            "           1       0.98      0.96      0.97      1000\n",
            "           2       0.70      0.82      0.75      1000\n",
            "           3       0.88      0.83      0.85      1000\n",
            "           4       0.74      0.75      0.74      1000\n",
            "           5       0.98      0.95      0.96      1000\n",
            "           6       0.61      0.64      0.62      1000\n",
            "           7       0.85      0.98      0.91      1000\n",
            "           8       0.97      0.97      0.97      1000\n",
            "           9       0.98      0.86      0.92      1000\n",
            "\n",
            "    accuracy                           0.85     10000\n",
            "   macro avg       0.86      0.85      0.85     10000\n",
            "weighted avg       0.86      0.85      0.85     10000\n",
            "\n"
          ],
          "name": "stdout"
        }
      ]
    },
    {
      "cell_type": "code",
      "metadata": {
        "id": "7yLkULD5cmX6"
      },
      "source": [
        ""
      ],
      "execution_count": 37,
      "outputs": []
    }
  ]
}