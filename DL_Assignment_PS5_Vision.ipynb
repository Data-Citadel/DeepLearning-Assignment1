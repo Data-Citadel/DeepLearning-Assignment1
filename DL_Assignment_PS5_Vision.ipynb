{
  "nbformat": 4,
  "nbformat_minor": 0,
  "metadata": {
    "colab": {
      "name": "DL_Assignment_PS5_Vision.ipynb",
      "provenance": [],
      "collapsed_sections": [],
      "authorship_tag": "ABX9TyOHefGDGzwTiZS+mDPcOLLh",
      "include_colab_link": true
    },
    "kernelspec": {
      "name": "python3",
      "display_name": "Python 3"
    },
    "accelerator": "GPU"
  },
  "cells": [
    {
      "cell_type": "markdown",
      "metadata": {
        "id": "view-in-github",
        "colab_type": "text"
      },
      "source": [
        "<a href=\"https://colab.research.google.com/github/Data-Citadel/DeepLearning-Assignment1/blob/main/DL_Assignment_PS5_Vision.ipynb\" target=\"_parent\"><img src=\"https://colab.research.google.com/assets/colab-badge.svg\" alt=\"Open In Colab\"/></a>"
      ]
    },
    {
      "cell_type": "markdown",
      "metadata": {
        "id": "SxA9iM1ICeWv"
      },
      "source": [
        ""
      ]
    },
    {
      "cell_type": "markdown",
      "metadata": {
        "id": "5bJ6JyQTzfCC"
      },
      "source": [
        "# Vision Dataset-MNIST Fashion Dataset\n",
        "\n"
      ]
    },
    {
      "cell_type": "markdown",
      "metadata": {
        "id": "mRkuoybiznpo"
      },
      "source": [
        "## 1. Import Libraries/Dataset"
      ]
    },
    {
      "cell_type": "code",
      "metadata": {
        "id": "zuFSDLhlxd3t"
      },
      "source": [
        "\n",
        "# Import tensorflow and keras library\n",
        "import tensorflow as tf\n",
        "\n",
        "from tensorflow import keras\n",
        "\n",
        "# Visualization packages\n",
        "import matplotlib.pyplot as plt\n",
        "import seaborn as sns\n",
        "import numpy as np\n",
        "\n",
        "from sklearn.model_selection import train_test_split\n",
        "from sklearn.metrics import confusion_matrix, classification_report\n",
        "# Time library\n",
        "import time\n",
        "\n",
        "# Seaborn style\n",
        "sns.set(style=\"whitegrid\", palette=\"muted\")"
      ],
      "execution_count": 39,
      "outputs": []
    },
    {
      "cell_type": "markdown",
      "metadata": {
        "id": "g_gHW2Cn1GjY"
      },
      "source": [
        "## 1.1 Load Dataset"
      ]
    },
    {
      "cell_type": "code",
      "metadata": {
        "id": "GrlwW-uxzxGd"
      },
      "source": [
        "# Load MNIST Fashion dataset from keras library\n",
        "fashion_data = keras.datasets.fashion_mnist\n",
        "\n",
        "# Destructuring the data into train and test\n",
        "(X_train_full, y_train_full), (X_test, y_test) = fashion_data.load_data()"
      ],
      "execution_count": 41,
      "outputs": []
    },
    {
      "cell_type": "markdown",
      "metadata": {
        "id": "wuT-5W224Afn"
      },
      "source": [
        "## 1.2 GPU Availability"
      ]
    },
    {
      "cell_type": "code",
      "metadata": {
        "id": "YOSiPZZb1wYJ",
        "outputId": "0b48d026-9c5d-4ee4-f228-6ce4cebe3c98",
        "colab": {
          "base_uri": "https://localhost:8080/",
          "height": 54
        }
      },
      "source": [
        "# Checking for GPU availability\n",
        "print(\"Is GPU enabled in this machine? \\n{}\".format(tf.config.list_physical_devices('GPU')))"
      ],
      "execution_count": 42,
      "outputs": [
        {
          "output_type": "stream",
          "text": [
            "Is GPU enabled in this machine? \n",
            "[PhysicalDevice(name='/physical_device:GPU:0', device_type='GPU')]\n"
          ],
          "name": "stdout"
        }
      ]
    },
    {
      "cell_type": "markdown",
      "metadata": {
        "id": "jHhIhpyS5XOT"
      },
      "source": [
        "## 2. Data Visualization\n",
        "\n",
        "### 2.1 Shape of Train and Test data"
      ]
    },
    {
      "cell_type": "code",
      "metadata": {
        "id": "W4SNX-mdu84W"
      },
      "source": [
        "class_names = [\"T-shirt/top\", \"Trouser\", \"Pullover\", \"Dress\", \"Coat\", \"Sandal\", \"Shirt\", \"Sneaker\", \"Bag\", \"Ankle boot\"]"
      ],
      "execution_count": 43,
      "outputs": []
    },
    {
      "cell_type": "code",
      "metadata": {
        "id": "WrKY88TZ3ijW",
        "outputId": "1741e027-4bac-4a9f-848f-e8ff160353db",
        "colab": {
          "base_uri": "https://localhost:8080/",
          "height": 54
        }
      },
      "source": [
        "print(\"Shape of Training Data : {}\".format(X_train_full.shape))\n",
        "print(\"Shape of Test Data : {}\".format(X_test.shape))"
      ],
      "execution_count": 44,
      "outputs": [
        {
          "output_type": "stream",
          "text": [
            "Shape of Training Data : (60000, 28, 28)\n",
            "Shape of Test Data : (10000, 28, 28)\n"
          ],
          "name": "stdout"
        }
      ]
    },
    {
      "cell_type": "code",
      "metadata": {
        "id": "cKoPP1jCJ5ba",
        "outputId": "b4da6e33-a1c4-4ea1-ffef-a9195293b6c8",
        "colab": {
          "base_uri": "https://localhost:8080/",
          "height": 35
        }
      },
      "source": [
        "# Number of classes\n",
        "np.unique(y_train_full)"
      ],
      "execution_count": 45,
      "outputs": [
        {
          "output_type": "execute_result",
          "data": {
            "text/plain": [
              "array([0, 1, 2, 3, 4, 5, 6, 7, 8, 9], dtype=uint8)"
            ]
          },
          "metadata": {
            "tags": []
          },
          "execution_count": 45
        }
      ]
    },
    {
      "cell_type": "markdown",
      "metadata": {
        "id": "s2iTJ14i6QCd"
      },
      "source": [
        "### 2.2 Plot image data"
      ]
    },
    {
      "cell_type": "code",
      "metadata": {
        "id": "bYnVueLJ5nAI",
        "outputId": "9867efa1-12da-458b-83b8-df3e7216411a",
        "colab": {
          "base_uri": "https://localhost:8080/",
          "height": 475
        }
      },
      "source": [
        "plt.figure(figsize=(10,8))\n",
        "\n",
        "for i in range(12):\n",
        "  plt.subplot(3,4, i+1)\n",
        "  plt.imshow(X_train_full[i])\n",
        "  index = y_train_full[i]\n",
        "  plt.title(class_names[index])\n",
        "  plt.xticks([])\n",
        "  plt.yticks([])\n",
        "\n",
        "plt.show()"
      ],
      "execution_count": 46,
      "outputs": [
        {
          "output_type": "display_data",
          "data": {
            "image/png": "[encoded data removed]",
            "text/plain": [
              "<Figure size 720x576 with 12 Axes>"
            ]
          },
          "metadata": {
            "tags": []
          }
        }
      ]
    },
    {
      "cell_type": "markdown",
      "metadata": {
        "id": "qQ5CH4cDyriH"
      },
      "source": [
        "## 3. Data Pre-Processing\n",
        "\n",
        "### 3.1 Process the image data\n",
        "\n"
      ]
    },
    {
      "cell_type": "code",
      "metadata": {
        "id": "yo523AToP5Bv"
      },
      "source": [
        "# X_train_full = X_train_full.reshape((60000, 28 * 28))\n",
        "# X_train_full = X_train_full.astype('float32') / 255\n",
        "\n",
        "# X_test = X_test.reshape((10000, 28 * 28))\n",
        "# X_test = X_test.astype('float32') / 255\n",
        "\n",
        "# Convert target labels to one-hot encoding matrix\n",
        "y_train_full = keras.utils.to_categorical(y_train_full)\n",
        "y_test = keras.utils.to_categorical(y_test)"
      ],
      "execution_count": 47,
      "outputs": []
    },
    {
      "cell_type": "markdown",
      "metadata": {
        "id": "iFTgbCiaP5gc"
      },
      "source": [
        "\n",
        "### 3.2 Split the data into Train, Holdout and Dev(test)"
      ]
    },
    {
      "cell_type": "code",
      "metadata": {
        "id": "HPgMY0hvvZd2"
      },
      "source": [
        "X_train, X_valid, y_train, y_valid = train_test_split(X_train_full, y_train_full, test_size=0.2, random_state=42)"
      ],
      "execution_count": 48,
      "outputs": []
    },
    {
      "cell_type": "code",
      "metadata": {
        "id": "YuicbsPky9Na",
        "outputId": "e3c94e61-b247-4241-9600-a9aba2b18278",
        "colab": {
          "base_uri": "https://localhost:8080/",
          "height": 54
        }
      },
      "source": [
        "print(\"Shape of Training set {}\".format(X_train.shape))\n",
        "print(\"Shape of Holdout set {}\".format(X_valid.shape))"
      ],
      "execution_count": 49,
      "outputs": [
        {
          "output_type": "stream",
          "text": [
            "Shape of Training set (48000, 28, 28)\n",
            "Shape of Holdout set (12000, 28, 28)\n"
          ],
          "name": "stdout"
        }
      ]
    },
    {
      "cell_type": "markdown",
      "metadata": {
        "id": "HzCjPW9f0ZUz"
      },
      "source": [
        "## 4. Model Building\n",
        "\n",
        "A function to construct a network with 3-Dense layers with appropriate input layer will be defined. "
      ]
    },
    {
      "cell_type": "code",
      "metadata": {
        "id": "qyyvv_i4zuJM"
      },
      "source": [
        "def build_model():\n",
        "  # L2 regularizer rate\n",
        "  l2_rate = 0.003 # 0.001 \n",
        "  dropout_rate = 0.3 # Dropout rate\n",
        "\n",
        "  model = keras.models.Sequential()\n",
        "\n",
        "  model.add(keras.layers.Input(shape=(28, 28, 1)))\n",
        "  model.add(keras.layers.Flatten())\n",
        "  model.add(keras.layers.Dense(256, activation='relu',\n",
        "                               kernel_regularizer=keras.regularizers.L2(l2_rate)))\n",
        "  model.add(keras.layers.Dropout(dropout_rate))\n",
        "  model.add(keras.layers.Dense(128, activation='relu',\n",
        "                            kernel_regularizer=keras.regularizers.L2(l2_rate)))\n",
        "  model.add(keras.layers.Dropout(dropout_rate))\n",
        "  model.add(keras.layers.Dense(64, activation='relu',\n",
        "                            kernel_regularizer=keras.regularizers.L2(l2_rate)))\n",
        "  model.add(keras.layers.Dropout(dropout_rate))\n",
        "  model.add(keras.layers.Dense(10, activation='softmax'))\n",
        "\n",
        "  return model\n"
      ],
      "execution_count": 105,
      "outputs": []
    },
    {
      "cell_type": "code",
      "metadata": {
        "id": "TdyuGRQG2p02"
      },
      "source": [
        "# Building a model\n",
        "ffnn_model = build_model()"
      ],
      "execution_count": 106,
      "outputs": []
    },
    {
      "cell_type": "code",
      "metadata": {
        "id": "rXXRKu0U2tlM",
        "outputId": "395987f6-71aa-42ea-e40e-26c413a046dd",
        "colab": {
          "base_uri": "https://localhost:8080/",
          "height": 454
        }
      },
      "source": [
        "ffnn_model.summary()"
      ],
      "execution_count": 107,
      "outputs": [
        {
          "output_type": "stream",
          "text": [
            "Model: \"sequential_6\"\n",
            "_________________________________________________________________\n",
            "Layer (type)                 Output Shape              Param #   \n",
            "=================================================================\n",
            "flatten_6 (Flatten)          (None, 784)               0         \n",
            "_________________________________________________________________\n",
            "dense_24 (Dense)             (None, 256)               200960    \n",
            "_________________________________________________________________\n",
            "dropout_18 (Dropout)         (None, 256)               0         \n",
            "_________________________________________________________________\n",
            "dense_25 (Dense)             (None, 128)               32896     \n",
            "_________________________________________________________________\n",
            "dropout_19 (Dropout)         (None, 128)               0         \n",
            "_________________________________________________________________\n",
            "dense_26 (Dense)             (None, 64)                8256      \n",
            "_________________________________________________________________\n",
            "dropout_20 (Dropout)         (None, 64)                0         \n",
            "_________________________________________________________________\n",
            "dense_27 (Dense)             (None, 10)                650       \n",
            "=================================================================\n",
            "Total params: 242,762\n",
            "Trainable params: 242,762\n",
            "Non-trainable params: 0\n",
            "_________________________________________________________________\n"
          ],
          "name": "stdout"
        }
      ]
    },
    {
      "cell_type": "markdown",
      "metadata": {
        "id": "Vlk6nPpFIcfM"
      },
      "source": [
        "## 5. Compile the model\n",
        "\n",
        "The model is compiled with the following parameters\n",
        "1. Loss Function - Categorical Cross Entropy\n",
        "2. Optimizer - ADAM with learning rate 0.0005\n",
        "3. Metrics - Accuracy"
      ]
    },
    {
      "cell_type": "code",
      "metadata": {
        "id": "OMMOzmNK3qUY"
      },
      "source": [
        "ffnn_model.compile(loss=keras.losses.CategoricalCrossentropy(),\n",
        "                  optimizer=keras.optimizers.Adam(learning_rate=0.00023),\n",
        "                  metrics=['accuracy'])"
      ],
      "execution_count": 108,
      "outputs": []
    },
    {
      "cell_type": "markdown",
      "metadata": {
        "id": "jLLIOWEhJXJU"
      },
      "source": [
        "## 6. Train Model\n",
        "\n",
        "The model will be trained by fitting the training and validation data. "
      ]
    },
    {
      "cell_type": "code",
      "metadata": {
        "id": "JB0GMTWIJRWG",
        "outputId": "ce707d38-ed74-4f81-9bb8-1597b4dd98c5",
        "colab": {
          "base_uri": "https://localhost:8080/",
          "height": 1000
        }
      },
      "source": [
        "epochs_run = 30\n",
        "batchsize = 128\n",
        "\n",
        "# start time\n",
        "start_time = time.perf_counter()\n",
        "\n",
        "# Fitting the data\n",
        "history = ffnn_model.fit(X_train, \n",
        "                         y_train, \n",
        "                         epochs=epochs_run, \n",
        "                         batch_size=batchsize,\n",
        "                         validation_data=(X_valid, y_valid), \n",
        "                         verbose=1)\n",
        "# Total time taken for training the given dataset\n",
        "elapsed = time.perf_counter() - start_time\n"
      ],
      "execution_count": 109,
      "outputs": [
        {
          "output_type": "stream",
          "text": [
            "Epoch 1/30\n",
            "375/375 [==============================] - 1s 3ms/step - loss: 14.5815 - accuracy: 0.3137 - val_loss: 3.3470 - val_accuracy: 0.4897\n",
            "Epoch 2/30\n",
            "375/375 [==============================] - 1s 3ms/step - loss: 3.8724 - accuracy: 0.4134 - val_loss: 3.1067 - val_accuracy: 0.5730\n",
            "Epoch 3/30\n",
            "375/375 [==============================] - 1s 3ms/step - loss: 3.4003 - accuracy: 0.4944 - val_loss: 2.9109 - val_accuracy: 0.5998\n",
            "Epoch 4/30\n",
            "375/375 [==============================] - 1s 3ms/step - loss: 3.1392 - accuracy: 0.5538 - val_loss: 2.7699 - val_accuracy: 0.6587\n",
            "Epoch 5/30\n",
            "375/375 [==============================] - 1s 3ms/step - loss: 2.9668 - accuracy: 0.5875 - val_loss: 2.6292 - val_accuracy: 0.6746\n",
            "Epoch 6/30\n",
            "375/375 [==============================] - 1s 3ms/step - loss: 2.8011 - accuracy: 0.6095 - val_loss: 2.5153 - val_accuracy: 0.6763\n",
            "Epoch 7/30\n",
            "375/375 [==============================] - 1s 3ms/step - loss: 2.6643 - accuracy: 0.6205 - val_loss: 2.4006 - val_accuracy: 0.6795\n",
            "Epoch 8/30\n",
            "375/375 [==============================] - 1s 3ms/step - loss: 2.5352 - accuracy: 0.6350 - val_loss: 2.2745 - val_accuracy: 0.7071\n",
            "Epoch 9/30\n",
            "375/375 [==============================] - 1s 3ms/step - loss: 2.4011 - accuracy: 0.6456 - val_loss: 2.1704 - val_accuracy: 0.7127\n",
            "Epoch 10/30\n",
            "375/375 [==============================] - 1s 3ms/step - loss: 2.2857 - accuracy: 0.6553 - val_loss: 2.0604 - val_accuracy: 0.7197\n",
            "Epoch 11/30\n",
            "375/375 [==============================] - 1s 3ms/step - loss: 2.1623 - accuracy: 0.6686 - val_loss: 1.9520 - val_accuracy: 0.7256\n",
            "Epoch 12/30\n",
            "375/375 [==============================] - 1s 3ms/step - loss: 2.0438 - accuracy: 0.6793 - val_loss: 1.8465 - val_accuracy: 0.7259\n",
            "Epoch 13/30\n",
            "375/375 [==============================] - 1s 3ms/step - loss: 1.8949 - accuracy: 0.7004 - val_loss: 1.7294 - val_accuracy: 0.7311\n",
            "Epoch 14/30\n",
            "375/375 [==============================] - 1s 3ms/step - loss: 1.7651 - accuracy: 0.7100 - val_loss: 1.6098 - val_accuracy: 0.7427\n",
            "Epoch 15/30\n",
            "375/375 [==============================] - 1s 3ms/step - loss: 1.6529 - accuracy: 0.7172 - val_loss: 1.5059 - val_accuracy: 0.7485\n",
            "Epoch 16/30\n",
            "375/375 [==============================] - 1s 3ms/step - loss: 1.5454 - accuracy: 0.7247 - val_loss: 1.4083 - val_accuracy: 0.7499\n",
            "Epoch 17/30\n",
            "375/375 [==============================] - 1s 3ms/step - loss: 1.4375 - accuracy: 0.7347 - val_loss: 1.3040 - val_accuracy: 0.7605\n",
            "Epoch 18/30\n",
            "375/375 [==============================] - 1s 3ms/step - loss: 1.3190 - accuracy: 0.7534 - val_loss: 1.1978 - val_accuracy: 0.7845\n",
            "Epoch 19/30\n",
            "375/375 [==============================] - 1s 3ms/step - loss: 1.2014 - accuracy: 0.7790 - val_loss: 1.0584 - val_accuracy: 0.8203\n",
            "Epoch 20/30\n",
            "375/375 [==============================] - 1s 3ms/step - loss: 1.1074 - accuracy: 0.7869 - val_loss: 0.9737 - val_accuracy: 0.8302\n",
            "Epoch 21/30\n",
            "375/375 [==============================] - 1s 3ms/step - loss: 1.0163 - accuracy: 0.8001 - val_loss: 0.8996 - val_accuracy: 0.8341\n",
            "Epoch 22/30\n",
            "375/375 [==============================] - 1s 3ms/step - loss: 0.9334 - accuracy: 0.8127 - val_loss: 0.8314 - val_accuracy: 0.8369\n",
            "Epoch 23/30\n",
            "375/375 [==============================] - 1s 3ms/step - loss: 0.8635 - accuracy: 0.8172 - val_loss: 0.7624 - val_accuracy: 0.8465\n",
            "Epoch 24/30\n",
            "375/375 [==============================] - 1s 3ms/step - loss: 0.8048 - accuracy: 0.8198 - val_loss: 0.7107 - val_accuracy: 0.8483\n",
            "Epoch 25/30\n",
            "375/375 [==============================] - 1s 3ms/step - loss: 0.7548 - accuracy: 0.8221 - val_loss: 0.6772 - val_accuracy: 0.8439\n",
            "Epoch 26/30\n",
            "375/375 [==============================] - 1s 3ms/step - loss: 0.7094 - accuracy: 0.8262 - val_loss: 0.6380 - val_accuracy: 0.8496\n",
            "Epoch 27/30\n",
            "375/375 [==============================] - 1s 3ms/step - loss: 0.6748 - accuracy: 0.8280 - val_loss: 0.6106 - val_accuracy: 0.8497\n",
            "Epoch 28/30\n",
            "375/375 [==============================] - 1s 3ms/step - loss: 0.6452 - accuracy: 0.8324 - val_loss: 0.5928 - val_accuracy: 0.8528\n",
            "Epoch 29/30\n",
            "375/375 [==============================] - 1s 3ms/step - loss: 0.6178 - accuracy: 0.8337 - val_loss: 0.5722 - val_accuracy: 0.8522\n",
            "Epoch 30/30\n",
            "375/375 [==============================] - 1s 3ms/step - loss: 0.5988 - accuracy: 0.8368 - val_loss: 0.5490 - val_accuracy: 0.8547\n"
          ],
          "name": "stdout"
        }
      ]
    },
    {
      "cell_type": "code",
      "metadata": {
        "id": "pheCdT3MJvZX",
        "outputId": "8a66229f-89b5-4024-dd46-61e5bfe8cb6f",
        "colab": {
          "base_uri": "https://localhost:8080/",
          "height": 90
        }
      },
      "source": [
        "val_loss, val_acc = ffnn_model.evaluate(X_valid, y_valid)\n",
        "\n",
        "print(\"\\n\\nValidation Loss {:.3f} and Validation Accuracy {:.2f}%\".format(val_loss, val_acc))"
      ],
      "execution_count": 110,
      "outputs": [
        {
          "output_type": "stream",
          "text": [
            "375/375 [==============================] - 1s 2ms/step - loss: 0.5490 - accuracy: 0.8547\n",
            "\n",
            "\n",
            "Validation Loss 0.549 and Validation Accuracy 0.85%\n"
          ],
          "name": "stdout"
        }
      ]
    },
    {
      "cell_type": "markdown",
      "metadata": {
        "id": "2iRKdteDE4AI"
      },
      "source": [
        "### 6.2 Plot loss and accuracy history graphs."
      ]
    },
    {
      "cell_type": "code",
      "metadata": {
        "id": "kw-AfoT7FAdN",
        "outputId": "a119f1fd-5a89-4149-ef83-236b001d5a56",
        "colab": {
          "base_uri": "https://localhost:8080/",
          "height": 1000
        }
      },
      "source": [
        "acc = history.history['accuracy']\n",
        "val_acc = history.history['val_accuracy']\n",
        "# Loss details\n",
        "loss = history.history['loss']\n",
        "val_loss = history.history['val_loss']\n",
        "\n",
        "epochs = range(1, len(acc) + 1)\n",
        "\n",
        "plt.figure(figsize=(10,8))\n",
        "plt.plot(epochs, acc, label=\"Training Accuracy\")\n",
        "plt.plot(epochs, val_acc, label=\"Validation Accuracy\")\n",
        "plt.title(\"Training Accuracy Plot\")\n",
        "plt.xlabel(\"Epochs\")\n",
        "plt.ylabel(\"Accuracy\")\n",
        "plt.legend()\n",
        "plt.show()\n",
        "\n",
        "# Loss and Validation loss plot\n",
        "plt.figure(figsize=(10,8))\n",
        "plt.plot(epochs, loss, label=\"Training Loss\")\n",
        "plt.plot(epochs, val_loss, label=\"Validation Loss\")\n",
        "plt.title(\"Training Loss Plot\")\n",
        "plt.xlabel(\"Epochs\")\n",
        "plt.ylabel(\"Loss\")\n",
        "plt.legend()\n",
        "plt.show()"
      ],
      "execution_count": 111,
      "outputs": [
        {
          "output_type": "display_data",
          "data": {
            "image/png": "[encoded data removed]",
            "text/plain": [
              "<Figure size 720x576 with 1 Axes>"
            ]
          },
          "metadata": {
            "tags": []
          }
        },
        {
          "output_type": "display_data",
          "data": {
            "image/png": "[encoded data removed]",
            "text/plain": [
              "<Figure size 720x576 with 1 Axes>"
            ]
          },
          "metadata": {
            "tags": []
          }
        }
      ]
    },
    {
      "cell_type": "markdown",
      "metadata": {
        "id": "3pYTwDQ8Gj6J"
      },
      "source": [
        "### Total time taken for training"
      ]
    },
    {
      "cell_type": "code",
      "metadata": {
        "id": "OHTXpZOSGoMm",
        "outputId": "700964d0-4afb-4bf2-b5c0-0753699d3bbc",
        "colab": {
          "base_uri": "https://localhost:8080/",
          "height": 72
        }
      },
      "source": [
        "print(\"==\"*40)\n",
        "print(\"Total time taken for training {:.2f} seconds\".format(elapsed))\n",
        "print(\"==\"*40)"
      ],
      "execution_count": 112,
      "outputs": [
        {
          "output_type": "stream",
          "text": [
            "================================================================================\n",
            "Total time taken for training 34.73 seconds\n",
            "================================================================================\n"
          ],
          "name": "stdout"
        }
      ]
    },
    {
      "cell_type": "markdown",
      "metadata": {
        "id": "xUbZ7p_baLLN"
      },
      "source": [
        "## 7. Model Evaluation\n",
        "\n",
        "### a. Score with Test data\n"
      ]
    },
    {
      "cell_type": "code",
      "metadata": {
        "id": "1l0zvGCrSwNM"
      },
      "source": [
        "y_preds = ffnn_model.predict(X_test)"
      ],
      "execution_count": 113,
      "outputs": []
    },
    {
      "cell_type": "code",
      "metadata": {
        "id": "_aXT1lbxcvbe"
      },
      "source": [
        "# Converting Logits to Class code using argmax()\n",
        "y_hat = tf.argmax(y_preds, 1)\n",
        "rounded_test_labels = tf.argmax(y_test, 1)"
      ],
      "execution_count": 114,
      "outputs": []
    },
    {
      "cell_type": "code",
      "metadata": {
        "id": "wYMDCRlg-8P2",
        "outputId": "389405ba-3625-449c-b8d7-ac0664afba48",
        "colab": {
          "base_uri": "https://localhost:8080/",
          "height": 35
        }
      },
      "source": [
        "y_hat.numpy()"
      ],
      "execution_count": 115,
      "outputs": [
        {
          "output_type": "execute_result",
          "data": {
            "text/plain": [
              "array([9, 2, 1, ..., 8, 1, 5])"
            ]
          },
          "metadata": {
            "tags": []
          },
          "execution_count": 115
        }
      ]
    },
    {
      "cell_type": "code",
      "metadata": {
        "id": "yVpZ6yOgagyv",
        "outputId": "3b7c6852-1dae-47f9-f39b-a27b5e445466",
        "colab": {
          "base_uri": "https://localhost:8080/",
          "height": 345
        }
      },
      "source": [
        "print(\"Confusion Matrix: \\n {}\".format(classification_report(rounded_test_labels, y_hat.numpy())))"
      ],
      "execution_count": 116,
      "outputs": [
        {
          "output_type": "stream",
          "text": [
            "Confusion Matrix: \n",
            "               precision    recall  f1-score   support\n",
            "\n",
            "           0       0.79      0.84      0.82      1000\n",
            "           1       0.98      0.96      0.97      1000\n",
            "           2       0.77      0.70      0.73      1000\n",
            "           3       0.88      0.87      0.87      1000\n",
            "           4       0.67      0.82      0.74      1000\n",
            "           5       0.98      0.94      0.96      1000\n",
            "           6       0.63      0.53      0.58      1000\n",
            "           7       0.94      0.94      0.94      1000\n",
            "           8       0.96      0.96      0.96      1000\n",
            "           9       0.92      0.97      0.94      1000\n",
            "\n",
            "    accuracy                           0.85     10000\n",
            "   macro avg       0.85      0.85      0.85     10000\n",
            "weighted avg       0.85      0.85      0.85     10000\n",
            "\n"
          ],
          "name": "stdout"
        }
      ]
    },
    {
      "cell_type": "code",
      "metadata": {
        "id": "7yLkULD5cmX6"
      },
      "source": [
        ""
      ],
      "execution_count": 64,
      "outputs": []
    }
  ]
}